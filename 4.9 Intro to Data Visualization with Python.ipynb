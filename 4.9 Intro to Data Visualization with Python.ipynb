{
 "cells": [
  {
   "cell_type": "markdown",
   "id": "94f1c86b",
   "metadata": {},
   "source": [
    "## 4.9 Intro to Data Visualization with Python"
   ]
  },
  {
   "cell_type": "markdown",
   "id": "e7ea5d02",
   "metadata": {},
   "source": [
    "This script contains the following points:\n",
    "\n",
    "    01. Improting Libraries\n",
    "    02. Importing CSV/PKL files\n",
    "    03. Following along with exercise 4.8\n",
    "    04. Work for task submit\n",
    "    05. Exporting to pickle format"
   ]
  },
  {
   "cell_type": "markdown",
   "id": "9826f90c",
   "metadata": {},
   "source": [
    "## 01. Importing libraries"
   ]
  },
  {
   "cell_type": "code",
   "execution_count": 1,
   "id": "dcd9b6c2",
   "metadata": {},
   "outputs": [],
   "source": [
    "# Import libraries\n",
    "\n",
    "import pandas as pd\n",
    "import numpy as np\n",
    "import os\n",
    "import matplotlib.pyplot as plt\n",
    "import seaborn as sns\n",
    "import scipy"
   ]
  },
  {
   "cell_type": "markdown",
   "id": "127712d8",
   "metadata": {},
   "source": [
    "## 02. Importing CSV/PKL files"
   ]
  },
  {
   "cell_type": "code",
   "execution_count": 2,
   "id": "e6955d27",
   "metadata": {},
   "outputs": [],
   "source": [
    "# Identifying pathway for import for ease with multiple imports\n",
    "path = r'C:\\Users\\Chris Arnold\\Documents\\Instacart Basket Analysis'"
   ]
  },
  {
   "cell_type": "code",
   "execution_count": 3,
   "id": "46a353dd",
   "metadata": {},
   "outputs": [],
   "source": [
    "# Importing order_products_merged.pkl\n",
    "ords_prods_merge = pd.read_pickle(os.path.join(path, '02 Data', 'Prepared Data', 'ords_prods_merge_4.8.pkl'))"
   ]
  },
  {
   "cell_type": "markdown",
   "id": "dab91f70",
   "metadata": {},
   "source": [
    "## 03. Following along with 4.9"
   ]
  },
  {
   "cell_type": "markdown",
   "id": "c48f2ce4",
   "metadata": {},
   "source": [
    "### Creating Bar Charts"
   ]
  },
  {
   "cell_type": "code",
   "execution_count": 5,
   "id": "179d636d",
   "metadata": {},
   "outputs": [
    {
     "data": {
      "text/plain": [
       "<AxesSubplot:>"
      ]
     },
     "execution_count": 5,
     "metadata": {},
     "output_type": "execute_result"
    },
    {
     "data": {
      "image/png": "[encoded data removed]",
      "text/plain": [
       "<Figure size 432x288 with 1 Axes>"
      ]
     },
     "metadata": {
      "needs_background": "light"
     },
     "output_type": "display_data"
    }
   ],
   "source": [
    "#plotting bar chart of orders day of the week\n",
    "ords_prods_merge['order_dow'].value_counts().plot.bar()"
   ]
  },
  {
   "cell_type": "code",
   "execution_count": 6,
   "id": "8d86e607",
   "metadata": {},
   "outputs": [
    {
     "data": {
      "image/png": "[encoded data removed]",
      "text/plain": [
       "<Figure size 432x288 with 1 Axes>"
      ]
     },
     "metadata": {
      "needs_background": "light"
     },
     "output_type": "display_data"
    }
   ],
   "source": [
    "# using sort index on the same command\n",
    "bar1 = ords_prods_merge['order_dow'].value_counts().sort_index().plot.bar()"
   ]
  },
  {
   "cell_type": "code",
   "execution_count": 7,
   "id": "8772f80e",
   "metadata": {},
   "outputs": [
    {
     "data": {
      "text/plain": [
       "0    6204404\n",
       "1    5660456\n",
       "6    4496635\n",
       "2    4213986\n",
       "5    4205906\n",
       "3    3840701\n",
       "4    3783953\n",
       "Name: order_dow, dtype: int64"
      ]
     },
     "execution_count": 7,
     "metadata": {},
     "output_type": "execute_result"
    }
   ],
   "source": [
    "#printing frequencies\n",
    "ords_prods_merge['order_dow'].value_counts()"
   ]
  },
  {
   "cell_type": "code",
   "execution_count": 8,
   "id": "316a682f",
   "metadata": {},
   "outputs": [
    {
     "data": {
      "text/plain": [
       "0    6204404\n",
       "1    5660456\n",
       "2    4213986\n",
       "3    3840701\n",
       "4    3783953\n",
       "5    4205906\n",
       "6    4496635\n",
       "Name: order_dow, dtype: int64"
      ]
     },
     "execution_count": 8,
     "metadata": {},
     "output_type": "execute_result"
    }
   ],
   "source": [
    "# printing frequencies using sort index\n",
    "ords_prods_merge['order_dow'].value_counts().sort_index()"
   ]
  },
  {
   "cell_type": "code",
   "execution_count": 9,
   "id": "740685cb",
   "metadata": {},
   "outputs": [
    {
     "data": {
      "image/png": "[encoded data removed]",
      "text/plain": [
       "<Figure size 432x288 with 1 Axes>"
      ]
     },
     "metadata": {
      "needs_background": "light"
     },
     "output_type": "display_data"
    }
   ],
   "source": [
    "# adding colors to a bar chart\n",
    "bar2 = ords_prods_merge['order_dow'].value_counts().plot.bar(color =['red', 'orange', 'yellow', 'green', 'blue', 'indigo', 'violet'])"
   ]
  },
  {
   "cell_type": "markdown",
   "id": "ef2cedf7",
   "metadata": {},
   "source": [
    "### Exporting charts"
   ]
  },
  {
   "cell_type": "code",
   "execution_count": 17,
   "id": "b99ed495",
   "metadata": {},
   "outputs": [],
   "source": [
    "# Saving 'bar' created above \n",
    "bar.figure.savefig(os.path.join(path, '04 Analysis','Visualizations', 'bar_orders_dow.png'))"
   ]
  },
  {
   "cell_type": "markdown",
   "id": "490e0567",
   "metadata": {},
   "source": [
    "### Creating Histograms and Scatterplots"
   ]
  },
  {
   "cell_type": "code",
   "execution_count": 18,
   "id": "0102e752",
   "metadata": {},
   "outputs": [
    {
     "data": {
      "text/plain": [
       "<AxesSubplot:ylabel='Frequency'>"
      ]
     },
     "execution_count": 18,
     "metadata": {},
     "output_type": "execute_result"
    },
    {
     "data": {
      "image/png": "[encoded data removed]",
      "text/plain": [
       "<Figure size 432x288 with 1 Axes>"
      ]
     },
     "metadata": {
      "needs_background": "light"
     },
     "output_type": "display_data"
    }
   ],
   "source": [
    "# Creating a histogram of the prices column\n",
    "ords_prods_merge['prices'].plot.hist(bins = 25)"
   ]
  },
  {
   "cell_type": "markdown",
   "id": "0c40ce81",
   "metadata": {},
   "source": [
    "##Found issue must fix##"
   ]
  },
  {
   "cell_type": "code",
   "execution_count": 19,
   "id": "ac498b5b",
   "metadata": {},
   "outputs": [
    {
     "data": {
      "text/plain": [
       "count    3.240604e+07\n",
       "mean     1.198004e+01\n",
       "std      4.956464e+02\n",
       "min      1.000000e+00\n",
       "25%      4.200000e+00\n",
       "50%      7.400000e+00\n",
       "75%      1.130000e+01\n",
       "max      9.999900e+04\n",
       "Name: prices, dtype: float64"
      ]
     },
     "execution_count": 19,
     "metadata": {},
     "output_type": "execute_result"
    }
   ],
   "source": [
    "# describing the column prices\n",
    "ords_prods_merge['prices'].describe()"
   ]
  },
  {
   "cell_type": "markdown",
   "id": "aa17c2cf",
   "metadata": {},
   "source": [
    "Looking at a scatter plot to explore further"
   ]
  },
  {
   "cell_type": "code",
   "execution_count": 20,
   "id": "600a1895",
   "metadata": {},
   "outputs": [
    {
     "data": {
      "text/plain": [
       "<AxesSubplot:xlabel='prices', ylabel='prices'>"
      ]
     },
     "execution_count": 20,
     "metadata": {},
     "output_type": "execute_result"
    },
    {
     "data": {
      "image/png": "[encoded data removed]",
      "text/plain": [
       "<Figure size 432x288 with 1 Axes>"
      ]
     },
     "metadata": {
      "needs_background": "light"
     },
     "output_type": "display_data"
    }
   ],
   "source": [
    "sns.scatterplot(x = 'prices', y = 'prices',data = ords_prods_merge)"
   ]
  },
  {
   "cell_type": "code",
   "execution_count": 21,
   "id": "436c56fb",
   "metadata": {},
   "outputs": [
    {
     "data": {
      "text/html": [
       "<div>\n",
       "<style scoped>\n",
       "    .dataframe tbody tr th:only-of-type {\n",
       "        vertical-align: middle;\n",
       "    }\n",
       "\n",
       "    .dataframe tbody tr th {\n",
       "        vertical-align: top;\n",
       "    }\n",
       "\n",
       "    .dataframe thead th {\n",
       "        text-align: right;\n",
       "    }\n",
       "</style>\n",
       "<table border=\"1\" class=\"dataframe\">\n",
       "  <thead>\n",
       "    <tr style=\"text-align: right;\">\n",
       "      <th></th>\n",
       "      <th>order_id</th>\n",
       "      <th>user_id</th>\n",
       "      <th>eval_set</th>\n",
       "      <th>order_number</th>\n",
       "      <th>order_dow</th>\n",
       "      <th>order_hour_of_day</th>\n",
       "      <th>days_since_prior_order</th>\n",
       "      <th>product_id</th>\n",
       "      <th>add_to_cart_order</th>\n",
       "      <th>reordered</th>\n",
       "      <th>...</th>\n",
       "      <th>busiest_day</th>\n",
       "      <th>busiest_days</th>\n",
       "      <th>busiest_period_of_day</th>\n",
       "      <th>max_order</th>\n",
       "      <th>loyalty_flag</th>\n",
       "      <th>Total_spent</th>\n",
       "      <th>Mean_prices</th>\n",
       "      <th>Spender_type</th>\n",
       "      <th>Median_days_since_prior_order</th>\n",
       "      <th>Customer_frequency</th>\n",
       "    </tr>\n",
       "  </thead>\n",
       "  <tbody>\n",
       "    <tr>\n",
       "      <th>10030345</th>\n",
       "      <td>912404</td>\n",
       "      <td>17</td>\n",
       "      <td>prior</td>\n",
       "      <td>12</td>\n",
       "      <td>2</td>\n",
       "      <td>14</td>\n",
       "      <td>5.0</td>\n",
       "      <td>21553</td>\n",
       "      <td>5</td>\n",
       "      <td>0</td>\n",
       "      <td>...</td>\n",
       "      <td>Regularly busy</td>\n",
       "      <td>Regularly busy</td>\n",
       "      <td>Most Orders</td>\n",
       "      <td>40</td>\n",
       "      <td>Regular customer</td>\n",
       "      <td>14900.0</td>\n",
       "      <td>108.648299</td>\n",
       "      <td>High_spender</td>\n",
       "      <td>5.0</td>\n",
       "      <td>Frequent_customer</td>\n",
       "    </tr>\n",
       "    <tr>\n",
       "      <th>10030346</th>\n",
       "      <td>603376</td>\n",
       "      <td>17</td>\n",
       "      <td>prior</td>\n",
       "      <td>22</td>\n",
       "      <td>6</td>\n",
       "      <td>16</td>\n",
       "      <td>4.0</td>\n",
       "      <td>21553</td>\n",
       "      <td>3</td>\n",
       "      <td>1</td>\n",
       "      <td>...</td>\n",
       "      <td>Regularly busy</td>\n",
       "      <td>Regularly busy</td>\n",
       "      <td>Most Orders</td>\n",
       "      <td>40</td>\n",
       "      <td>Regular customer</td>\n",
       "      <td>14900.0</td>\n",
       "      <td>108.648299</td>\n",
       "      <td>High_spender</td>\n",
       "      <td>5.0</td>\n",
       "      <td>Frequent_customer</td>\n",
       "    </tr>\n",
       "    <tr>\n",
       "      <th>10030347</th>\n",
       "      <td>3264360</td>\n",
       "      <td>135</td>\n",
       "      <td>prior</td>\n",
       "      <td>2</td>\n",
       "      <td>2</td>\n",
       "      <td>21</td>\n",
       "      <td>13.0</td>\n",
       "      <td>21553</td>\n",
       "      <td>6</td>\n",
       "      <td>0</td>\n",
       "      <td>...</td>\n",
       "      <td>Regularly busy</td>\n",
       "      <td>Regularly busy</td>\n",
       "      <td>Average Orders</td>\n",
       "      <td>4</td>\n",
       "      <td>New customer</td>\n",
       "      <td>14900.0</td>\n",
       "      <td>1154.792308</td>\n",
       "      <td>High_spender</td>\n",
       "      <td>12.0</td>\n",
       "      <td>Regular_customer</td>\n",
       "    </tr>\n",
       "    <tr>\n",
       "      <th>10030348</th>\n",
       "      <td>892534</td>\n",
       "      <td>135</td>\n",
       "      <td>prior</td>\n",
       "      <td>3</td>\n",
       "      <td>0</td>\n",
       "      <td>8</td>\n",
       "      <td>12.0</td>\n",
       "      <td>21553</td>\n",
       "      <td>3</td>\n",
       "      <td>1</td>\n",
       "      <td>...</td>\n",
       "      <td>Busiest day</td>\n",
       "      <td>Busiest days</td>\n",
       "      <td>Average Orders</td>\n",
       "      <td>4</td>\n",
       "      <td>New customer</td>\n",
       "      <td>14900.0</td>\n",
       "      <td>1154.792308</td>\n",
       "      <td>High_spender</td>\n",
       "      <td>12.0</td>\n",
       "      <td>Regular_customer</td>\n",
       "    </tr>\n",
       "    <tr>\n",
       "      <th>10030349</th>\n",
       "      <td>229704</td>\n",
       "      <td>342</td>\n",
       "      <td>prior</td>\n",
       "      <td>8</td>\n",
       "      <td>1</td>\n",
       "      <td>19</td>\n",
       "      <td>30.0</td>\n",
       "      <td>21553</td>\n",
       "      <td>9</td>\n",
       "      <td>0</td>\n",
       "      <td>...</td>\n",
       "      <td>Regularly busy</td>\n",
       "      <td>Regularly busy</td>\n",
       "      <td>Average Orders</td>\n",
       "      <td>16</td>\n",
       "      <td>Regular customer</td>\n",
       "      <td>14900.0</td>\n",
       "      <td>114.426619</td>\n",
       "      <td>High_spender</td>\n",
       "      <td>23.0</td>\n",
       "      <td>Non_frequent_customer</td>\n",
       "    </tr>\n",
       "    <tr>\n",
       "      <th>...</th>\n",
       "      <td>...</td>\n",
       "      <td>...</td>\n",
       "      <td>...</td>\n",
       "      <td>...</td>\n",
       "      <td>...</td>\n",
       "      <td>...</td>\n",
       "      <td>...</td>\n",
       "      <td>...</td>\n",
       "      <td>...</td>\n",
       "      <td>...</td>\n",
       "      <td>...</td>\n",
       "      <td>...</td>\n",
       "      <td>...</td>\n",
       "      <td>...</td>\n",
       "      <td>...</td>\n",
       "      <td>...</td>\n",
       "      <td>...</td>\n",
       "      <td>...</td>\n",
       "      <td>...</td>\n",
       "      <td>...</td>\n",
       "      <td>...</td>\n",
       "    </tr>\n",
       "    <tr>\n",
       "      <th>29167287</th>\n",
       "      <td>2249946</td>\n",
       "      <td>204099</td>\n",
       "      <td>prior</td>\n",
       "      <td>29</td>\n",
       "      <td>0</td>\n",
       "      <td>8</td>\n",
       "      <td>4.0</td>\n",
       "      <td>33664</td>\n",
       "      <td>1</td>\n",
       "      <td>0</td>\n",
       "      <td>...</td>\n",
       "      <td>Busiest day</td>\n",
       "      <td>Busiest days</td>\n",
       "      <td>Average Orders</td>\n",
       "      <td>39</td>\n",
       "      <td>Regular customer</td>\n",
       "      <td>99999.0</td>\n",
       "      <td>1106.743956</td>\n",
       "      <td>High_spender</td>\n",
       "      <td>4.0</td>\n",
       "      <td>Frequent_customer</td>\n",
       "    </tr>\n",
       "    <tr>\n",
       "      <th>29167288</th>\n",
       "      <td>2363282</td>\n",
       "      <td>204099</td>\n",
       "      <td>prior</td>\n",
       "      <td>31</td>\n",
       "      <td>0</td>\n",
       "      <td>9</td>\n",
       "      <td>2.0</td>\n",
       "      <td>33664</td>\n",
       "      <td>1</td>\n",
       "      <td>1</td>\n",
       "      <td>...</td>\n",
       "      <td>Busiest day</td>\n",
       "      <td>Busiest days</td>\n",
       "      <td>Average Orders</td>\n",
       "      <td>39</td>\n",
       "      <td>Regular customer</td>\n",
       "      <td>99999.0</td>\n",
       "      <td>1106.743956</td>\n",
       "      <td>High_spender</td>\n",
       "      <td>4.0</td>\n",
       "      <td>Frequent_customer</td>\n",
       "    </tr>\n",
       "    <tr>\n",
       "      <th>29167289</th>\n",
       "      <td>3181945</td>\n",
       "      <td>204395</td>\n",
       "      <td>prior</td>\n",
       "      <td>13</td>\n",
       "      <td>3</td>\n",
       "      <td>15</td>\n",
       "      <td>8.0</td>\n",
       "      <td>33664</td>\n",
       "      <td>25</td>\n",
       "      <td>0</td>\n",
       "      <td>...</td>\n",
       "      <td>Regularly busy</td>\n",
       "      <td>Slowest days</td>\n",
       "      <td>Most Orders</td>\n",
       "      <td>15</td>\n",
       "      <td>Regular customer</td>\n",
       "      <td>99999.0</td>\n",
       "      <td>451.153540</td>\n",
       "      <td>High_spender</td>\n",
       "      <td>5.0</td>\n",
       "      <td>Frequent_customer</td>\n",
       "    </tr>\n",
       "    <tr>\n",
       "      <th>29167290</th>\n",
       "      <td>2486215</td>\n",
       "      <td>205227</td>\n",
       "      <td>prior</td>\n",
       "      <td>7</td>\n",
       "      <td>3</td>\n",
       "      <td>20</td>\n",
       "      <td>4.0</td>\n",
       "      <td>33664</td>\n",
       "      <td>8</td>\n",
       "      <td>0</td>\n",
       "      <td>...</td>\n",
       "      <td>Regularly busy</td>\n",
       "      <td>Slowest days</td>\n",
       "      <td>Average Orders</td>\n",
       "      <td>12</td>\n",
       "      <td>Regular customer</td>\n",
       "      <td>99999.0</td>\n",
       "      <td>1178.381871</td>\n",
       "      <td>High_spender</td>\n",
       "      <td>12.0</td>\n",
       "      <td>Regular_customer</td>\n",
       "    </tr>\n",
       "    <tr>\n",
       "      <th>29167291</th>\n",
       "      <td>2232716</td>\n",
       "      <td>205227</td>\n",
       "      <td>prior</td>\n",
       "      <td>10</td>\n",
       "      <td>0</td>\n",
       "      <td>11</td>\n",
       "      <td>4.0</td>\n",
       "      <td>33664</td>\n",
       "      <td>23</td>\n",
       "      <td>1</td>\n",
       "      <td>...</td>\n",
       "      <td>Busiest day</td>\n",
       "      <td>Busiest days</td>\n",
       "      <td>Most Orders</td>\n",
       "      <td>12</td>\n",
       "      <td>Regular customer</td>\n",
       "      <td>99999.0</td>\n",
       "      <td>1178.381871</td>\n",
       "      <td>High_spender</td>\n",
       "      <td>12.0</td>\n",
       "      <td>Regular_customer</td>\n",
       "    </tr>\n",
       "  </tbody>\n",
       "</table>\n",
       "<p>5127 rows × 28 columns</p>\n",
       "</div>"
      ],
      "text/plain": [
       "          order_id  user_id eval_set  order_number  order_dow  \\\n",
       "10030345    912404       17    prior            12          2   \n",
       "10030346    603376       17    prior            22          6   \n",
       "10030347   3264360      135    prior             2          2   \n",
       "10030348    892534      135    prior             3          0   \n",
       "10030349    229704      342    prior             8          1   \n",
       "...            ...      ...      ...           ...        ...   \n",
       "29167287   2249946   204099    prior            29          0   \n",
       "29167288   2363282   204099    prior            31          0   \n",
       "29167289   3181945   204395    prior            13          3   \n",
       "29167290   2486215   205227    prior             7          3   \n",
       "29167291   2232716   205227    prior            10          0   \n",
       "\n",
       "          order_hour_of_day  days_since_prior_order  product_id  \\\n",
       "10030345                 14                     5.0       21553   \n",
       "10030346                 16                     4.0       21553   \n",
       "10030347                 21                    13.0       21553   \n",
       "10030348                  8                    12.0       21553   \n",
       "10030349                 19                    30.0       21553   \n",
       "...                     ...                     ...         ...   \n",
       "29167287                  8                     4.0       33664   \n",
       "29167288                  9                     2.0       33664   \n",
       "29167289                 15                     8.0       33664   \n",
       "29167290                 20                     4.0       33664   \n",
       "29167291                 11                     4.0       33664   \n",
       "\n",
       "          add_to_cart_order  reordered  ...     busiest_day    busiest_days  \\\n",
       "10030345                  5          0  ...  Regularly busy  Regularly busy   \n",
       "10030346                  3          1  ...  Regularly busy  Regularly busy   \n",
       "10030347                  6          0  ...  Regularly busy  Regularly busy   \n",
       "10030348                  3          1  ...     Busiest day    Busiest days   \n",
       "10030349                  9          0  ...  Regularly busy  Regularly busy   \n",
       "...                     ...        ...  ...             ...             ...   \n",
       "29167287                  1          0  ...     Busiest day    Busiest days   \n",
       "29167288                  1          1  ...     Busiest day    Busiest days   \n",
       "29167289                 25          0  ...  Regularly busy    Slowest days   \n",
       "29167290                  8          0  ...  Regularly busy    Slowest days   \n",
       "29167291                 23          1  ...     Busiest day    Busiest days   \n",
       "\n",
       "         busiest_period_of_day  max_order      loyalty_flag  Total_spent  \\\n",
       "10030345           Most Orders         40  Regular customer      14900.0   \n",
       "10030346           Most Orders         40  Regular customer      14900.0   \n",
       "10030347        Average Orders          4      New customer      14900.0   \n",
       "10030348        Average Orders          4      New customer      14900.0   \n",
       "10030349        Average Orders         16  Regular customer      14900.0   \n",
       "...                        ...        ...               ...          ...   \n",
       "29167287        Average Orders         39  Regular customer      99999.0   \n",
       "29167288        Average Orders         39  Regular customer      99999.0   \n",
       "29167289           Most Orders         15  Regular customer      99999.0   \n",
       "29167290        Average Orders         12  Regular customer      99999.0   \n",
       "29167291           Most Orders         12  Regular customer      99999.0   \n",
       "\n",
       "          Mean_prices  Spender_type Median_days_since_prior_order  \\\n",
       "10030345   108.648299  High_spender                           5.0   \n",
       "10030346   108.648299  High_spender                           5.0   \n",
       "10030347  1154.792308  High_spender                          12.0   \n",
       "10030348  1154.792308  High_spender                          12.0   \n",
       "10030349   114.426619  High_spender                          23.0   \n",
       "...               ...           ...                           ...   \n",
       "29167287  1106.743956  High_spender                           4.0   \n",
       "29167288  1106.743956  High_spender                           4.0   \n",
       "29167289   451.153540  High_spender                           5.0   \n",
       "29167290  1178.381871  High_spender                          12.0   \n",
       "29167291  1178.381871  High_spender                          12.0   \n",
       "\n",
       "             Customer_frequency  \n",
       "10030345      Frequent_customer  \n",
       "10030346      Frequent_customer  \n",
       "10030347       Regular_customer  \n",
       "10030348       Regular_customer  \n",
       "10030349  Non_frequent_customer  \n",
       "...                         ...  \n",
       "29167287      Frequent_customer  \n",
       "29167288      Frequent_customer  \n",
       "29167289      Frequent_customer  \n",
       "29167290       Regular_customer  \n",
       "29167291       Regular_customer  \n",
       "\n",
       "[5127 rows x 28 columns]"
      ]
     },
     "execution_count": 21,
     "metadata": {},
     "output_type": "execute_result"
    }
   ],
   "source": [
    "# Diving a little deeper with the loc function to find prices over 1\n",
    "ords_prods_merge.loc[ords_prods_merge['prices'] > 100]"
   ]
  },
  {
   "cell_type": "code",
   "execution_count": 22,
   "id": "71b00c27",
   "metadata": {},
   "outputs": [],
   "source": [
    "# Marking the above prices as missing\n",
    "ords_prods_merge.loc[ords_prods_merge['prices'] >100, 'prices'] = np.nan"
   ]
  },
  {
   "cell_type": "code",
   "execution_count": 23,
   "id": "6805dcdd",
   "metadata": {},
   "outputs": [
    {
     "data": {
      "text/plain": [
       "25.0"
      ]
     },
     "execution_count": 23,
     "metadata": {},
     "output_type": "execute_result"
    }
   ],
   "source": [
    "#Checking the new max value of prices\n",
    "ords_prods_merge['prices'].max()"
   ]
  },
  {
   "cell_type": "code",
   "execution_count": 24,
   "id": "4a9e609b",
   "metadata": {},
   "outputs": [
    {
     "data": {
      "image/png": "[encoded data removed]",
      "text/plain": [
       "<Figure size 432x288 with 1 Axes>"
      ]
     },
     "metadata": {
      "needs_background": "light"
     },
     "output_type": "display_data"
    }
   ],
   "source": [
    "#Now that this has been fixed, lets see the histogram again\n",
    "hist = ords_prods_merge['prices'].plot.hist(bins = 25)"
   ]
  },
  {
   "cell_type": "code",
   "execution_count": 25,
   "id": "6a242503",
   "metadata": {},
   "outputs": [
    {
     "data": {
      "image/png": "[encoded data removed]",
      "text/plain": [
       "<Figure size 432x288 with 1 Axes>"
      ]
     },
     "metadata": {
      "needs_background": "light"
     },
     "output_type": "display_data"
    }
   ],
   "source": [
    "# increasing granularity\n",
    "hist = ords_prods_merge['prices'].plot.hist(bins = 70)"
   ]
  },
  {
   "cell_type": "markdown",
   "id": "cf9ceb13",
   "metadata": {},
   "source": [
    "### Creating Line Charts"
   ]
  },
  {
   "cell_type": "markdown",
   "id": "25314562",
   "metadata": {},
   "source": [
    "I have 32 gigs of ram on my computer so it probably could handle this task well but maybe my work computer in the future will not have a nice system like I do at home."
   ]
  },
  {
   "cell_type": "markdown",
   "id": "b372ade3",
   "metadata": {},
   "source": [
    "### Sampling data"
   ]
  },
  {
   "cell_type": "code",
   "execution_count": 26,
   "id": "33e14eaa",
   "metadata": {},
   "outputs": [],
   "source": [
    "# Splitting 70/30\n",
    "np.random.seed(4)\n",
    "dev = np.random.rand(len(ords_prods_merge)) <= 0.7"
   ]
  },
  {
   "cell_type": "code",
   "execution_count": 27,
   "id": "f879d0aa",
   "metadata": {},
   "outputs": [],
   "source": [
    "# Store 70% of the sample in the datafram big\n",
    "big = ords_prods_merge[dev]"
   ]
  },
  {
   "cell_type": "code",
   "execution_count": 29,
   "id": "b2c6e9a2",
   "metadata": {},
   "outputs": [],
   "source": [
    "#store 30% of the sample in the dataframe small\n",
    "small = ords_prods_merge[~dev]"
   ]
  },
  {
   "cell_type": "code",
   "execution_count": 30,
   "id": "b20ca5cf",
   "metadata": {},
   "outputs": [
    {
     "data": {
      "text/plain": [
       "32406041"
      ]
     },
     "execution_count": 30,
     "metadata": {},
     "output_type": "execute_result"
    }
   ],
   "source": [
    "# Checking over what was done\n",
    "len(ords_prods_merge)"
   ]
  },
  {
   "cell_type": "code",
   "execution_count": 31,
   "id": "8ea6e479",
   "metadata": {},
   "outputs": [
    {
     "data": {
      "text/plain": [
       "32406041"
      ]
     },
     "execution_count": 31,
     "metadata": {},
     "output_type": "execute_result"
    }
   ],
   "source": [
    "# Checking what was done\n",
    "len(big) + len(small)"
   ]
  },
  {
   "cell_type": "code",
   "execution_count": 33,
   "id": "6b7c1428",
   "metadata": {},
   "outputs": [],
   "source": [
    "# Getting only the information we want for this \n",
    "df_2 = small[['order_dow','prices']]"
   ]
  },
  {
   "cell_type": "code",
   "execution_count": 35,
   "id": "2a8d4595",
   "metadata": {},
   "outputs": [
    {
     "data": {
      "image/png": "[encoded data removed]",
      "text/plain": [
       "<Figure size 432x288 with 1 Axes>"
      ]
     },
     "metadata": {
      "needs_background": "light"
     },
     "output_type": "display_data"
    }
   ],
   "source": [
    "# creating chart\n",
    "line = sns.lineplot(data = df_2, x = 'order_dow',y = 'prices')"
   ]
  },
  {
   "cell_type": "code",
   "execution_count": null,
   "id": "1c7e6d26",
   "metadata": {},
   "outputs": [],
   "source": []
  }
 ],
 "metadata": {
  "kernelspec": {
   "display_name": "Python 3 (ipykernel)",
   "language": "python",
   "name": "python3"
  },
  "language_info": {
   "codemirror_mode": {
    "name": "ipython",
    "version": 3
   },
   "file_extension": ".py",
   "mimetype": "text/x-python",
   "name": "python",
   "nbconvert_exporter": "python",
   "pygments_lexer": "ipython3",
   "version": "3.9.12"
  }
 },
 "nbformat": 4,
 "nbformat_minor": 5
}
