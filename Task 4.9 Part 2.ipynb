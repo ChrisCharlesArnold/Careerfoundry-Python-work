{
 "cells": [
  {
   "cell_type": "markdown",
   "id": "f5798a26",
   "metadata": {},
   "source": [
    "# Task 4.9 Part 2"
   ]
  },
  {
   "cell_type": "markdown",
   "id": "55552ccc",
   "metadata": {},
   "source": [
    "This script contains the following points:\n",
    "\n",
    "    01. Improting Libraries\n",
    "    02. Importing CSV/PKL files\n",
    "    03. Work for Task Part 2\n",
    "    04. Exporting visualizations    "
   ]
  },
  {
   "cell_type": "markdown",
   "id": "1eea5b19",
   "metadata": {},
   "source": [
    "## 01. Importing Libraries"
   ]
  },
  {
   "cell_type": "code",
   "execution_count": 1,
   "id": "791ff2f1",
   "metadata": {},
   "outputs": [],
   "source": [
    "# Import libraries\n",
    "\n",
    "import pandas as pd\n",
    "import numpy as np\n",
    "import os\n",
    "import matplotlib.pyplot as plt\n",
    "import seaborn as sns\n",
    "import scipy"
   ]
  },
  {
   "cell_type": "markdown",
   "id": "7492d382",
   "metadata": {},
   "source": [
    "## 02. Importing CSV/PKL files"
   ]
  },
  {
   "cell_type": "code",
   "execution_count": 2,
   "id": "238b3edf",
   "metadata": {},
   "outputs": [],
   "source": [
    "# Identifying pathway for import for ease with multiple imports\n",
    "path = r'C:\\Users\\Chris Arnold\\Documents\\Instacart Basket Analysis'"
   ]
  },
  {
   "cell_type": "code",
   "execution_count": 4,
   "id": "8ddd20d9",
   "metadata": {},
   "outputs": [],
   "source": [
    "# Importing customers.csv\n",
    "entire_set = pd.read_pickle(os.path.join(path, '02 Data', 'Prepared Data', 'orders_products_customers_merged.pkl'))"
   ]
  },
  {
   "cell_type": "markdown",
   "id": "89718aac",
   "metadata": {},
   "source": [
    "## 03. Work for task Part 2"
   ]
  },
  {
   "cell_type": "markdown",
   "id": "6dd67979",
   "metadata": {},
   "source": [
    "### If you haven’t done so already, follow the instructions in the Exercise to create a bar chart, a histogram, a scatterplot, and a line chart, using a sample subset for the line chart."
   ]
  },
  {
   "cell_type": "markdown",
   "id": "934e1b9c",
   "metadata": {},
   "source": [
    "Bar Chart"
   ]
  },
  {
   "cell_type": "code",
   "execution_count": 5,
   "id": "f27440f9",
   "metadata": {},
   "outputs": [
    {
     "data": {
      "text/plain": [
       "<AxesSubplot:>"
      ]
     },
     "execution_count": 5,
     "metadata": {},
     "output_type": "execute_result"
    },
    {
     "data": {
      "image/png": "[encoded data removed]",
      "text/plain": [
       "<Figure size 432x288 with 1 Axes>"
      ]
     },
     "metadata": {
      "needs_background": "light"
     },
     "output_type": "display_data"
    }
   ],
   "source": [
    "#plotting bar chart of orders day of the week\n",
    "entire_set['order_dow'].value_counts().plot.bar()"
   ]
  },
  {
   "cell_type": "code",
   "execution_count": 8,
   "id": "dd8de741",
   "metadata": {},
   "outputs": [
    {
     "data": {
      "image/png": "[encoded data removed]",
      "text/plain": [
       "<Figure size 432x288 with 1 Axes>"
      ]
     },
     "metadata": {
      "needs_background": "light"
     },
     "output_type": "display_data"
    }
   ],
   "source": [
    "# using sort index on the same command\n",
    "bar = entire_set['order_dow'].value_counts().sort_index().plot.bar()"
   ]
  },
  {
   "cell_type": "markdown",
   "id": "7fe56aa4",
   "metadata": {},
   "source": [
    "Histogram"
   ]
  },
  {
   "cell_type": "code",
   "execution_count": 9,
   "id": "58b92284",
   "metadata": {},
   "outputs": [
    {
     "data": {
      "text/plain": [
       "<AxesSubplot:ylabel='Frequency'>"
      ]
     },
     "execution_count": 9,
     "metadata": {},
     "output_type": "execute_result"
    },
    {
     "data": {
      "image/png": "[encoded data removed]",
      "text/plain": [
       "<Figure size 432x288 with 1 Axes>"
      ]
     },
     "metadata": {
      "needs_background": "light"
     },
     "output_type": "display_data"
    }
   ],
   "source": [
    "# Creating a histogram of the prices column\n",
    "entire_set['prices'].plot.hist(bins = 25)"
   ]
  },
  {
   "cell_type": "markdown",
   "id": "8530ee83",
   "metadata": {},
   "source": [
    "##Found issue must fix##"
   ]
  },
  {
   "cell_type": "code",
   "execution_count": 10,
   "id": "400c71e2",
   "metadata": {},
   "outputs": [
    {
     "data": {
      "text/plain": [
       "count    3.240604e+07\n",
       "mean     1.198004e+01\n",
       "std      4.956464e+02\n",
       "min      1.000000e+00\n",
       "25%      4.200000e+00\n",
       "50%      7.400000e+00\n",
       "75%      1.130000e+01\n",
       "max      9.999900e+04\n",
       "Name: prices, dtype: float64"
      ]
     },
     "execution_count": 10,
     "metadata": {},
     "output_type": "execute_result"
    }
   ],
   "source": [
    "# describing the column prices\n",
    "entire_set['prices'].describe()"
   ]
  },
  {
   "cell_type": "markdown",
   "id": "8a210479",
   "metadata": {},
   "source": [
    "Looking at a scatter plot to explore further"
   ]
  },
  {
   "cell_type": "code",
   "execution_count": 11,
   "id": "2d6ff9f4",
   "metadata": {},
   "outputs": [
    {
     "data": {
      "text/plain": [
       "<AxesSubplot:xlabel='prices', ylabel='prices'>"
      ]
     },
     "execution_count": 11,
     "metadata": {},
     "output_type": "execute_result"
    },
    {
     "data": {
      "image/png": "[encoded data removed]",
      "text/plain": [
       "<Figure size 432x288 with 1 Axes>"
      ]
     },
     "metadata": {
      "needs_background": "light"
     },
     "output_type": "display_data"
    }
   ],
   "source": [
    "sns.scatterplot(x = 'prices', y = 'prices',data = entire_set)"
   ]
  },
  {
   "cell_type": "code",
   "execution_count": 13,
   "id": "a47b1197",
   "metadata": {},
   "outputs": [
    {
     "data": {
      "text/html": [
       "<div>\n",
       "<style scoped>\n",
       "    .dataframe tbody tr th:only-of-type {\n",
       "        vertical-align: middle;\n",
       "    }\n",
       "\n",
       "    .dataframe tbody tr th {\n",
       "        vertical-align: top;\n",
       "    }\n",
       "\n",
       "    .dataframe thead th {\n",
       "        text-align: right;\n",
       "    }\n",
       "</style>\n",
       "<table border=\"1\" class=\"dataframe\">\n",
       "  <thead>\n",
       "    <tr style=\"text-align: right;\">\n",
       "      <th></th>\n",
       "      <th>User_ID</th>\n",
       "      <th>First_Name</th>\n",
       "      <th>Last_Name</th>\n",
       "      <th>Gender</th>\n",
       "      <th>State</th>\n",
       "      <th>Age</th>\n",
       "      <th>Date_Joined</th>\n",
       "      <th>Number_of_Dependants</th>\n",
       "      <th>Family_Status</th>\n",
       "      <th>Income</th>\n",
       "      <th>...</th>\n",
       "      <th>busiest_day</th>\n",
       "      <th>busiest_days</th>\n",
       "      <th>busiest_period_of_day</th>\n",
       "      <th>max_order</th>\n",
       "      <th>loyalty_flag</th>\n",
       "      <th>Total_spent</th>\n",
       "      <th>Mean_prices</th>\n",
       "      <th>Spender_type</th>\n",
       "      <th>Median_days_since_prior_order</th>\n",
       "      <th>Customer_frequency</th>\n",
       "    </tr>\n",
       "  </thead>\n",
       "  <tbody>\n",
       "    <tr>\n",
       "      <th>5547</th>\n",
       "      <td>117740</td>\n",
       "      <td>Lisa</td>\n",
       "      <td>Sparks</td>\n",
       "      <td>Female</td>\n",
       "      <td>Oregon</td>\n",
       "      <td>55</td>\n",
       "      <td>1/1/2017</td>\n",
       "      <td>1</td>\n",
       "      <td>married</td>\n",
       "      <td>292759</td>\n",
       "      <td>...</td>\n",
       "      <td>Regularly busy</td>\n",
       "      <td>Regularly busy</td>\n",
       "      <td>Most Orders</td>\n",
       "      <td>84</td>\n",
       "      <td>Loyal customer</td>\n",
       "      <td>14900.0</td>\n",
       "      <td>36.928431</td>\n",
       "      <td>High_spender</td>\n",
       "      <td>4.0</td>\n",
       "      <td>Frequent_customer</td>\n",
       "    </tr>\n",
       "    <tr>\n",
       "      <th>10303</th>\n",
       "      <td>31590</td>\n",
       "      <td>Beverly</td>\n",
       "      <td>Sanford</td>\n",
       "      <td>Female</td>\n",
       "      <td>Montana</td>\n",
       "      <td>46</td>\n",
       "      <td>1/1/2017</td>\n",
       "      <td>0</td>\n",
       "      <td>single</td>\n",
       "      <td>154076</td>\n",
       "      <td>...</td>\n",
       "      <td>Regularly busy</td>\n",
       "      <td>Regularly busy</td>\n",
       "      <td>Average Orders</td>\n",
       "      <td>38</td>\n",
       "      <td>Regular customer</td>\n",
       "      <td>14900.0</td>\n",
       "      <td>58.139865</td>\n",
       "      <td>High_spender</td>\n",
       "      <td>8.0</td>\n",
       "      <td>Frequent_customer</td>\n",
       "    </tr>\n",
       "    <tr>\n",
       "      <th>27945</th>\n",
       "      <td>100958</td>\n",
       "      <td>Benjamin</td>\n",
       "      <td>Parsons</td>\n",
       "      <td>Male</td>\n",
       "      <td>North Dakota</td>\n",
       "      <td>18</td>\n",
       "      <td>1/2/2017</td>\n",
       "      <td>2</td>\n",
       "      <td>living with parents and siblings</td>\n",
       "      <td>113408</td>\n",
       "      <td>...</td>\n",
       "      <td>Regularly busy</td>\n",
       "      <td>Regularly busy</td>\n",
       "      <td>Most Orders</td>\n",
       "      <td>5</td>\n",
       "      <td>New customer</td>\n",
       "      <td>14900.0</td>\n",
       "      <td>627.991667</td>\n",
       "      <td>High_spender</td>\n",
       "      <td>11.0</td>\n",
       "      <td>Regular_customer</td>\n",
       "    </tr>\n",
       "    <tr>\n",
       "      <th>27946</th>\n",
       "      <td>100958</td>\n",
       "      <td>Benjamin</td>\n",
       "      <td>Parsons</td>\n",
       "      <td>Male</td>\n",
       "      <td>North Dakota</td>\n",
       "      <td>18</td>\n",
       "      <td>1/2/2017</td>\n",
       "      <td>2</td>\n",
       "      <td>living with parents and siblings</td>\n",
       "      <td>113408</td>\n",
       "      <td>...</td>\n",
       "      <td>Busiest day</td>\n",
       "      <td>Busiest days</td>\n",
       "      <td>Most Orders</td>\n",
       "      <td>5</td>\n",
       "      <td>New customer</td>\n",
       "      <td>14900.0</td>\n",
       "      <td>627.991667</td>\n",
       "      <td>High_spender</td>\n",
       "      <td>11.0</td>\n",
       "      <td>Regular_customer</td>\n",
       "    </tr>\n",
       "    <tr>\n",
       "      <th>27947</th>\n",
       "      <td>100958</td>\n",
       "      <td>Benjamin</td>\n",
       "      <td>Parsons</td>\n",
       "      <td>Male</td>\n",
       "      <td>North Dakota</td>\n",
       "      <td>18</td>\n",
       "      <td>1/2/2017</td>\n",
       "      <td>2</td>\n",
       "      <td>living with parents and siblings</td>\n",
       "      <td>113408</td>\n",
       "      <td>...</td>\n",
       "      <td>Busiest day</td>\n",
       "      <td>Busiest days</td>\n",
       "      <td>Average Orders</td>\n",
       "      <td>5</td>\n",
       "      <td>New customer</td>\n",
       "      <td>14900.0</td>\n",
       "      <td>627.991667</td>\n",
       "      <td>High_spender</td>\n",
       "      <td>11.0</td>\n",
       "      <td>Regular_customer</td>\n",
       "    </tr>\n",
       "    <tr>\n",
       "      <th>...</th>\n",
       "      <td>...</td>\n",
       "      <td>...</td>\n",
       "      <td>...</td>\n",
       "      <td>...</td>\n",
       "      <td>...</td>\n",
       "      <td>...</td>\n",
       "      <td>...</td>\n",
       "      <td>...</td>\n",
       "      <td>...</td>\n",
       "      <td>...</td>\n",
       "      <td>...</td>\n",
       "      <td>...</td>\n",
       "      <td>...</td>\n",
       "      <td>...</td>\n",
       "      <td>...</td>\n",
       "      <td>...</td>\n",
       "      <td>...</td>\n",
       "      <td>...</td>\n",
       "      <td>...</td>\n",
       "      <td>...</td>\n",
       "      <td>...</td>\n",
       "    </tr>\n",
       "    <tr>\n",
       "      <th>32392104</th>\n",
       "      <td>5519</td>\n",
       "      <td>Kathy</td>\n",
       "      <td>Daniel</td>\n",
       "      <td>Female</td>\n",
       "      <td>Georgia</td>\n",
       "      <td>78</td>\n",
       "      <td>4/1/2020</td>\n",
       "      <td>3</td>\n",
       "      <td>married</td>\n",
       "      <td>262610</td>\n",
       "      <td>...</td>\n",
       "      <td>Regularly busy</td>\n",
       "      <td>Slowest days</td>\n",
       "      <td>Most Orders</td>\n",
       "      <td>53</td>\n",
       "      <td>Loyal customer</td>\n",
       "      <td>14900.0</td>\n",
       "      <td>69.638604</td>\n",
       "      <td>High_spender</td>\n",
       "      <td>7.0</td>\n",
       "      <td>Frequent_customer</td>\n",
       "    </tr>\n",
       "    <tr>\n",
       "      <th>32392105</th>\n",
       "      <td>5519</td>\n",
       "      <td>Kathy</td>\n",
       "      <td>Daniel</td>\n",
       "      <td>Female</td>\n",
       "      <td>Georgia</td>\n",
       "      <td>78</td>\n",
       "      <td>4/1/2020</td>\n",
       "      <td>3</td>\n",
       "      <td>married</td>\n",
       "      <td>262610</td>\n",
       "      <td>...</td>\n",
       "      <td>Regularly busy</td>\n",
       "      <td>Regularly busy</td>\n",
       "      <td>Average Orders</td>\n",
       "      <td>53</td>\n",
       "      <td>Loyal customer</td>\n",
       "      <td>14900.0</td>\n",
       "      <td>69.638604</td>\n",
       "      <td>High_spender</td>\n",
       "      <td>7.0</td>\n",
       "      <td>Frequent_customer</td>\n",
       "    </tr>\n",
       "    <tr>\n",
       "      <th>32392106</th>\n",
       "      <td>5519</td>\n",
       "      <td>Kathy</td>\n",
       "      <td>Daniel</td>\n",
       "      <td>Female</td>\n",
       "      <td>Georgia</td>\n",
       "      <td>78</td>\n",
       "      <td>4/1/2020</td>\n",
       "      <td>3</td>\n",
       "      <td>married</td>\n",
       "      <td>262610</td>\n",
       "      <td>...</td>\n",
       "      <td>Regularly busy</td>\n",
       "      <td>Regularly busy</td>\n",
       "      <td>Average Orders</td>\n",
       "      <td>53</td>\n",
       "      <td>Loyal customer</td>\n",
       "      <td>14900.0</td>\n",
       "      <td>69.638604</td>\n",
       "      <td>High_spender</td>\n",
       "      <td>7.0</td>\n",
       "      <td>Frequent_customer</td>\n",
       "    </tr>\n",
       "    <tr>\n",
       "      <th>32398172</th>\n",
       "      <td>140589</td>\n",
       "      <td>Clarence</td>\n",
       "      <td>Harper</td>\n",
       "      <td>Male</td>\n",
       "      <td>Maryland</td>\n",
       "      <td>26</td>\n",
       "      <td>4/1/2020</td>\n",
       "      <td>0</td>\n",
       "      <td>single</td>\n",
       "      <td>154845</td>\n",
       "      <td>...</td>\n",
       "      <td>Regularly busy</td>\n",
       "      <td>Regularly busy</td>\n",
       "      <td>Most Orders</td>\n",
       "      <td>9</td>\n",
       "      <td>New customer</td>\n",
       "      <td>99999.0</td>\n",
       "      <td>876.974783</td>\n",
       "      <td>High_spender</td>\n",
       "      <td>20.0</td>\n",
       "      <td>Regular_customer</td>\n",
       "    </tr>\n",
       "    <tr>\n",
       "      <th>32401171</th>\n",
       "      <td>200065</td>\n",
       "      <td>Gary</td>\n",
       "      <td>Wilson</td>\n",
       "      <td>Male</td>\n",
       "      <td>Tennessee</td>\n",
       "      <td>59</td>\n",
       "      <td>4/1/2020</td>\n",
       "      <td>3</td>\n",
       "      <td>married</td>\n",
       "      <td>243617</td>\n",
       "      <td>...</td>\n",
       "      <td>Regularly busy</td>\n",
       "      <td>Regularly busy</td>\n",
       "      <td>Most Orders</td>\n",
       "      <td>18</td>\n",
       "      <td>Regular customer</td>\n",
       "      <td>14900.0</td>\n",
       "      <td>96.595833</td>\n",
       "      <td>High_spender</td>\n",
       "      <td>12.0</td>\n",
       "      <td>Regular_customer</td>\n",
       "    </tr>\n",
       "  </tbody>\n",
       "</table>\n",
       "<p>5127 rows × 36 columns</p>\n",
       "</div>"
      ],
      "text/plain": [
       "         User_ID First_Name Last_Name  Gender         State  Age Date_Joined  \\\n",
       "5547      117740       Lisa    Sparks  Female        Oregon   55    1/1/2017   \n",
       "10303      31590    Beverly   Sanford  Female       Montana   46    1/1/2017   \n",
       "27945     100958   Benjamin   Parsons    Male  North Dakota   18    1/2/2017   \n",
       "27946     100958   Benjamin   Parsons    Male  North Dakota   18    1/2/2017   \n",
       "27947     100958   Benjamin   Parsons    Male  North Dakota   18    1/2/2017   \n",
       "...          ...        ...       ...     ...           ...  ...         ...   \n",
       "32392104    5519      Kathy    Daniel  Female       Georgia   78    4/1/2020   \n",
       "32392105    5519      Kathy    Daniel  Female       Georgia   78    4/1/2020   \n",
       "32392106    5519      Kathy    Daniel  Female       Georgia   78    4/1/2020   \n",
       "32398172  140589   Clarence    Harper    Male      Maryland   26    4/1/2020   \n",
       "32401171  200065       Gary    Wilson    Male     Tennessee   59    4/1/2020   \n",
       "\n",
       "          Number_of_Dependants                     Family_Status  Income  ...  \\\n",
       "5547                         1                           married  292759  ...   \n",
       "10303                        0                            single  154076  ...   \n",
       "27945                        2  living with parents and siblings  113408  ...   \n",
       "27946                        2  living with parents and siblings  113408  ...   \n",
       "27947                        2  living with parents and siblings  113408  ...   \n",
       "...                        ...                               ...     ...  ...   \n",
       "32392104                     3                           married  262610  ...   \n",
       "32392105                     3                           married  262610  ...   \n",
       "32392106                     3                           married  262610  ...   \n",
       "32398172                     0                            single  154845  ...   \n",
       "32401171                     3                           married  243617  ...   \n",
       "\n",
       "             busiest_day    busiest_days  busiest_period_of_day  max_order  \\\n",
       "5547      Regularly busy  Regularly busy            Most Orders         84   \n",
       "10303     Regularly busy  Regularly busy         Average Orders         38   \n",
       "27945     Regularly busy  Regularly busy            Most Orders          5   \n",
       "27946        Busiest day    Busiest days            Most Orders          5   \n",
       "27947        Busiest day    Busiest days         Average Orders          5   \n",
       "...                  ...             ...                    ...        ...   \n",
       "32392104  Regularly busy    Slowest days            Most Orders         53   \n",
       "32392105  Regularly busy  Regularly busy         Average Orders         53   \n",
       "32392106  Regularly busy  Regularly busy         Average Orders         53   \n",
       "32398172  Regularly busy  Regularly busy            Most Orders          9   \n",
       "32401171  Regularly busy  Regularly busy            Most Orders         18   \n",
       "\n",
       "              loyalty_flag  Total_spent  Mean_prices  Spender_type  \\\n",
       "5547        Loyal customer      14900.0    36.928431  High_spender   \n",
       "10303     Regular customer      14900.0    58.139865  High_spender   \n",
       "27945         New customer      14900.0   627.991667  High_spender   \n",
       "27946         New customer      14900.0   627.991667  High_spender   \n",
       "27947         New customer      14900.0   627.991667  High_spender   \n",
       "...                    ...          ...          ...           ...   \n",
       "32392104    Loyal customer      14900.0    69.638604  High_spender   \n",
       "32392105    Loyal customer      14900.0    69.638604  High_spender   \n",
       "32392106    Loyal customer      14900.0    69.638604  High_spender   \n",
       "32398172      New customer      99999.0   876.974783  High_spender   \n",
       "32401171  Regular customer      14900.0    96.595833  High_spender   \n",
       "\n",
       "          Median_days_since_prior_order Customer_frequency  \n",
       "5547                                4.0  Frequent_customer  \n",
       "10303                               8.0  Frequent_customer  \n",
       "27945                              11.0   Regular_customer  \n",
       "27946                              11.0   Regular_customer  \n",
       "27947                              11.0   Regular_customer  \n",
       "...                                 ...                ...  \n",
       "32392104                            7.0  Frequent_customer  \n",
       "32392105                            7.0  Frequent_customer  \n",
       "32392106                            7.0  Frequent_customer  \n",
       "32398172                           20.0   Regular_customer  \n",
       "32401171                           12.0   Regular_customer  \n",
       "\n",
       "[5127 rows x 36 columns]"
      ]
     },
     "execution_count": 13,
     "metadata": {},
     "output_type": "execute_result"
    }
   ],
   "source": [
    "# Diving a little deeper with the loc function to find prices over 1\n",
    "entire_set.loc[entire_set['prices'] > 100]"
   ]
  },
  {
   "cell_type": "code",
   "execution_count": 15,
   "id": "151e376b",
   "metadata": {},
   "outputs": [],
   "source": [
    "# Marking the above prices as missing\n",
    "entire_set.loc[entire_set['prices'] >100, 'prices'] = np.nan"
   ]
  },
  {
   "cell_type": "code",
   "execution_count": 17,
   "id": "f89537ac",
   "metadata": {},
   "outputs": [
    {
     "data": {
      "text/plain": [
       "25.0"
      ]
     },
     "execution_count": 17,
     "metadata": {},
     "output_type": "execute_result"
    }
   ],
   "source": [
    "#Checking the new max value of prices\n",
    "entire_set['prices'].max()"
   ]
  },
  {
   "cell_type": "code",
   "execution_count": 18,
   "id": "69e96111",
   "metadata": {},
   "outputs": [
    {
     "data": {
      "image/png": "[encoded data removed]",
      "text/plain": [
       "<Figure size 432x288 with 1 Axes>"
      ]
     },
     "metadata": {
      "needs_background": "light"
     },
     "output_type": "display_data"
    }
   ],
   "source": [
    "#Now that this has been fixed, lets see the histogram again\n",
    "hist = entire_set['prices'].plot.hist(bins = 25)"
   ]
  },
  {
   "cell_type": "code",
   "execution_count": 19,
   "id": "41b64823",
   "metadata": {},
   "outputs": [
    {
     "data": {
      "image/png": "[encoded data removed]",
      "text/plain": [
       "<Figure size 432x288 with 1 Axes>"
      ]
     },
     "metadata": {
      "needs_background": "light"
     },
     "output_type": "display_data"
    }
   ],
   "source": [
    "# increasing granularity\n",
    "hist = entire_set['prices'].plot.hist(bins = 70)"
   ]
  },
  {
   "cell_type": "markdown",
   "id": "efe28d69",
   "metadata": {},
   "source": [
    "Line Chart"
   ]
  },
  {
   "cell_type": "code",
   "execution_count": 20,
   "id": "3358c599",
   "metadata": {},
   "outputs": [],
   "source": [
    "# Splitting 70/30\n",
    "np.random.seed(4)\n",
    "dev = np.random.rand(len(entire_set)) <= 0.7"
   ]
  },
  {
   "cell_type": "code",
   "execution_count": 21,
   "id": "5b85c654",
   "metadata": {},
   "outputs": [],
   "source": [
    "# Store 70% of the sample in the datafram big\n",
    "big = entire_set[dev]"
   ]
  },
  {
   "cell_type": "code",
   "execution_count": 22,
   "id": "e1aad4f2",
   "metadata": {},
   "outputs": [],
   "source": [
    "#store 30% of the sample in the dataframe small\n",
    "small = entire_set[~dev]"
   ]
  },
  {
   "cell_type": "code",
   "execution_count": 23,
   "id": "cee292d0",
   "metadata": {},
   "outputs": [
    {
     "data": {
      "text/plain": [
       "32406041"
      ]
     },
     "execution_count": 23,
     "metadata": {},
     "output_type": "execute_result"
    }
   ],
   "source": [
    "# Checking over what was done\n",
    "len(entire_set)"
   ]
  },
  {
   "cell_type": "code",
   "execution_count": 24,
   "id": "f57861f3",
   "metadata": {},
   "outputs": [
    {
     "data": {
      "text/plain": [
       "32406041"
      ]
     },
     "execution_count": 24,
     "metadata": {},
     "output_type": "execute_result"
    }
   ],
   "source": [
    "# Checking what was done\n",
    "len(big) + len(small)"
   ]
  },
  {
   "cell_type": "code",
   "execution_count": 25,
   "id": "b0c711fb",
   "metadata": {},
   "outputs": [],
   "source": [
    "# Getting only the information we want for this \n",
    "df_2 = small[['order_dow','prices']]"
   ]
  },
  {
   "cell_type": "code",
   "execution_count": 26,
   "id": "d3a7e9b7",
   "metadata": {},
   "outputs": [
    {
     "data": {
      "image/png": "[encoded data removed]",
      "text/plain": [
       "<Figure size 432x288 with 1 Axes>"
      ]
     },
     "metadata": {
      "needs_background": "light"
     },
     "output_type": "display_data"
    }
   ],
   "source": [
    "# creating chart\n",
    "line = sns.lineplot(data = df_2, x = 'order_dow',y = 'prices')"
   ]
  },
  {
   "cell_type": "markdown",
   "id": "0f7bed14",
   "metadata": {},
   "source": [
    "### You need to provide the Instacart senior stakeholders with descriptive findings about sales. Create a histogram of the “order_hour_of_day” column.\n",
    "\n",
    "    In a markdown cell beneath your histogram, describe what the histogram demonstrates.\n"
   ]
  },
  {
   "cell_type": "code",
   "execution_count": 39,
   "id": "78a5233d",
   "metadata": {},
   "outputs": [
    {
     "data": {
      "image/png": "[encoded data removed]",
      "text/plain": [
       "<Figure size 432x288 with 1 Axes>"
      ]
     },
     "metadata": {
      "needs_background": "light"
     },
     "output_type": "display_data"
    }
   ],
   "source": [
    "# Creating a histogram of the prices column with 24 bins, since there are 24 hours in a day\n",
    "HOD_Hist = entire_set['order_hour_of_day'].plot.hist(bins = 24)"
   ]
  },
  {
   "cell_type": "markdown",
   "id": "3c4152de",
   "metadata": {},
   "source": [
    "From what we can see here, people tend to not order in the overnight hours as much (from midnight to 6am). The orders pick up at 7am and peak at 10 am through 4pm, then slowly die off as the day gets later."
   ]
  },
  {
   "cell_type": "markdown",
   "id": "cdec2f9d",
   "metadata": {},
   "source": [
    "### The marketing team is curious about the distribution of orders among customers in terms of loyalty. Create a bar chart from the “loyalty_flag” column."
   ]
  },
  {
   "cell_type": "code",
   "execution_count": 40,
   "id": "ae016cf7",
   "metadata": {},
   "outputs": [
    {
     "data": {
      "image/png": "[encoded data removed]",
      "text/plain": [
       "<Figure size 432x288 with 1 Axes>"
      ]
     },
     "metadata": {
      "needs_background": "light"
     },
     "output_type": "display_data"
    }
   ],
   "source": [
    "#plotting bar chart of loyalty_flag\n",
    "Loyalty_BAR = entire_set['loyalty_flag'].value_counts().plot.bar()"
   ]
  },
  {
   "cell_type": "markdown",
   "id": "b5d284aa",
   "metadata": {},
   "source": [
    "Most customers are \"Regular customers\", followed by \"Loyal customers\", and the least amount of customers are labeled as \"New customers.\""
   ]
  },
  {
   "cell_type": "markdown",
   "id": "eca7dcd8",
   "metadata": {},
   "source": [
    "### Check whether there’s a difference in expenditure (the “prices” column) depending on the hour of the day. (Hint: To check this, you need to use an accurate sample for your line chart!)"
   ]
  },
  {
   "cell_type": "markdown",
   "id": "14d33f01",
   "metadata": {},
   "source": [
    "I will borrow the sample created for the line chart created earlier"
   ]
  },
  {
   "cell_type": "code",
   "execution_count": 33,
   "id": "27446cf3",
   "metadata": {},
   "outputs": [],
   "source": [
    "# Getting only the information we want for this \n",
    "df_3 = small[['order_hour_of_day','prices']]"
   ]
  },
  {
   "cell_type": "code",
   "execution_count": 34,
   "id": "f3f7875d",
   "metadata": {},
   "outputs": [
    {
     "data": {
      "image/png": "[encoded data removed]",
      "text/plain": [
       "<Figure size 432x288 with 1 Axes>"
      ]
     },
     "metadata": {
      "needs_background": "light"
     },
     "output_type": "display_data"
    }
   ],
   "source": [
    "# creating chart\n",
    "line2 = sns.lineplot(data = df_3, x = 'order_hour_of_day', y = 'prices')"
   ]
  },
  {
   "cell_type": "markdown",
   "id": "04c98745",
   "metadata": {},
   "source": [
    "It is interesting to see that the overnight hours tend to bring out the higher spenders along with the daybreak hours."
   ]
  },
  {
   "cell_type": "markdown",
   "id": "091a44a1",
   "metadata": {},
   "source": [
    "### Now that you have information about customers, you need to conduct some exploratory analysis of customer demographics to inform the targeted marketing campaigns. First, determine whether there’s a connection between age and family situation by creating a line chart exploring the connections between age and number of dependents:\n",
    "\n",
    "    In a markdown cell beneath your line chart, describe what the line chart shows.\n"
   ]
  },
  {
   "cell_type": "code",
   "execution_count": 35,
   "id": "0eab0b92",
   "metadata": {},
   "outputs": [],
   "source": [
    "# Getting only the information we want for this \n",
    "df_4 = small[['Age','Number_of_Dependants']]"
   ]
  },
  {
   "cell_type": "code",
   "execution_count": 36,
   "id": "56ade7ff",
   "metadata": {},
   "outputs": [
    {
     "data": {
      "image/png": "[encoded data removed]",
      "text/plain": [
       "<Figure size 432x288 with 1 Axes>"
      ]
     },
     "metadata": {
      "needs_background": "light"
     },
     "output_type": "display_data"
    }
   ],
   "source": [
    "# creating chart\n",
    "line3 = sns.lineplot(data = df_4, x = 'Age', y = 'Number_of_Dependants')"
   ]
  },
  {
   "cell_type": "markdown",
   "id": "8e3ef496",
   "metadata": {},
   "source": [
    "This is a little different than I would have expected. There are some peaks that can give some insights though. There are some customers that have dependants across all age brackets. The peaks seem to be in under 20 years old, mid 20s, late 20s/early 30s,  45-50, and some spikes between 60-70 showing the highest numbers after the 20s. The numbers through the 50s I would assume are probably nuclear families that are raising their kids. The spikes in the 60's+ are most likely multi-generational households."
   ]
  },
  {
   "cell_type": "markdown",
   "id": "e20531ea",
   "metadata": {},
   "source": [
    "### You’ll also need to explore whether there’s a connection between age and spending power (income). To visualize this relationship, create a scatterplot using the sns.scatterplot() function.\n",
    "\n",
    "    In a markdown cell beneath your scatterplot, describe what the scatterplot shows.\n"
   ]
  },
  {
   "cell_type": "code",
   "execution_count": 37,
   "id": "23e28c9e",
   "metadata": {},
   "outputs": [],
   "source": [
    "# Getting only the information we want for this \n",
    "df_5 = small[['Age','Income']]"
   ]
  },
  {
   "cell_type": "code",
   "execution_count": 41,
   "id": "a9e37b30",
   "metadata": {},
   "outputs": [
    {
     "data": {
      "image/png": "[encoded data removed]",
      "text/plain": [
       "<Figure size 432x288 with 1 Axes>"
      ]
     },
     "metadata": {
      "needs_background": "light"
     },
     "output_type": "display_data"
    }
   ],
   "source": [
    "Age_VS_Income = sns.scatterplot(x = 'Age', y = 'Income',data = df_5)"
   ]
  },
  {
   "cell_type": "markdown",
   "id": "2245041f",
   "metadata": {},
   "source": [
    "There is a deninite correlation between age and income. In general the older groups earn more as they age higher, with a major jump in the early 40s."
   ]
  },
  {
   "cell_type": "markdown",
   "id": "4d931510",
   "metadata": {},
   "source": [
    "## 04. Exporting Visualizations"
   ]
  },
  {
   "cell_type": "code",
   "execution_count": 42,
   "id": "1a14a987",
   "metadata": {},
   "outputs": [],
   "source": [
    "# Saving 'HOD_Hist' created above \n",
    "HOD_Hist.figure.savefig(os.path.join(path, '04 Analysis','Visualizations', 'Hour_of_Day_Histogram.png'))"
   ]
  },
  {
   "cell_type": "code",
   "execution_count": 43,
   "id": "5e1dd0ee",
   "metadata": {},
   "outputs": [],
   "source": [
    "# Saving 'Loyalty_BAR' created above \n",
    "Loyalty_BAR.figure.savefig(os.path.join(path, '04 Analysis','Visualizations', 'Loyalty_Bar_chart.png'))"
   ]
  },
  {
   "cell_type": "code",
   "execution_count": 44,
   "id": "e360beb2",
   "metadata": {},
   "outputs": [],
   "source": [
    "# Saving 'order hour of day vs prices' created above \n",
    "line2.figure.savefig(os.path.join(path, '04 Analysis','Visualizations', 'hod_vs_prices.png'))"
   ]
  },
  {
   "cell_type": "code",
   "execution_count": 45,
   "id": "7e1b9a6f",
   "metadata": {},
   "outputs": [],
   "source": [
    "# Saving 'age vs number of dependants' created above \n",
    "line3.figure.savefig(os.path.join(path, '04 Analysis','Visualizations', 'age_vs_num_of_dep.png'))"
   ]
  },
  {
   "cell_type": "code",
   "execution_count": 46,
   "id": "ea0b8e07",
   "metadata": {},
   "outputs": [],
   "source": [
    "# Saving 'age vs number of dependants' created above \n",
    "Age_VS_Income.figure.savefig(os.path.join(path, '04 Analysis','Visualizations', 'age_vs_income.png'))"
   ]
  }
 ],
 "metadata": {
  "kernelspec": {
   "display_name": "Python 3 (ipykernel)",
   "language": "python",
   "name": "python3"
  },
  "language_info": {
   "codemirror_mode": {
    "name": "ipython",
    "version": 3
   },
   "file_extension": ".py",
   "mimetype": "text/x-python",
   "name": "python",
   "nbconvert_exporter": "python",
   "pygments_lexer": "ipython3",
   "version": "3.9.12"
  }
 },
 "nbformat": 4,
 "nbformat_minor": 5
}
