{
 "cells": [
  {
   "cell_type": "markdown",
   "id": "70c881d5",
   "metadata": {},
   "source": [
    "# 01. Importing libraries"
   ]
  },
  {
   "cell_type": "code",
   "execution_count": 1,
   "id": "5e7d0a8a",
   "metadata": {},
   "outputs": [],
   "source": [
    "# Import libraries\n",
    "import pandas as pd\n",
    "import numpy as np\n",
    "import os"
   ]
  },
  {
   "cell_type": "markdown",
   "id": "002100f8",
   "metadata": {},
   "source": [
    "# 02. Data Types"
   ]
  },
  {
   "cell_type": "markdown",
   "id": "ffd0937e",
   "metadata": {},
   "source": [
    "## Code 3 different ways of reaching a result of 100 by adding or subtracting variables"
   ]
  },
  {
   "cell_type": "code",
   "execution_count": 27,
   "id": "8169a825",
   "metadata": {},
   "outputs": [],
   "source": [
    "x=49"
   ]
  },
  {
   "cell_type": "code",
   "execution_count": 28,
   "id": "953da47d",
   "metadata": {},
   "outputs": [],
   "source": [
    "y=51"
   ]
  },
  {
   "cell_type": "code",
   "execution_count": 29,
   "id": "d363160a",
   "metadata": {},
   "outputs": [
    {
     "data": {
      "text/plain": [
       "100"
      ]
     },
     "execution_count": 29,
     "metadata": {},
     "output_type": "execute_result"
    }
   ],
   "source": [
    "x+y"
   ]
  },
  {
   "cell_type": "code",
   "execution_count": 30,
   "id": "dd3291d1",
   "metadata": {},
   "outputs": [],
   "source": [
    "a=150"
   ]
  },
  {
   "cell_type": "code",
   "execution_count": 31,
   "id": "ddc61302",
   "metadata": {},
   "outputs": [],
   "source": [
    "b=50"
   ]
  },
  {
   "cell_type": "code",
   "execution_count": 32,
   "id": "6f62912b",
   "metadata": {},
   "outputs": [
    {
     "data": {
      "text/plain": [
       "100"
      ]
     },
     "execution_count": 32,
     "metadata": {},
     "output_type": "execute_result"
    }
   ],
   "source": [
    "a-b"
   ]
  },
  {
   "cell_type": "code",
   "execution_count": 33,
   "id": "57f28c1c",
   "metadata": {},
   "outputs": [],
   "source": [
    "c=9"
   ]
  },
  {
   "cell_type": "code",
   "execution_count": 35,
   "id": "160ffe35",
   "metadata": {},
   "outputs": [],
   "source": [
    "d=91"
   ]
  },
  {
   "cell_type": "code",
   "execution_count": 36,
   "id": "cc2293fd",
   "metadata": {},
   "outputs": [
    {
     "data": {
      "text/plain": [
       "100"
      ]
     },
     "execution_count": 36,
     "metadata": {},
     "output_type": "execute_result"
    }
   ],
   "source": [
    "c+d"
   ]
  },
  {
   "cell_type": "markdown",
   "id": "49d7e701",
   "metadata": {},
   "source": [
    "## Code 2 floating-point variables and divide them by each other"
   ]
  },
  {
   "cell_type": "code",
   "execution_count": 41,
   "id": "9afe5a81",
   "metadata": {},
   "outputs": [],
   "source": [
    "e=12.56636"
   ]
  },
  {
   "cell_type": "code",
   "execution_count": 42,
   "id": "18353aa2",
   "metadata": {},
   "outputs": [],
   "source": [
    "f=4"
   ]
  },
  {
   "cell_type": "code",
   "execution_count": 43,
   "id": "cf7d3710",
   "metadata": {},
   "outputs": [
    {
     "data": {
      "text/plain": [
       "3.14159"
      ]
     },
     "execution_count": 43,
     "metadata": {},
     "output_type": "execute_result"
    }
   ],
   "source": [
    "e/f"
   ]
  },
  {
   "cell_type": "markdown",
   "id": "6ff2a6d4",
   "metadata": {},
   "source": [
    "## Construct a short word made of separate strings"
   ]
  },
  {
   "cell_type": "code",
   "execution_count": 44,
   "id": "c65c134d",
   "metadata": {},
   "outputs": [],
   "source": [
    "g='Ba'"
   ]
  },
  {
   "cell_type": "code",
   "execution_count": 45,
   "id": "f1f42897",
   "metadata": {},
   "outputs": [],
   "source": [
    "h='by'"
   ]
  },
  {
   "cell_type": "code",
   "execution_count": 47,
   "id": "ff7f4e40",
   "metadata": {},
   "outputs": [
    {
     "data": {
      "text/plain": [
       "'Baby'"
      ]
     },
     "execution_count": 47,
     "metadata": {},
     "output_type": "execute_result"
    }
   ],
   "source": [
    "g+h"
   ]
  },
  {
   "cell_type": "markdown",
   "id": "89d93865",
   "metadata": {},
   "source": [
    "## Construct 2 short sentences made of separate strings"
   ]
  },
  {
   "cell_type": "code",
   "execution_count": 51,
   "id": "5dd12c23",
   "metadata": {},
   "outputs": [],
   "source": [
    "i='to go home.'"
   ]
  },
  {
   "cell_type": "code",
   "execution_count": 49,
   "id": "935a6144",
   "metadata": {},
   "outputs": [],
   "source": [
    "j='I want to '"
   ]
  },
  {
   "cell_type": "code",
   "execution_count": 52,
   "id": "e32c19aa",
   "metadata": {},
   "outputs": [
    {
     "data": {
      "text/plain": [
       "'I want to to go home.'"
      ]
     },
     "execution_count": 52,
     "metadata": {},
     "output_type": "execute_result"
    }
   ],
   "source": [
    "j+i"
   ]
  },
  {
   "cell_type": "code",
   "execution_count": 53,
   "id": "bbe53124",
   "metadata": {},
   "outputs": [],
   "source": [
    "k='I feel like B'"
   ]
  },
  {
   "cell_type": "code",
   "execution_count": 54,
   "id": "658d0806",
   "metadata": {},
   "outputs": [],
   "source": [
    "l='art Simpson writing on the chalkboard at the beginning of an episode. '"
   ]
  },
  {
   "cell_type": "code",
   "execution_count": 55,
   "id": "6fe4a617",
   "metadata": {},
   "outputs": [
    {
     "data": {
      "text/plain": [
       "'I feel like Bart Simpson writing on the chalkboard at the beginning of an episode. '"
      ]
     },
     "execution_count": 55,
     "metadata": {},
     "output_type": "execute_result"
    }
   ],
   "source": [
    "k+l"
   ]
  },
  {
   "cell_type": "markdown",
   "id": "4544892d",
   "metadata": {},
   "source": [
    "## Bonus At the bottom of your file, include a command that makes a string appear 100 times"
   ]
  },
  {
   "cell_type": "code",
   "execution_count": 57,
   "id": "b734b68b",
   "metadata": {},
   "outputs": [
    {
     "data": {
      "text/plain": [
       "'I feel like Bart Simpson writing on the chalkboard at the beginning of an episode. I feel like Bart Simpson writing on the chalkboard at the beginning of an episode. I feel like Bart Simpson writing on the chalkboard at the beginning of an episode. I feel like Bart Simpson writing on the chalkboard at the beginning of an episode. I feel like Bart Simpson writing on the chalkboard at the beginning of an episode. I feel like Bart Simpson writing on the chalkboard at the beginning of an episode. I feel like Bart Simpson writing on the chalkboard at the beginning of an episode. I feel like Bart Simpson writing on the chalkboard at the beginning of an episode. I feel like Bart Simpson writing on the chalkboard at the beginning of an episode. I feel like Bart Simpson writing on the chalkboard at the beginning of an episode. I feel like Bart Simpson writing on the chalkboard at the beginning of an episode. I feel like Bart Simpson writing on the chalkboard at the beginning of an episode. I feel like Bart Simpson writing on the chalkboard at the beginning of an episode. I feel like Bart Simpson writing on the chalkboard at the beginning of an episode. I feel like Bart Simpson writing on the chalkboard at the beginning of an episode. I feel like Bart Simpson writing on the chalkboard at the beginning of an episode. I feel like Bart Simpson writing on the chalkboard at the beginning of an episode. I feel like Bart Simpson writing on the chalkboard at the beginning of an episode. I feel like Bart Simpson writing on the chalkboard at the beginning of an episode. I feel like Bart Simpson writing on the chalkboard at the beginning of an episode. I feel like Bart Simpson writing on the chalkboard at the beginning of an episode. I feel like Bart Simpson writing on the chalkboard at the beginning of an episode. I feel like Bart Simpson writing on the chalkboard at the beginning of an episode. I feel like Bart Simpson writing on the chalkboard at the beginning of an episode. I feel like Bart Simpson writing on the chalkboard at the beginning of an episode. I feel like Bart Simpson writing on the chalkboard at the beginning of an episode. I feel like Bart Simpson writing on the chalkboard at the beginning of an episode. I feel like Bart Simpson writing on the chalkboard at the beginning of an episode. I feel like Bart Simpson writing on the chalkboard at the beginning of an episode. I feel like Bart Simpson writing on the chalkboard at the beginning of an episode. I feel like Bart Simpson writing on the chalkboard at the beginning of an episode. I feel like Bart Simpson writing on the chalkboard at the beginning of an episode. I feel like Bart Simpson writing on the chalkboard at the beginning of an episode. I feel like Bart Simpson writing on the chalkboard at the beginning of an episode. I feel like Bart Simpson writing on the chalkboard at the beginning of an episode. I feel like Bart Simpson writing on the chalkboard at the beginning of an episode. I feel like Bart Simpson writing on the chalkboard at the beginning of an episode. I feel like Bart Simpson writing on the chalkboard at the beginning of an episode. I feel like Bart Simpson writing on the chalkboard at the beginning of an episode. I feel like Bart Simpson writing on the chalkboard at the beginning of an episode. I feel like Bart Simpson writing on the chalkboard at the beginning of an episode. I feel like Bart Simpson writing on the chalkboard at the beginning of an episode. I feel like Bart Simpson writing on the chalkboard at the beginning of an episode. I feel like Bart Simpson writing on the chalkboard at the beginning of an episode. I feel like Bart Simpson writing on the chalkboard at the beginning of an episode. I feel like Bart Simpson writing on the chalkboard at the beginning of an episode. I feel like Bart Simpson writing on the chalkboard at the beginning of an episode. I feel like Bart Simpson writing on the chalkboard at the beginning of an episode. I feel like Bart Simpson writing on the chalkboard at the beginning of an episode. I feel like Bart Simpson writing on the chalkboard at the beginning of an episode. I feel like Bart Simpson writing on the chalkboard at the beginning of an episode. I feel like Bart Simpson writing on the chalkboard at the beginning of an episode. I feel like Bart Simpson writing on the chalkboard at the beginning of an episode. I feel like Bart Simpson writing on the chalkboard at the beginning of an episode. I feel like Bart Simpson writing on the chalkboard at the beginning of an episode. I feel like Bart Simpson writing on the chalkboard at the beginning of an episode. I feel like Bart Simpson writing on the chalkboard at the beginning of an episode. I feel like Bart Simpson writing on the chalkboard at the beginning of an episode. I feel like Bart Simpson writing on the chalkboard at the beginning of an episode. I feel like Bart Simpson writing on the chalkboard at the beginning of an episode. I feel like Bart Simpson writing on the chalkboard at the beginning of an episode. I feel like Bart Simpson writing on the chalkboard at the beginning of an episode. I feel like Bart Simpson writing on the chalkboard at the beginning of an episode. I feel like Bart Simpson writing on the chalkboard at the beginning of an episode. I feel like Bart Simpson writing on the chalkboard at the beginning of an episode. I feel like Bart Simpson writing on the chalkboard at the beginning of an episode. I feel like Bart Simpson writing on the chalkboard at the beginning of an episode. I feel like Bart Simpson writing on the chalkboard at the beginning of an episode. I feel like Bart Simpson writing on the chalkboard at the beginning of an episode. I feel like Bart Simpson writing on the chalkboard at the beginning of an episode. I feel like Bart Simpson writing on the chalkboard at the beginning of an episode. I feel like Bart Simpson writing on the chalkboard at the beginning of an episode. I feel like Bart Simpson writing on the chalkboard at the beginning of an episode. I feel like Bart Simpson writing on the chalkboard at the beginning of an episode. I feel like Bart Simpson writing on the chalkboard at the beginning of an episode. I feel like Bart Simpson writing on the chalkboard at the beginning of an episode. I feel like Bart Simpson writing on the chalkboard at the beginning of an episode. I feel like Bart Simpson writing on the chalkboard at the beginning of an episode. I feel like Bart Simpson writing on the chalkboard at the beginning of an episode. I feel like Bart Simpson writing on the chalkboard at the beginning of an episode. I feel like Bart Simpson writing on the chalkboard at the beginning of an episode. I feel like Bart Simpson writing on the chalkboard at the beginning of an episode. I feel like Bart Simpson writing on the chalkboard at the beginning of an episode. I feel like Bart Simpson writing on the chalkboard at the beginning of an episode. I feel like Bart Simpson writing on the chalkboard at the beginning of an episode. I feel like Bart Simpson writing on the chalkboard at the beginning of an episode. I feel like Bart Simpson writing on the chalkboard at the beginning of an episode. I feel like Bart Simpson writing on the chalkboard at the beginning of an episode. I feel like Bart Simpson writing on the chalkboard at the beginning of an episode. I feel like Bart Simpson writing on the chalkboard at the beginning of an episode. I feel like Bart Simpson writing on the chalkboard at the beginning of an episode. I feel like Bart Simpson writing on the chalkboard at the beginning of an episode. I feel like Bart Simpson writing on the chalkboard at the beginning of an episode. I feel like Bart Simpson writing on the chalkboard at the beginning of an episode. I feel like Bart Simpson writing on the chalkboard at the beginning of an episode. I feel like Bart Simpson writing on the chalkboard at the beginning of an episode. I feel like Bart Simpson writing on the chalkboard at the beginning of an episode. I feel like Bart Simpson writing on the chalkboard at the beginning of an episode. I feel like Bart Simpson writing on the chalkboard at the beginning of an episode. I feel like Bart Simpson writing on the chalkboard at the beginning of an episode. '"
      ]
     },
     "execution_count": 57,
     "metadata": {},
     "output_type": "execute_result"
    }
   ],
   "source": [
    "(k+l)*100"
   ]
  },
  {
   "cell_type": "code",
   "execution_count": null,
   "id": "a58654f3",
   "metadata": {},
   "outputs": [],
   "source": []
  }
 ],
 "metadata": {
  "kernelspec": {
   "display_name": "Python 3 (ipykernel)",
   "language": "python",
   "name": "python3"
  },
  "language_info": {
   "codemirror_mode": {
    "name": "ipython",
    "version": 3
   },
   "file_extension": ".py",
   "mimetype": "text/x-python",
   "name": "python",
   "nbconvert_exporter": "python",
   "pygments_lexer": "ipython3",
   "version": "3.9.12"
  }
 },
 "nbformat": 4,
 "nbformat_minor": 5
}
