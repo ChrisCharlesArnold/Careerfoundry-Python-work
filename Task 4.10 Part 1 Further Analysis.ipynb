{
 "cells": [
  {
   "cell_type": "markdown",
   "id": "a4fbf29a",
   "metadata": {},
   "source": [
    "# Task 4.10 Part 1 Further Analysis"
   ]
  },
  {
   "cell_type": "markdown",
   "id": "1295611c",
   "metadata": {},
   "source": [
    "This script contains the following points:\n",
    "\n",
    "    01. Improting Libraries\n",
    "    02. Importing CSV/PKL files\n",
    "    03. Work for Task Part 1\n",
    "    04. Exporting files and visuals  "
   ]
  },
  {
   "cell_type": "markdown",
   "id": "7f8b5e13",
   "metadata": {},
   "source": [
    "## 01. Importing Libraries"
   ]
  },
  {
   "cell_type": "code",
   "execution_count": 1,
   "id": "4051d2f1",
   "metadata": {},
   "outputs": [],
   "source": [
    "# Import libraries\n",
    "\n",
    "import pandas as pd\n",
    "import numpy as np\n",
    "import os\n",
    "import matplotlib.pyplot as plt\n",
    "import seaborn as sns\n",
    "import scipy"
   ]
  },
  {
   "cell_type": "markdown",
   "id": "59a50868",
   "metadata": {},
   "source": [
    "## 02. Importing CSV/PKL files"
   ]
  },
  {
   "cell_type": "code",
   "execution_count": 2,
   "id": "a03cb735",
   "metadata": {},
   "outputs": [],
   "source": [
    "# Identifying pathway for import for ease with multiple imports\n",
    "path = r'C:\\Users\\Chris Arnold\\Documents\\Instacart Basket Analysis'"
   ]
  },
  {
   "cell_type": "code",
   "execution_count": 3,
   "id": "ca1448f7",
   "metadata": {},
   "outputs": [],
   "source": [
    "# Importing orders_products__customers_merged.pkl\n",
    "df_complete = pd.read_pickle(os.path.join(path, '02 Data', 'Prepared Data', 'orders_products_customers_merged.pkl'))"
   ]
  },
  {
   "cell_type": "markdown",
   "id": "99876c0b",
   "metadata": {},
   "source": [
    "## 03. Work for task part 1"
   ]
  },
  {
   "cell_type": "markdown",
   "id": "8d865669",
   "metadata": {},
   "source": [
    "### Consider any security implications that might exist for this new data. You’ll need to address any PII data in the data before continuing your analysis."
   ]
  },
  {
   "cell_type": "code",
   "execution_count": 4,
   "id": "aea0321f",
   "metadata": {},
   "outputs": [
    {
     "data": {
      "text/html": [
       "<div>\n",
       "<style scoped>\n",
       "    .dataframe tbody tr th:only-of-type {\n",
       "        vertical-align: middle;\n",
       "    }\n",
       "\n",
       "    .dataframe tbody tr th {\n",
       "        vertical-align: top;\n",
       "    }\n",
       "\n",
       "    .dataframe thead th {\n",
       "        text-align: right;\n",
       "    }\n",
       "</style>\n",
       "<table border=\"1\" class=\"dataframe\">\n",
       "  <thead>\n",
       "    <tr style=\"text-align: right;\">\n",
       "      <th></th>\n",
       "      <th>User_ID</th>\n",
       "      <th>First_Name</th>\n",
       "      <th>Last_Name</th>\n",
       "      <th>Gender</th>\n",
       "      <th>State</th>\n",
       "      <th>Age</th>\n",
       "      <th>Date_Joined</th>\n",
       "      <th>Number_of_Dependants</th>\n",
       "      <th>Family_Status</th>\n",
       "      <th>Income</th>\n",
       "      <th>...</th>\n",
       "      <th>busiest_day</th>\n",
       "      <th>busiest_days</th>\n",
       "      <th>busiest_period_of_day</th>\n",
       "      <th>max_order</th>\n",
       "      <th>loyalty_flag</th>\n",
       "      <th>Total_spent</th>\n",
       "      <th>Mean_prices</th>\n",
       "      <th>Spender_type</th>\n",
       "      <th>Median_days_since_prior_order</th>\n",
       "      <th>Customer_frequency</th>\n",
       "    </tr>\n",
       "  </thead>\n",
       "  <tbody>\n",
       "    <tr>\n",
       "      <th>0</th>\n",
       "      <td>26711</td>\n",
       "      <td>Deborah</td>\n",
       "      <td>Esquivel</td>\n",
       "      <td>Female</td>\n",
       "      <td>Missouri</td>\n",
       "      <td>48</td>\n",
       "      <td>1/1/2017</td>\n",
       "      <td>3</td>\n",
       "      <td>married</td>\n",
       "      <td>165665</td>\n",
       "      <td>...</td>\n",
       "      <td>Regularly busy</td>\n",
       "      <td>Regularly busy</td>\n",
       "      <td>Average Orders</td>\n",
       "      <td>8</td>\n",
       "      <td>New customer</td>\n",
       "      <td>12.6</td>\n",
       "      <td>7.988889</td>\n",
       "      <td>Low_spender</td>\n",
       "      <td>19.0</td>\n",
       "      <td>Regular_customer</td>\n",
       "    </tr>\n",
       "    <tr>\n",
       "      <th>1</th>\n",
       "      <td>26711</td>\n",
       "      <td>Deborah</td>\n",
       "      <td>Esquivel</td>\n",
       "      <td>Female</td>\n",
       "      <td>Missouri</td>\n",
       "      <td>48</td>\n",
       "      <td>1/1/2017</td>\n",
       "      <td>3</td>\n",
       "      <td>married</td>\n",
       "      <td>165665</td>\n",
       "      <td>...</td>\n",
       "      <td>Regularly busy</td>\n",
       "      <td>Regularly busy</td>\n",
       "      <td>Most Orders</td>\n",
       "      <td>8</td>\n",
       "      <td>New customer</td>\n",
       "      <td>12.6</td>\n",
       "      <td>7.988889</td>\n",
       "      <td>Low_spender</td>\n",
       "      <td>19.0</td>\n",
       "      <td>Regular_customer</td>\n",
       "    </tr>\n",
       "    <tr>\n",
       "      <th>2</th>\n",
       "      <td>26711</td>\n",
       "      <td>Deborah</td>\n",
       "      <td>Esquivel</td>\n",
       "      <td>Female</td>\n",
       "      <td>Missouri</td>\n",
       "      <td>48</td>\n",
       "      <td>1/1/2017</td>\n",
       "      <td>3</td>\n",
       "      <td>married</td>\n",
       "      <td>165665</td>\n",
       "      <td>...</td>\n",
       "      <td>Regularly busy</td>\n",
       "      <td>Regularly busy</td>\n",
       "      <td>Most Orders</td>\n",
       "      <td>8</td>\n",
       "      <td>New customer</td>\n",
       "      <td>12.6</td>\n",
       "      <td>7.988889</td>\n",
       "      <td>Low_spender</td>\n",
       "      <td>19.0</td>\n",
       "      <td>Regular_customer</td>\n",
       "    </tr>\n",
       "    <tr>\n",
       "      <th>3</th>\n",
       "      <td>26711</td>\n",
       "      <td>Deborah</td>\n",
       "      <td>Esquivel</td>\n",
       "      <td>Female</td>\n",
       "      <td>Missouri</td>\n",
       "      <td>48</td>\n",
       "      <td>1/1/2017</td>\n",
       "      <td>3</td>\n",
       "      <td>married</td>\n",
       "      <td>165665</td>\n",
       "      <td>...</td>\n",
       "      <td>Regularly busy</td>\n",
       "      <td>Regularly busy</td>\n",
       "      <td>Average Orders</td>\n",
       "      <td>8</td>\n",
       "      <td>New customer</td>\n",
       "      <td>12.6</td>\n",
       "      <td>7.988889</td>\n",
       "      <td>Low_spender</td>\n",
       "      <td>19.0</td>\n",
       "      <td>Regular_customer</td>\n",
       "    </tr>\n",
       "    <tr>\n",
       "      <th>4</th>\n",
       "      <td>26711</td>\n",
       "      <td>Deborah</td>\n",
       "      <td>Esquivel</td>\n",
       "      <td>Female</td>\n",
       "      <td>Missouri</td>\n",
       "      <td>48</td>\n",
       "      <td>1/1/2017</td>\n",
       "      <td>3</td>\n",
       "      <td>married</td>\n",
       "      <td>165665</td>\n",
       "      <td>...</td>\n",
       "      <td>Regularly busy</td>\n",
       "      <td>Slowest days</td>\n",
       "      <td>Most Orders</td>\n",
       "      <td>8</td>\n",
       "      <td>New customer</td>\n",
       "      <td>12.6</td>\n",
       "      <td>7.988889</td>\n",
       "      <td>Low_spender</td>\n",
       "      <td>19.0</td>\n",
       "      <td>Regular_customer</td>\n",
       "    </tr>\n",
       "  </tbody>\n",
       "</table>\n",
       "<p>5 rows × 36 columns</p>\n",
       "</div>"
      ],
      "text/plain": [
       "  User_ID First_Name Last_Name  Gender     State  Age Date_Joined  \\\n",
       "0   26711    Deborah  Esquivel  Female  Missouri   48    1/1/2017   \n",
       "1   26711    Deborah  Esquivel  Female  Missouri   48    1/1/2017   \n",
       "2   26711    Deborah  Esquivel  Female  Missouri   48    1/1/2017   \n",
       "3   26711    Deborah  Esquivel  Female  Missouri   48    1/1/2017   \n",
       "4   26711    Deborah  Esquivel  Female  Missouri   48    1/1/2017   \n",
       "\n",
       "   Number_of_Dependants Family_Status  Income  ...     busiest_day  \\\n",
       "0                     3       married  165665  ...  Regularly busy   \n",
       "1                     3       married  165665  ...  Regularly busy   \n",
       "2                     3       married  165665  ...  Regularly busy   \n",
       "3                     3       married  165665  ...  Regularly busy   \n",
       "4                     3       married  165665  ...  Regularly busy   \n",
       "\n",
       "     busiest_days  busiest_period_of_day  max_order  loyalty_flag  \\\n",
       "0  Regularly busy         Average Orders          8  New customer   \n",
       "1  Regularly busy            Most Orders          8  New customer   \n",
       "2  Regularly busy            Most Orders          8  New customer   \n",
       "3  Regularly busy         Average Orders          8  New customer   \n",
       "4    Slowest days            Most Orders          8  New customer   \n",
       "\n",
       "   Total_spent  Mean_prices  Spender_type  Median_days_since_prior_order  \\\n",
       "0         12.6     7.988889   Low_spender                           19.0   \n",
       "1         12.6     7.988889   Low_spender                           19.0   \n",
       "2         12.6     7.988889   Low_spender                           19.0   \n",
       "3         12.6     7.988889   Low_spender                           19.0   \n",
       "4         12.6     7.988889   Low_spender                           19.0   \n",
       "\n",
       "  Customer_frequency  \n",
       "0   Regular_customer  \n",
       "1   Regular_customer  \n",
       "2   Regular_customer  \n",
       "3   Regular_customer  \n",
       "4   Regular_customer  \n",
       "\n",
       "[5 rows x 36 columns]"
      ]
     },
     "execution_count": 4,
     "metadata": {},
     "output_type": "execute_result"
    }
   ],
   "source": [
    "# looking at the head to determing if there is and PII data to remove\n",
    "df_complete.head()"
   ]
  },
  {
   "cell_type": "markdown",
   "id": "f451cad7",
   "metadata": {},
   "source": [
    "The First_Name and Last_Name columns should be removed as they allow for actual identification of the customer."
   ]
  },
  {
   "cell_type": "code",
   "execution_count": 5,
   "id": "9f622218",
   "metadata": {},
   "outputs": [],
   "source": [
    "# Removing First_Name and Last_Name columns\n",
    "df_complete = df_complete.drop(columns = ['First_Name'])"
   ]
  },
  {
   "cell_type": "code",
   "execution_count": 6,
   "id": "0709a549",
   "metadata": {},
   "outputs": [],
   "source": [
    "# Removing First_Name and Last_Name columns\n",
    "df_complete = df_complete.drop(columns = ['Last_Name'])"
   ]
  },
  {
   "cell_type": "code",
   "execution_count": 7,
   "id": "c4711ef9",
   "metadata": {},
   "outputs": [
    {
     "data": {
      "text/html": [
       "<div>\n",
       "<style scoped>\n",
       "    .dataframe tbody tr th:only-of-type {\n",
       "        vertical-align: middle;\n",
       "    }\n",
       "\n",
       "    .dataframe tbody tr th {\n",
       "        vertical-align: top;\n",
       "    }\n",
       "\n",
       "    .dataframe thead th {\n",
       "        text-align: right;\n",
       "    }\n",
       "</style>\n",
       "<table border=\"1\" class=\"dataframe\">\n",
       "  <thead>\n",
       "    <tr style=\"text-align: right;\">\n",
       "      <th></th>\n",
       "      <th>User_ID</th>\n",
       "      <th>Gender</th>\n",
       "      <th>State</th>\n",
       "      <th>Age</th>\n",
       "      <th>Date_Joined</th>\n",
       "      <th>Number_of_Dependants</th>\n",
       "      <th>Family_Status</th>\n",
       "      <th>Income</th>\n",
       "      <th>order_id</th>\n",
       "      <th>eval_set</th>\n",
       "      <th>...</th>\n",
       "      <th>busiest_day</th>\n",
       "      <th>busiest_days</th>\n",
       "      <th>busiest_period_of_day</th>\n",
       "      <th>max_order</th>\n",
       "      <th>loyalty_flag</th>\n",
       "      <th>Total_spent</th>\n",
       "      <th>Mean_prices</th>\n",
       "      <th>Spender_type</th>\n",
       "      <th>Median_days_since_prior_order</th>\n",
       "      <th>Customer_frequency</th>\n",
       "    </tr>\n",
       "  </thead>\n",
       "  <tbody>\n",
       "    <tr>\n",
       "      <th>0</th>\n",
       "      <td>26711</td>\n",
       "      <td>Female</td>\n",
       "      <td>Missouri</td>\n",
       "      <td>48</td>\n",
       "      <td>1/1/2017</td>\n",
       "      <td>3</td>\n",
       "      <td>married</td>\n",
       "      <td>165665</td>\n",
       "      <td>2543867</td>\n",
       "      <td>prior</td>\n",
       "      <td>...</td>\n",
       "      <td>Regularly busy</td>\n",
       "      <td>Regularly busy</td>\n",
       "      <td>Average Orders</td>\n",
       "      <td>8</td>\n",
       "      <td>New customer</td>\n",
       "      <td>12.6</td>\n",
       "      <td>7.988889</td>\n",
       "      <td>Low_spender</td>\n",
       "      <td>19.0</td>\n",
       "      <td>Regular_customer</td>\n",
       "    </tr>\n",
       "    <tr>\n",
       "      <th>1</th>\n",
       "      <td>26711</td>\n",
       "      <td>Female</td>\n",
       "      <td>Missouri</td>\n",
       "      <td>48</td>\n",
       "      <td>1/1/2017</td>\n",
       "      <td>3</td>\n",
       "      <td>married</td>\n",
       "      <td>165665</td>\n",
       "      <td>1285508</td>\n",
       "      <td>prior</td>\n",
       "      <td>...</td>\n",
       "      <td>Regularly busy</td>\n",
       "      <td>Regularly busy</td>\n",
       "      <td>Most Orders</td>\n",
       "      <td>8</td>\n",
       "      <td>New customer</td>\n",
       "      <td>12.6</td>\n",
       "      <td>7.988889</td>\n",
       "      <td>Low_spender</td>\n",
       "      <td>19.0</td>\n",
       "      <td>Regular_customer</td>\n",
       "    </tr>\n",
       "    <tr>\n",
       "      <th>2</th>\n",
       "      <td>26711</td>\n",
       "      <td>Female</td>\n",
       "      <td>Missouri</td>\n",
       "      <td>48</td>\n",
       "      <td>1/1/2017</td>\n",
       "      <td>3</td>\n",
       "      <td>married</td>\n",
       "      <td>165665</td>\n",
       "      <td>2578584</td>\n",
       "      <td>prior</td>\n",
       "      <td>...</td>\n",
       "      <td>Regularly busy</td>\n",
       "      <td>Regularly busy</td>\n",
       "      <td>Most Orders</td>\n",
       "      <td>8</td>\n",
       "      <td>New customer</td>\n",
       "      <td>12.6</td>\n",
       "      <td>7.988889</td>\n",
       "      <td>Low_spender</td>\n",
       "      <td>19.0</td>\n",
       "      <td>Regular_customer</td>\n",
       "    </tr>\n",
       "    <tr>\n",
       "      <th>3</th>\n",
       "      <td>26711</td>\n",
       "      <td>Female</td>\n",
       "      <td>Missouri</td>\n",
       "      <td>48</td>\n",
       "      <td>1/1/2017</td>\n",
       "      <td>3</td>\n",
       "      <td>married</td>\n",
       "      <td>165665</td>\n",
       "      <td>423547</td>\n",
       "      <td>prior</td>\n",
       "      <td>...</td>\n",
       "      <td>Regularly busy</td>\n",
       "      <td>Regularly busy</td>\n",
       "      <td>Average Orders</td>\n",
       "      <td>8</td>\n",
       "      <td>New customer</td>\n",
       "      <td>12.6</td>\n",
       "      <td>7.988889</td>\n",
       "      <td>Low_spender</td>\n",
       "      <td>19.0</td>\n",
       "      <td>Regular_customer</td>\n",
       "    </tr>\n",
       "    <tr>\n",
       "      <th>4</th>\n",
       "      <td>26711</td>\n",
       "      <td>Female</td>\n",
       "      <td>Missouri</td>\n",
       "      <td>48</td>\n",
       "      <td>1/1/2017</td>\n",
       "      <td>3</td>\n",
       "      <td>married</td>\n",
       "      <td>165665</td>\n",
       "      <td>2524893</td>\n",
       "      <td>prior</td>\n",
       "      <td>...</td>\n",
       "      <td>Regularly busy</td>\n",
       "      <td>Slowest days</td>\n",
       "      <td>Most Orders</td>\n",
       "      <td>8</td>\n",
       "      <td>New customer</td>\n",
       "      <td>12.6</td>\n",
       "      <td>7.988889</td>\n",
       "      <td>Low_spender</td>\n",
       "      <td>19.0</td>\n",
       "      <td>Regular_customer</td>\n",
       "    </tr>\n",
       "  </tbody>\n",
       "</table>\n",
       "<p>5 rows × 34 columns</p>\n",
       "</div>"
      ],
      "text/plain": [
       "  User_ID  Gender     State  Age Date_Joined  Number_of_Dependants  \\\n",
       "0   26711  Female  Missouri   48    1/1/2017                     3   \n",
       "1   26711  Female  Missouri   48    1/1/2017                     3   \n",
       "2   26711  Female  Missouri   48    1/1/2017                     3   \n",
       "3   26711  Female  Missouri   48    1/1/2017                     3   \n",
       "4   26711  Female  Missouri   48    1/1/2017                     3   \n",
       "\n",
       "  Family_Status  Income  order_id eval_set  ...     busiest_day  \\\n",
       "0       married  165665   2543867    prior  ...  Regularly busy   \n",
       "1       married  165665   1285508    prior  ...  Regularly busy   \n",
       "2       married  165665   2578584    prior  ...  Regularly busy   \n",
       "3       married  165665    423547    prior  ...  Regularly busy   \n",
       "4       married  165665   2524893    prior  ...  Regularly busy   \n",
       "\n",
       "     busiest_days  busiest_period_of_day  max_order  loyalty_flag  \\\n",
       "0  Regularly busy         Average Orders          8  New customer   \n",
       "1  Regularly busy            Most Orders          8  New customer   \n",
       "2  Regularly busy            Most Orders          8  New customer   \n",
       "3  Regularly busy         Average Orders          8  New customer   \n",
       "4    Slowest days            Most Orders          8  New customer   \n",
       "\n",
       "   Total_spent  Mean_prices Spender_type  Median_days_since_prior_order  \\\n",
       "0         12.6     7.988889  Low_spender                           19.0   \n",
       "1         12.6     7.988889  Low_spender                           19.0   \n",
       "2         12.6     7.988889  Low_spender                           19.0   \n",
       "3         12.6     7.988889  Low_spender                           19.0   \n",
       "4         12.6     7.988889  Low_spender                           19.0   \n",
       "\n",
       "  Customer_frequency  \n",
       "0   Regular_customer  \n",
       "1   Regular_customer  \n",
       "2   Regular_customer  \n",
       "3   Regular_customer  \n",
       "4   Regular_customer  \n",
       "\n",
       "[5 rows x 34 columns]"
      ]
     },
     "execution_count": 7,
     "metadata": {},
     "output_type": "execute_result"
    }
   ],
   "source": [
    "# Checking work\n",
    "df_complete.head()"
   ]
  },
  {
   "cell_type": "markdown",
   "id": "4504ce84",
   "metadata": {},
   "source": [
    "Looks good to proceed further"
   ]
  },
  {
   "cell_type": "markdown",
   "id": "8bb3d094",
   "metadata": {},
   "source": [
    "### The Instacart officers are interested in comparing customer behavior in different geographic areas. Create a regional segmentation of the data. You’ll need to create a “Region” column based on the “State” column from your customers data set.\n",
    "\n",
    "### 1) Use the region information in this Wikipedia article to create your column (you only need to create regions, not divisions).\n",
    "    \n",
    "### 2) Determine whether there’s a difference in spending habits between the different U.S. regions. (Hint: You can do this by     crossing the variable you just created with the spending flag.)\n"
   ]
  },
  {
   "cell_type": "markdown",
   "id": "49428bdb",
   "metadata": {},
   "source": [
    "Starting the process for creating the regions by making a list that divides in to regions based on the Wikipedia link."
   ]
  },
  {
   "cell_type": "code",
   "execution_count": 8,
   "id": "cdc4052f",
   "metadata": {},
   "outputs": [],
   "source": [
    "result = []\n",
    "\n",
    "for value in df_complete[\"State\"]:\n",
    "  if (value == 'Maine') or ( value == 'New Hampshire') or (value == 'Vermont') or (value == 'Massachusetts') or (value == 'Rhode Island') or (value == 'Connecticut') or (value == 'New York') or (value == 'Pennsylvania') or (value == 'New Jersey'):\n",
    "    result.append(\"Region 1, Northeast\")\n",
    "  elif (value =='Wisconsin') or (value == 'Michigan') or (value == 'Illinois') or (value == 'Indiana') or (value == 'Ohio') or (value == 'North Dakota') or (value == 'South Dakota') or (value =='Nebraska') or (value =='Kansas') or (value =='Minnesota') or (value =='Iowa') or (value =='Missouri'):\n",
    "    result.append(\"Region 2, Midwest\")\n",
    "  elif (value =='Delaware') or (value == 'Maryland') or (value == 'District of Columbia') or (value =='Virginia') or (value =='West Virginia') or (value =='North Carolina') or (value == 'South Carolina') or (value == 'Georgia') or (value =='Florida') or (value =='Kentucky') or (value == 'Tennessee') or (value == 'Mississippi') or (value == 'Alabama') or (value == 'Oklahoma') or (value == 'Texas') or (value == 'Arkansas') or (value == 'Louisiana'):  \n",
    "    result.append(\"Region 3, South\")  \n",
    "  elif (value =='Idaho') or (value == 'Montana') or (value == 'Wyoming') or (value == 'Nevada') or (value == 'Utah') or (value == 'Colorado') or (value =='Arizona') or (value == 'New Mexico') or (value == 'Alaska') or (value == 'Washington') or (value == 'Oregon') or (value == 'California') or (value == 'Hawaii'):\n",
    "    result.append(\"Region 4, West\")\n",
    "  else:\n",
    "    result.append(\"Not Part of USA\")"
   ]
  },
  {
   "cell_type": "code",
   "execution_count": 9,
   "id": "64f6de49",
   "metadata": {},
   "outputs": [
    {
     "data": {
      "text/plain": [
       "['Region 2, Midwest',\n",
       " 'Region 2, Midwest',\n",
       " 'Region 2, Midwest',\n",
       " 'Region 2, Midwest',\n",
       " 'Region 2, Midwest',\n",
       " 'Region 2, Midwest',\n",
       " 'Region 2, Midwest',\n",
       " 'Region 2, Midwest',\n",
       " 'Region 2, Midwest',\n",
       " 'Region 2, Midwest',\n",
       " 'Region 2, Midwest',\n",
       " 'Region 2, Midwest',\n",
       " 'Region 2, Midwest',\n",
       " 'Region 2, Midwest',\n",
       " 'Region 2, Midwest',\n",
       " 'Region 2, Midwest',\n",
       " 'Region 2, Midwest',\n",
       " 'Region 2, Midwest',\n",
       " 'Region 4, West',\n",
       " 'Region 4, West',\n",
       " 'Region 4, West',\n",
       " 'Region 4, West',\n",
       " 'Region 4, West',\n",
       " 'Region 4, West',\n",
       " 'Region 4, West',\n",
       " 'Region 4, West',\n",
       " 'Region 4, West',\n",
       " 'Region 4, West',\n",
       " 'Region 4, West',\n",
       " 'Region 4, West',\n",
       " 'Region 4, West',\n",
       " 'Region 4, West',\n",
       " 'Region 4, West',\n",
       " 'Region 4, West',\n",
       " 'Region 4, West',\n",
       " 'Region 4, West',\n",
       " 'Region 4, West',\n",
       " 'Region 4, West',\n",
       " 'Region 4, West',\n",
       " 'Region 4, West',\n",
       " 'Region 4, West',\n",
       " 'Region 4, West',\n",
       " 'Region 4, West',\n",
       " 'Region 4, West',\n",
       " 'Region 4, West',\n",
       " 'Region 4, West',\n",
       " 'Region 4, West',\n",
       " 'Region 4, West',\n",
       " 'Region 4, West',\n",
       " 'Region 4, West',\n",
       " 'Region 4, West',\n",
       " 'Region 4, West',\n",
       " 'Region 4, West',\n",
       " 'Region 4, West',\n",
       " 'Region 4, West',\n",
       " 'Region 4, West',\n",
       " 'Region 4, West',\n",
       " 'Region 4, West',\n",
       " 'Region 4, West',\n",
       " 'Region 4, West',\n",
       " 'Region 4, West',\n",
       " 'Region 4, West',\n",
       " 'Region 4, West',\n",
       " 'Region 4, West',\n",
       " 'Region 4, West',\n",
       " 'Region 4, West',\n",
       " 'Region 4, West',\n",
       " 'Region 4, West',\n",
       " 'Region 4, West',\n",
       " 'Region 4, West',\n",
       " 'Region 4, West',\n",
       " 'Region 4, West',\n",
       " 'Region 4, West',\n",
       " 'Region 4, West',\n",
       " 'Region 4, West',\n",
       " 'Region 4, West',\n",
       " 'Region 4, West',\n",
       " 'Region 4, West',\n",
       " 'Region 4, West',\n",
       " 'Region 4, West',\n",
       " 'Region 4, West',\n",
       " 'Region 4, West',\n",
       " 'Region 4, West',\n",
       " 'Region 4, West',\n",
       " 'Region 4, West',\n",
       " 'Region 4, West',\n",
       " 'Region 4, West',\n",
       " 'Region 4, West',\n",
       " 'Region 4, West',\n",
       " 'Region 4, West',\n",
       " 'Region 4, West',\n",
       " 'Region 4, West',\n",
       " 'Region 4, West',\n",
       " 'Region 4, West',\n",
       " 'Region 4, West',\n",
       " 'Region 4, West',\n",
       " 'Region 4, West',\n",
       " 'Region 4, West',\n",
       " 'Region 4, West',\n",
       " 'Region 4, West',\n",
       " 'Region 4, West',\n",
       " 'Region 4, West',\n",
       " 'Region 4, West',\n",
       " 'Region 4, West',\n",
       " 'Region 4, West',\n",
       " 'Region 4, West',\n",
       " 'Region 4, West',\n",
       " 'Region 4, West',\n",
       " 'Region 4, West',\n",
       " 'Region 4, West',\n",
       " 'Region 4, West',\n",
       " 'Region 4, West',\n",
       " 'Region 4, West',\n",
       " 'Region 4, West',\n",
       " 'Region 4, West',\n",
       " 'Region 4, West',\n",
       " 'Region 4, West',\n",
       " 'Region 4, West',\n",
       " 'Region 4, West',\n",
       " 'Region 4, West',\n",
       " 'Region 4, West',\n",
       " 'Region 4, West',\n",
       " 'Region 4, West',\n",
       " 'Region 4, West',\n",
       " 'Region 4, West',\n",
       " 'Region 4, West',\n",
       " 'Region 4, West',\n",
       " 'Region 4, West',\n",
       " 'Region 4, West',\n",
       " 'Region 4, West',\n",
       " 'Region 4, West',\n",
       " 'Region 4, West',\n",
       " 'Region 4, West',\n",
       " 'Region 4, West',\n",
       " 'Region 4, West',\n",
       " 'Region 4, West',\n",
       " 'Region 4, West',\n",
       " 'Region 4, West',\n",
       " 'Region 4, West',\n",
       " 'Region 4, West',\n",
       " 'Region 4, West',\n",
       " 'Region 4, West',\n",
       " 'Region 4, West',\n",
       " 'Region 4, West',\n",
       " 'Region 4, West',\n",
       " 'Region 4, West',\n",
       " 'Region 4, West',\n",
       " 'Region 4, West',\n",
       " 'Region 4, West',\n",
       " 'Region 4, West',\n",
       " 'Region 4, West',\n",
       " 'Region 4, West',\n",
       " 'Region 4, West',\n",
       " 'Region 4, West',\n",
       " 'Region 4, West',\n",
       " 'Region 4, West',\n",
       " 'Region 4, West',\n",
       " 'Region 4, West',\n",
       " 'Region 4, West',\n",
       " 'Region 4, West',\n",
       " 'Region 4, West',\n",
       " 'Region 4, West',\n",
       " 'Region 4, West',\n",
       " 'Region 4, West',\n",
       " 'Region 4, West',\n",
       " 'Region 4, West',\n",
       " 'Region 4, West',\n",
       " 'Region 4, West',\n",
       " 'Region 4, West',\n",
       " 'Region 4, West',\n",
       " 'Region 4, West',\n",
       " 'Region 4, West',\n",
       " 'Region 4, West',\n",
       " 'Region 4, West',\n",
       " 'Region 4, West',\n",
       " 'Region 4, West',\n",
       " 'Region 4, West',\n",
       " 'Region 4, West',\n",
       " 'Region 4, West',\n",
       " 'Region 4, West',\n",
       " 'Region 4, West',\n",
       " 'Region 4, West',\n",
       " 'Region 4, West',\n",
       " 'Region 4, West',\n",
       " 'Region 4, West',\n",
       " 'Region 4, West',\n",
       " 'Region 4, West',\n",
       " 'Region 4, West',\n",
       " 'Region 4, West',\n",
       " 'Region 4, West',\n",
       " 'Region 4, West',\n",
       " 'Region 4, West',\n",
       " 'Region 4, West',\n",
       " 'Region 4, West',\n",
       " 'Region 4, West',\n",
       " 'Region 2, Midwest',\n",
       " 'Region 2, Midwest',\n",
       " 'Region 2, Midwest',\n",
       " 'Region 2, Midwest',\n",
       " 'Region 2, Midwest',\n",
       " 'Region 2, Midwest',\n",
       " 'Region 2, Midwest',\n",
       " 'Region 2, Midwest',\n",
       " 'Region 2, Midwest',\n",
       " 'Region 2, Midwest',\n",
       " 'Region 2, Midwest',\n",
       " 'Region 2, Midwest',\n",
       " 'Region 2, Midwest',\n",
       " 'Region 2, Midwest',\n",
       " 'Region 2, Midwest',\n",
       " 'Region 2, Midwest',\n",
       " 'Region 2, Midwest',\n",
       " 'Region 2, Midwest',\n",
       " 'Region 2, Midwest',\n",
       " 'Region 2, Midwest',\n",
       " 'Region 2, Midwest',\n",
       " 'Region 2, Midwest',\n",
       " 'Region 2, Midwest',\n",
       " 'Region 2, Midwest',\n",
       " 'Region 2, Midwest',\n",
       " 'Region 2, Midwest',\n",
       " 'Region 2, Midwest',\n",
       " 'Region 2, Midwest',\n",
       " 'Region 2, Midwest',\n",
       " 'Region 2, Midwest',\n",
       " 'Region 2, Midwest',\n",
       " 'Region 2, Midwest',\n",
       " 'Region 2, Midwest',\n",
       " 'Region 2, Midwest',\n",
       " 'Region 2, Midwest',\n",
       " 'Region 2, Midwest',\n",
       " 'Region 2, Midwest',\n",
       " 'Region 2, Midwest',\n",
       " 'Region 2, Midwest',\n",
       " 'Region 2, Midwest',\n",
       " 'Region 2, Midwest',\n",
       " 'Region 2, Midwest',\n",
       " 'Region 2, Midwest',\n",
       " 'Region 2, Midwest',\n",
       " 'Region 2, Midwest',\n",
       " 'Region 2, Midwest',\n",
       " 'Region 2, Midwest',\n",
       " 'Region 2, Midwest',\n",
       " 'Region 2, Midwest',\n",
       " 'Region 2, Midwest',\n",
       " 'Region 2, Midwest',\n",
       " 'Region 2, Midwest',\n",
       " 'Region 2, Midwest',\n",
       " 'Region 2, Midwest',\n",
       " 'Region 2, Midwest',\n",
       " 'Region 2, Midwest',\n",
       " 'Region 2, Midwest',\n",
       " 'Region 2, Midwest',\n",
       " 'Region 2, Midwest',\n",
       " 'Region 2, Midwest',\n",
       " 'Region 2, Midwest',\n",
       " 'Region 2, Midwest',\n",
       " 'Region 2, Midwest',\n",
       " 'Region 2, Midwest',\n",
       " 'Region 2, Midwest',\n",
       " 'Region 2, Midwest',\n",
       " 'Region 2, Midwest',\n",
       " 'Region 2, Midwest',\n",
       " 'Region 2, Midwest',\n",
       " 'Region 2, Midwest',\n",
       " 'Region 2, Midwest',\n",
       " 'Region 2, Midwest',\n",
       " 'Region 2, Midwest',\n",
       " 'Region 2, Midwest',\n",
       " 'Region 2, Midwest',\n",
       " 'Region 2, Midwest',\n",
       " 'Region 2, Midwest',\n",
       " 'Region 2, Midwest',\n",
       " 'Region 2, Midwest',\n",
       " 'Region 2, Midwest',\n",
       " 'Region 2, Midwest',\n",
       " 'Region 2, Midwest',\n",
       " 'Region 2, Midwest',\n",
       " 'Region 2, Midwest',\n",
       " 'Region 2, Midwest',\n",
       " 'Region 2, Midwest',\n",
       " 'Region 2, Midwest',\n",
       " 'Region 2, Midwest',\n",
       " 'Region 2, Midwest',\n",
       " 'Region 2, Midwest',\n",
       " 'Region 2, Midwest',\n",
       " 'Region 2, Midwest',\n",
       " 'Region 2, Midwest',\n",
       " 'Region 2, Midwest',\n",
       " 'Region 2, Midwest',\n",
       " 'Region 2, Midwest',\n",
       " 'Region 2, Midwest',\n",
       " 'Region 2, Midwest',\n",
       " 'Region 2, Midwest',\n",
       " 'Region 2, Midwest',\n",
       " 'Region 2, Midwest',\n",
       " 'Region 2, Midwest',\n",
       " 'Region 2, Midwest',\n",
       " 'Region 2, Midwest',\n",
       " 'Region 2, Midwest',\n",
       " 'Region 2, Midwest',\n",
       " 'Region 2, Midwest',\n",
       " 'Region 2, Midwest',\n",
       " 'Region 2, Midwest',\n",
       " 'Region 2, Midwest',\n",
       " 'Region 2, Midwest',\n",
       " 'Region 2, Midwest',\n",
       " 'Region 2, Midwest',\n",
       " 'Region 2, Midwest',\n",
       " 'Region 2, Midwest',\n",
       " 'Region 2, Midwest',\n",
       " 'Region 2, Midwest',\n",
       " 'Region 2, Midwest',\n",
       " 'Region 2, Midwest',\n",
       " 'Region 2, Midwest',\n",
       " 'Region 2, Midwest',\n",
       " 'Region 2, Midwest',\n",
       " 'Region 2, Midwest',\n",
       " 'Region 2, Midwest',\n",
       " 'Region 2, Midwest',\n",
       " 'Region 2, Midwest',\n",
       " 'Region 2, Midwest',\n",
       " 'Region 2, Midwest',\n",
       " 'Region 2, Midwest',\n",
       " 'Region 2, Midwest',\n",
       " 'Region 2, Midwest',\n",
       " 'Region 2, Midwest',\n",
       " 'Region 2, Midwest',\n",
       " 'Region 2, Midwest',\n",
       " 'Region 2, Midwest',\n",
       " 'Region 2, Midwest',\n",
       " 'Region 2, Midwest',\n",
       " 'Region 2, Midwest',\n",
       " 'Region 2, Midwest',\n",
       " 'Region 2, Midwest',\n",
       " 'Region 2, Midwest',\n",
       " 'Region 2, Midwest',\n",
       " 'Region 2, Midwest',\n",
       " 'Region 2, Midwest',\n",
       " 'Region 2, Midwest',\n",
       " 'Region 2, Midwest',\n",
       " 'Region 2, Midwest',\n",
       " 'Region 2, Midwest',\n",
       " 'Region 2, Midwest',\n",
       " 'Region 2, Midwest',\n",
       " 'Region 2, Midwest',\n",
       " 'Region 2, Midwest',\n",
       " 'Region 2, Midwest',\n",
       " 'Region 2, Midwest',\n",
       " 'Region 2, Midwest',\n",
       " 'Region 2, Midwest',\n",
       " 'Region 3, South',\n",
       " 'Region 3, South',\n",
       " 'Region 3, South',\n",
       " 'Region 3, South',\n",
       " 'Region 3, South',\n",
       " 'Region 3, South',\n",
       " 'Region 3, South',\n",
       " 'Region 3, South',\n",
       " 'Region 3, South',\n",
       " 'Region 3, South',\n",
       " 'Region 3, South',\n",
       " 'Region 3, South',\n",
       " 'Region 3, South',\n",
       " 'Region 3, South',\n",
       " 'Region 3, South',\n",
       " 'Region 3, South',\n",
       " 'Region 3, South',\n",
       " 'Region 3, South',\n",
       " 'Region 3, South',\n",
       " 'Region 3, South',\n",
       " 'Region 3, South',\n",
       " 'Region 3, South',\n",
       " 'Region 3, South',\n",
       " 'Region 3, South',\n",
       " 'Region 3, South',\n",
       " 'Region 3, South',\n",
       " 'Region 3, South',\n",
       " 'Region 3, South',\n",
       " 'Region 3, South',\n",
       " 'Region 3, South',\n",
       " 'Region 3, South',\n",
       " 'Region 3, South',\n",
       " 'Region 3, South',\n",
       " 'Region 3, South',\n",
       " 'Region 3, South',\n",
       " 'Region 3, South',\n",
       " 'Region 3, South',\n",
       " 'Region 3, South',\n",
       " 'Region 3, South',\n",
       " 'Region 3, South',\n",
       " 'Region 3, South',\n",
       " 'Region 3, South',\n",
       " 'Region 3, South',\n",
       " 'Region 3, South',\n",
       " 'Region 3, South',\n",
       " 'Region 3, South',\n",
       " 'Region 3, South',\n",
       " 'Region 3, South',\n",
       " 'Region 3, South',\n",
       " 'Region 3, South',\n",
       " 'Region 3, South',\n",
       " 'Region 3, South',\n",
       " 'Region 3, South',\n",
       " 'Region 3, South',\n",
       " 'Region 3, South',\n",
       " 'Region 3, South',\n",
       " 'Region 3, South',\n",
       " 'Region 3, South',\n",
       " 'Region 3, South',\n",
       " 'Region 3, South',\n",
       " 'Region 3, South',\n",
       " 'Region 3, South',\n",
       " 'Region 3, South',\n",
       " 'Region 3, South',\n",
       " 'Region 3, South',\n",
       " 'Region 3, South',\n",
       " 'Region 3, South',\n",
       " 'Region 3, South',\n",
       " 'Region 3, South',\n",
       " 'Region 3, South',\n",
       " 'Region 3, South',\n",
       " 'Region 3, South',\n",
       " 'Region 3, South',\n",
       " 'Region 3, South',\n",
       " 'Region 3, South',\n",
       " 'Region 3, South',\n",
       " 'Region 3, South',\n",
       " 'Region 3, South',\n",
       " 'Region 3, South',\n",
       " 'Region 3, South',\n",
       " 'Region 3, South',\n",
       " 'Region 3, South',\n",
       " 'Region 3, South',\n",
       " 'Region 3, South',\n",
       " 'Region 3, South',\n",
       " 'Region 3, South',\n",
       " 'Region 3, South',\n",
       " 'Region 3, South',\n",
       " 'Region 3, South',\n",
       " 'Region 3, South',\n",
       " 'Region 3, South',\n",
       " 'Region 3, South',\n",
       " 'Region 3, South',\n",
       " 'Region 3, South',\n",
       " 'Region 3, South',\n",
       " 'Region 3, South',\n",
       " 'Region 3, South',\n",
       " 'Region 3, South',\n",
       " 'Region 3, South',\n",
       " 'Region 3, South',\n",
       " 'Region 3, South',\n",
       " 'Region 3, South',\n",
       " 'Region 3, South',\n",
       " 'Region 3, South',\n",
       " 'Region 3, South',\n",
       " 'Region 3, South',\n",
       " 'Region 3, South',\n",
       " 'Region 3, South',\n",
       " 'Region 3, South',\n",
       " 'Region 3, South',\n",
       " 'Region 3, South',\n",
       " 'Region 3, South',\n",
       " 'Region 3, South',\n",
       " 'Region 3, South',\n",
       " 'Region 3, South',\n",
       " 'Region 3, South',\n",
       " 'Region 3, South',\n",
       " 'Region 3, South',\n",
       " 'Region 3, South',\n",
       " 'Region 3, South',\n",
       " 'Region 3, South',\n",
       " 'Region 3, South',\n",
       " 'Region 3, South',\n",
       " 'Region 3, South',\n",
       " 'Region 3, South',\n",
       " 'Region 3, South',\n",
       " 'Region 3, South',\n",
       " 'Region 3, South',\n",
       " 'Region 3, South',\n",
       " 'Region 3, South',\n",
       " 'Region 3, South',\n",
       " 'Region 3, South',\n",
       " 'Region 3, South',\n",
       " 'Region 3, South',\n",
       " 'Region 3, South',\n",
       " 'Region 3, South',\n",
       " 'Region 3, South',\n",
       " 'Region 3, South',\n",
       " 'Region 3, South',\n",
       " 'Region 3, South',\n",
       " 'Region 3, South',\n",
       " 'Region 3, South',\n",
       " 'Region 3, South',\n",
       " 'Region 3, South',\n",
       " 'Region 3, South',\n",
       " 'Region 3, South',\n",
       " 'Region 3, South',\n",
       " 'Region 3, South',\n",
       " 'Region 3, South',\n",
       " 'Region 3, South',\n",
       " 'Region 3, South',\n",
       " 'Region 3, South',\n",
       " 'Region 3, South',\n",
       " 'Region 3, South',\n",
       " 'Region 3, South',\n",
       " 'Region 3, South',\n",
       " 'Region 3, South',\n",
       " 'Region 3, South',\n",
       " 'Region 3, South',\n",
       " 'Region 3, South',\n",
       " 'Region 3, South',\n",
       " 'Region 3, South',\n",
       " 'Region 3, South',\n",
       " 'Region 3, South',\n",
       " 'Region 3, South',\n",
       " 'Region 3, South',\n",
       " 'Region 3, South',\n",
       " 'Region 3, South',\n",
       " 'Region 3, South',\n",
       " 'Region 3, South',\n",
       " 'Region 3, South',\n",
       " 'Region 3, South',\n",
       " 'Region 3, South',\n",
       " 'Region 3, South',\n",
       " 'Region 3, South',\n",
       " 'Region 3, South',\n",
       " 'Region 3, South',\n",
       " 'Region 3, South',\n",
       " 'Region 3, South',\n",
       " 'Region 3, South',\n",
       " 'Region 3, South',\n",
       " 'Region 3, South',\n",
       " 'Region 3, South',\n",
       " 'Region 3, South',\n",
       " 'Region 3, South',\n",
       " 'Region 3, South',\n",
       " 'Region 3, South',\n",
       " 'Region 3, South',\n",
       " 'Region 3, South',\n",
       " 'Region 3, South',\n",
       " 'Region 3, South',\n",
       " 'Region 3, South',\n",
       " 'Region 3, South',\n",
       " 'Region 3, South',\n",
       " 'Region 3, South',\n",
       " 'Region 3, South',\n",
       " 'Region 3, South',\n",
       " 'Region 3, South',\n",
       " 'Region 3, South',\n",
       " 'Region 3, South',\n",
       " 'Region 3, South',\n",
       " 'Region 4, West',\n",
       " 'Region 4, West',\n",
       " 'Region 4, West',\n",
       " 'Region 4, West',\n",
       " 'Region 4, West',\n",
       " 'Region 4, West',\n",
       " 'Region 4, West',\n",
       " 'Region 4, West',\n",
       " 'Region 4, West',\n",
       " 'Region 4, West',\n",
       " 'Region 4, West',\n",
       " 'Region 4, West',\n",
       " 'Region 4, West',\n",
       " 'Region 4, West',\n",
       " 'Region 4, West',\n",
       " 'Region 4, West',\n",
       " 'Region 4, West',\n",
       " 'Region 4, West',\n",
       " 'Region 4, West',\n",
       " 'Region 4, West',\n",
       " 'Region 4, West',\n",
       " 'Region 4, West',\n",
       " 'Region 4, West',\n",
       " 'Region 4, West',\n",
       " 'Region 4, West',\n",
       " 'Region 4, West',\n",
       " 'Region 4, West',\n",
       " 'Region 4, West',\n",
       " 'Region 4, West',\n",
       " 'Region 4, West',\n",
       " 'Region 4, West',\n",
       " 'Region 4, West',\n",
       " 'Region 4, West',\n",
       " 'Region 4, West',\n",
       " 'Region 4, West',\n",
       " 'Region 4, West',\n",
       " 'Region 4, West',\n",
       " 'Region 4, West',\n",
       " 'Region 4, West',\n",
       " 'Region 4, West',\n",
       " 'Region 4, West',\n",
       " 'Region 4, West',\n",
       " 'Region 4, West',\n",
       " 'Region 4, West',\n",
       " 'Region 4, West',\n",
       " 'Region 4, West',\n",
       " 'Region 4, West',\n",
       " 'Region 4, West',\n",
       " 'Region 4, West',\n",
       " 'Region 4, West',\n",
       " 'Region 4, West',\n",
       " 'Region 4, West',\n",
       " 'Region 4, West',\n",
       " 'Region 4, West',\n",
       " 'Region 4, West',\n",
       " 'Region 4, West',\n",
       " 'Region 4, West',\n",
       " 'Region 4, West',\n",
       " 'Region 4, West',\n",
       " 'Region 4, West',\n",
       " 'Region 4, West',\n",
       " 'Region 4, West',\n",
       " 'Region 4, West',\n",
       " 'Region 4, West',\n",
       " 'Region 4, West',\n",
       " 'Region 4, West',\n",
       " 'Region 4, West',\n",
       " 'Region 4, West',\n",
       " 'Region 4, West',\n",
       " 'Region 4, West',\n",
       " 'Region 4, West',\n",
       " 'Region 4, West',\n",
       " 'Region 4, West',\n",
       " 'Region 4, West',\n",
       " 'Region 4, West',\n",
       " 'Region 4, West',\n",
       " 'Region 4, West',\n",
       " 'Region 4, West',\n",
       " 'Region 4, West',\n",
       " 'Region 4, West',\n",
       " 'Region 4, West',\n",
       " 'Region 4, West',\n",
       " 'Region 4, West',\n",
       " 'Region 4, West',\n",
       " 'Region 4, West',\n",
       " 'Region 4, West',\n",
       " 'Region 4, West',\n",
       " 'Region 4, West',\n",
       " 'Region 4, West',\n",
       " 'Region 4, West',\n",
       " 'Region 4, West',\n",
       " 'Region 4, West',\n",
       " 'Region 4, West',\n",
       " 'Region 4, West',\n",
       " 'Region 4, West',\n",
       " 'Region 4, West',\n",
       " 'Region 4, West',\n",
       " 'Region 4, West',\n",
       " 'Region 4, West',\n",
       " 'Region 4, West',\n",
       " 'Region 4, West',\n",
       " 'Region 4, West',\n",
       " 'Region 4, West',\n",
       " 'Region 4, West',\n",
       " 'Region 4, West',\n",
       " 'Region 4, West',\n",
       " 'Region 4, West',\n",
       " 'Region 4, West',\n",
       " 'Region 4, West',\n",
       " 'Region 4, West',\n",
       " 'Region 4, West',\n",
       " 'Region 4, West',\n",
       " 'Region 4, West',\n",
       " 'Region 4, West',\n",
       " 'Region 4, West',\n",
       " 'Region 4, West',\n",
       " 'Region 4, West',\n",
       " 'Region 4, West',\n",
       " 'Region 4, West',\n",
       " 'Region 4, West',\n",
       " 'Region 4, West',\n",
       " 'Region 4, West',\n",
       " 'Region 4, West',\n",
       " 'Region 4, West',\n",
       " 'Region 4, West',\n",
       " 'Region 4, West',\n",
       " 'Region 4, West',\n",
       " 'Region 4, West',\n",
       " 'Region 4, West',\n",
       " 'Region 4, West',\n",
       " 'Region 4, West',\n",
       " 'Region 4, West',\n",
       " 'Region 4, West',\n",
       " 'Region 4, West',\n",
       " 'Region 4, West',\n",
       " 'Region 4, West',\n",
       " 'Region 4, West',\n",
       " 'Region 4, West',\n",
       " 'Region 4, West',\n",
       " 'Region 4, West',\n",
       " 'Region 4, West',\n",
       " 'Region 4, West',\n",
       " 'Region 4, West',\n",
       " 'Region 4, West',\n",
       " 'Region 4, West',\n",
       " 'Region 4, West',\n",
       " 'Region 4, West',\n",
       " 'Region 4, West',\n",
       " 'Region 4, West',\n",
       " 'Region 4, West',\n",
       " 'Region 4, West',\n",
       " 'Region 4, West',\n",
       " 'Region 4, West',\n",
       " 'Region 4, West',\n",
       " 'Region 4, West',\n",
       " 'Region 4, West',\n",
       " 'Region 4, West',\n",
       " 'Region 4, West',\n",
       " 'Region 4, West',\n",
       " 'Region 4, West',\n",
       " 'Region 4, West',\n",
       " 'Region 4, West',\n",
       " 'Region 4, West',\n",
       " 'Region 4, West',\n",
       " 'Region 4, West',\n",
       " 'Region 4, West',\n",
       " 'Region 4, West',\n",
       " 'Region 4, West',\n",
       " 'Region 4, West',\n",
       " 'Region 4, West',\n",
       " 'Region 4, West',\n",
       " 'Region 4, West',\n",
       " 'Region 4, West',\n",
       " 'Region 4, West',\n",
       " 'Region 4, West',\n",
       " 'Region 4, West',\n",
       " 'Region 4, West',\n",
       " 'Region 3, South',\n",
       " 'Region 3, South',\n",
       " 'Region 3, South',\n",
       " 'Region 3, South',\n",
       " 'Region 3, South',\n",
       " 'Region 3, South',\n",
       " 'Region 3, South',\n",
       " 'Region 3, South',\n",
       " 'Region 3, South',\n",
       " 'Region 3, South',\n",
       " 'Region 3, South',\n",
       " 'Region 3, South',\n",
       " 'Region 3, South',\n",
       " 'Region 3, South',\n",
       " 'Region 3, South',\n",
       " 'Region 3, South',\n",
       " 'Region 3, South',\n",
       " 'Region 3, South',\n",
       " 'Region 3, South',\n",
       " 'Region 3, South',\n",
       " 'Region 3, South',\n",
       " 'Region 3, South',\n",
       " 'Region 3, South',\n",
       " 'Region 3, South',\n",
       " 'Region 3, South',\n",
       " 'Region 3, South',\n",
       " 'Region 3, South',\n",
       " 'Region 3, South',\n",
       " 'Region 3, South',\n",
       " 'Region 3, South',\n",
       " 'Region 3, South',\n",
       " 'Region 3, South',\n",
       " 'Region 3, South',\n",
       " 'Region 3, South',\n",
       " 'Region 3, South',\n",
       " 'Region 3, South',\n",
       " 'Region 3, South',\n",
       " 'Region 3, South',\n",
       " 'Region 3, South',\n",
       " 'Region 3, South',\n",
       " 'Region 3, South',\n",
       " 'Region 3, South',\n",
       " 'Region 3, South',\n",
       " 'Region 3, South',\n",
       " 'Region 3, South',\n",
       " 'Region 3, South',\n",
       " 'Region 3, South',\n",
       " 'Region 3, South',\n",
       " 'Region 3, South',\n",
       " 'Region 3, South',\n",
       " 'Region 3, South',\n",
       " 'Region 3, South',\n",
       " 'Region 3, South',\n",
       " 'Region 3, South',\n",
       " 'Region 3, South',\n",
       " 'Region 3, South',\n",
       " 'Region 3, South',\n",
       " 'Region 3, South',\n",
       " 'Region 3, South',\n",
       " 'Region 3, South',\n",
       " 'Region 3, South',\n",
       " 'Region 3, South',\n",
       " 'Region 3, South',\n",
       " 'Region 3, South',\n",
       " 'Region 3, South',\n",
       " 'Region 3, South',\n",
       " 'Region 3, South',\n",
       " 'Region 3, South',\n",
       " 'Region 3, South',\n",
       " 'Region 3, South',\n",
       " 'Region 3, South',\n",
       " 'Region 3, South',\n",
       " 'Region 3, South',\n",
       " 'Region 3, South',\n",
       " 'Region 3, South',\n",
       " 'Region 3, South',\n",
       " 'Region 3, South',\n",
       " 'Region 3, South',\n",
       " 'Region 3, South',\n",
       " 'Region 3, South',\n",
       " 'Region 3, South',\n",
       " 'Region 3, South',\n",
       " 'Region 3, South',\n",
       " 'Region 3, South',\n",
       " 'Region 3, South',\n",
       " 'Region 3, South',\n",
       " 'Region 3, South',\n",
       " 'Region 3, South',\n",
       " 'Region 3, South',\n",
       " 'Region 3, South',\n",
       " 'Region 3, South',\n",
       " 'Region 3, South',\n",
       " 'Region 3, South',\n",
       " 'Region 3, South',\n",
       " 'Region 3, South',\n",
       " 'Region 3, South',\n",
       " 'Region 3, South',\n",
       " 'Region 3, South',\n",
       " 'Region 3, South',\n",
       " 'Region 3, South',\n",
       " 'Region 3, South',\n",
       " 'Region 3, South',\n",
       " 'Region 3, South',\n",
       " 'Region 3, South',\n",
       " 'Region 3, South',\n",
       " 'Region 3, South',\n",
       " 'Region 3, South',\n",
       " 'Region 3, South',\n",
       " 'Region 3, South',\n",
       " 'Region 3, South',\n",
       " 'Region 3, South',\n",
       " 'Region 3, South',\n",
       " 'Region 3, South',\n",
       " 'Region 3, South',\n",
       " 'Region 3, South',\n",
       " 'Region 3, South',\n",
       " 'Region 3, South',\n",
       " 'Region 3, South',\n",
       " 'Region 3, South',\n",
       " 'Region 3, South',\n",
       " 'Region 3, South',\n",
       " 'Region 3, South',\n",
       " 'Region 3, South',\n",
       " 'Region 3, South',\n",
       " 'Region 3, South',\n",
       " 'Region 3, South',\n",
       " 'Region 3, South',\n",
       " 'Region 3, South',\n",
       " 'Region 3, South',\n",
       " 'Region 3, South',\n",
       " 'Region 3, South',\n",
       " 'Region 3, South',\n",
       " 'Region 3, South',\n",
       " 'Region 3, South',\n",
       " 'Region 3, South',\n",
       " 'Region 3, South',\n",
       " 'Region 3, South',\n",
       " 'Region 3, South',\n",
       " 'Region 3, South',\n",
       " 'Region 3, South',\n",
       " 'Region 3, South',\n",
       " 'Region 3, South',\n",
       " 'Region 3, South',\n",
       " 'Region 3, South',\n",
       " 'Region 3, South',\n",
       " 'Region 3, South',\n",
       " 'Region 3, South',\n",
       " 'Region 3, South',\n",
       " 'Region 3, South',\n",
       " 'Region 3, South',\n",
       " 'Region 3, South',\n",
       " 'Region 3, South',\n",
       " 'Region 3, South',\n",
       " 'Region 3, South',\n",
       " 'Region 3, South',\n",
       " 'Region 3, South',\n",
       " 'Region 3, South',\n",
       " 'Region 3, South',\n",
       " 'Region 3, South',\n",
       " 'Region 3, South',\n",
       " 'Region 3, South',\n",
       " 'Region 3, South',\n",
       " 'Region 3, South',\n",
       " 'Region 3, South',\n",
       " 'Region 3, South',\n",
       " 'Region 3, South',\n",
       " 'Region 3, South',\n",
       " 'Region 3, South',\n",
       " 'Region 3, South',\n",
       " 'Region 3, South',\n",
       " 'Region 3, South',\n",
       " 'Region 3, South',\n",
       " 'Region 3, South',\n",
       " 'Region 3, South',\n",
       " 'Region 3, South',\n",
       " 'Region 3, South',\n",
       " 'Region 3, South',\n",
       " 'Region 3, South',\n",
       " 'Region 3, South',\n",
       " 'Region 3, South',\n",
       " 'Region 3, South',\n",
       " 'Region 3, South',\n",
       " 'Region 3, South',\n",
       " 'Region 3, South',\n",
       " 'Region 3, South',\n",
       " 'Region 3, South',\n",
       " 'Region 3, South',\n",
       " 'Region 3, South',\n",
       " 'Region 3, South',\n",
       " 'Region 3, South',\n",
       " 'Region 3, South',\n",
       " 'Region 3, South',\n",
       " 'Region 3, South',\n",
       " 'Region 3, South',\n",
       " 'Region 3, South',\n",
       " 'Region 3, South',\n",
       " 'Region 3, South',\n",
       " 'Region 3, South',\n",
       " 'Region 3, South',\n",
       " 'Region 3, South',\n",
       " 'Region 3, South',\n",
       " 'Region 3, South',\n",
       " 'Region 3, South',\n",
       " 'Region 3, South',\n",
       " 'Region 3, South',\n",
       " 'Region 3, South',\n",
       " 'Region 3, South',\n",
       " 'Region 3, South',\n",
       " 'Region 3, South',\n",
       " 'Region 3, South',\n",
       " 'Region 3, South',\n",
       " 'Region 3, South',\n",
       " 'Region 3, South',\n",
       " 'Region 3, South',\n",
       " 'Region 3, South',\n",
       " 'Region 3, South',\n",
       " 'Region 3, South',\n",
       " 'Region 3, South',\n",
       " 'Region 3, South',\n",
       " 'Region 3, South',\n",
       " 'Region 3, South',\n",
       " 'Region 3, South',\n",
       " 'Region 3, South',\n",
       " 'Region 3, South',\n",
       " 'Region 3, South',\n",
       " 'Region 3, South',\n",
       " 'Region 3, South',\n",
       " 'Region 3, South',\n",
       " 'Region 3, South',\n",
       " 'Region 3, South',\n",
       " 'Region 3, South',\n",
       " 'Region 3, South',\n",
       " 'Region 3, South',\n",
       " 'Region 3, South',\n",
       " 'Region 3, South',\n",
       " 'Region 3, South',\n",
       " 'Region 3, South',\n",
       " 'Region 3, South',\n",
       " 'Region 3, South',\n",
       " 'Region 3, South',\n",
       " 'Region 3, South',\n",
       " 'Region 3, South',\n",
       " 'Region 3, South',\n",
       " 'Region 3, South',\n",
       " 'Region 3, South',\n",
       " 'Region 3, South',\n",
       " 'Region 3, South',\n",
       " 'Region 3, South',\n",
       " 'Region 3, South',\n",
       " 'Region 3, South',\n",
       " 'Region 3, South',\n",
       " 'Region 3, South',\n",
       " 'Region 3, South',\n",
       " 'Region 3, South',\n",
       " 'Region 3, South',\n",
       " 'Region 3, South',\n",
       " 'Region 3, South',\n",
       " 'Region 3, South',\n",
       " 'Region 3, South',\n",
       " 'Region 3, South',\n",
       " 'Region 3, South',\n",
       " 'Region 3, South',\n",
       " 'Region 3, South',\n",
       " 'Region 3, South',\n",
       " 'Region 3, South',\n",
       " 'Region 3, South',\n",
       " 'Region 3, South',\n",
       " 'Region 3, South',\n",
       " 'Region 3, South',\n",
       " 'Region 3, South',\n",
       " 'Region 3, South',\n",
       " ...]"
      ]
     },
     "execution_count": 9,
     "metadata": {},
     "output_type": "execute_result"
    }
   ],
   "source": [
    "#viewing what was produced\n",
    "result"
   ]
  },
  {
   "cell_type": "code",
   "execution_count": 10,
   "id": "6ba06835",
   "metadata": {},
   "outputs": [],
   "source": [
    "# creating new column to store Region information in dataframe\n",
    "df_complete['Region'] = result"
   ]
  },
  {
   "cell_type": "code",
   "execution_count": 11,
   "id": "42b8d1b8",
   "metadata": {},
   "outputs": [
    {
     "data": {
      "text/plain": [
       "Region 3, South        10792300\n",
       "Region 4, West          8293217\n",
       "Region 2, Midwest       7597585\n",
       "Region 1, Northeast     5722939\n",
       "Name: Region, dtype: int64"
      ]
     },
     "execution_count": 11,
     "metadata": {},
     "output_type": "execute_result"
    }
   ],
   "source": [
    "# checking information\n",
    "df_complete['Region'].value_counts(dropna = False)"
   ]
  },
  {
   "cell_type": "code",
   "execution_count": 12,
   "id": "abf885bc",
   "metadata": {},
   "outputs": [
    {
     "data": {
      "image/png": "[encoded data removed]",
      "text/plain": [
       "<Figure size 432x288 with 1 Axes>"
      ]
     },
     "metadata": {
      "needs_background": "light"
     },
     "output_type": "display_data"
    }
   ],
   "source": [
    "bar16 = df_complete['Region'].value_counts().plot.bar()"
   ]
  },
  {
   "cell_type": "code",
   "execution_count": 13,
   "id": "7f4d1e71",
   "metadata": {},
   "outputs": [],
   "source": [
    "# Creating crosstab between Regions and Spender_Type\n",
    "crosstab = pd.crosstab(df_complete['Region'], df_complete['Spender_type'], dropna = False)"
   ]
  },
  {
   "cell_type": "code",
   "execution_count": 14,
   "id": "241f0a28",
   "metadata": {},
   "outputs": [
    {
     "data": {
      "text/html": [
       "<div>\n",
       "<style scoped>\n",
       "    .dataframe tbody tr th:only-of-type {\n",
       "        vertical-align: middle;\n",
       "    }\n",
       "\n",
       "    .dataframe tbody tr th {\n",
       "        vertical-align: top;\n",
       "    }\n",
       "\n",
       "    .dataframe thead th {\n",
       "        text-align: right;\n",
       "    }\n",
       "</style>\n",
       "<table border=\"1\" class=\"dataframe\">\n",
       "  <thead>\n",
       "    <tr style=\"text-align: right;\">\n",
       "      <th>Spender_type</th>\n",
       "      <th>High_spender</th>\n",
       "      <th>Low_spender</th>\n",
       "    </tr>\n",
       "    <tr>\n",
       "      <th>Region</th>\n",
       "      <th></th>\n",
       "      <th></th>\n",
       "    </tr>\n",
       "  </thead>\n",
       "  <tbody>\n",
       "    <tr>\n",
       "      <th>Region 1, Northeast</th>\n",
       "      <td>108226</td>\n",
       "      <td>5614713</td>\n",
       "    </tr>\n",
       "    <tr>\n",
       "      <th>Region 2, Midwest</th>\n",
       "      <td>155979</td>\n",
       "      <td>7441606</td>\n",
       "    </tr>\n",
       "    <tr>\n",
       "      <th>Region 3, South</th>\n",
       "      <td>209693</td>\n",
       "      <td>10582607</td>\n",
       "    </tr>\n",
       "    <tr>\n",
       "      <th>Region 4, West</th>\n",
       "      <td>160354</td>\n",
       "      <td>8132863</td>\n",
       "    </tr>\n",
       "  </tbody>\n",
       "</table>\n",
       "</div>"
      ],
      "text/plain": [
       "Spender_type         High_spender  Low_spender\n",
       "Region                                        \n",
       "Region 1, Northeast        108226      5614713\n",
       "Region 2, Midwest          155979      7441606\n",
       "Region 3, South            209693     10582607\n",
       "Region 4, West             160354      8132863"
      ]
     },
     "execution_count": 14,
     "metadata": {},
     "output_type": "execute_result"
    }
   ],
   "source": [
    "crosstab"
   ]
  },
  {
   "cell_type": "code",
   "execution_count": 15,
   "id": "d4b5bff6",
   "metadata": {},
   "outputs": [
    {
     "data": {
      "image/png": "[encoded data removed]",
      "text/plain": [
       "<Figure size 432x288 with 1 Axes>"
      ]
     },
     "metadata": {
      "needs_background": "light"
     },
     "output_type": "display_data"
    }
   ],
   "source": [
    "#plotting bar chart\n",
    "spender_type_vs_region= crosstab.plot(kind=\"bar\", stacked=True, rot=0)"
   ]
  },
  {
   "cell_type": "code",
   "execution_count": 16,
   "id": "7c02fc22",
   "metadata": {},
   "outputs": [],
   "source": [
    "# Creating crosstab between Regions and frequency flag\n",
    "crosstab7 = pd.crosstab(df_complete['Region'], df_complete['Customer_frequency'], dropna = False)"
   ]
  },
  {
   "cell_type": "code",
   "execution_count": 17,
   "id": "062f8f29",
   "metadata": {},
   "outputs": [
    {
     "data": {
      "text/html": [
       "<div>\n",
       "<style scoped>\n",
       "    .dataframe tbody tr th:only-of-type {\n",
       "        vertical-align: middle;\n",
       "    }\n",
       "\n",
       "    .dataframe tbody tr th {\n",
       "        vertical-align: top;\n",
       "    }\n",
       "\n",
       "    .dataframe thead th {\n",
       "        text-align: right;\n",
       "    }\n",
       "</style>\n",
       "<table border=\"1\" class=\"dataframe\">\n",
       "  <thead>\n",
       "    <tr style=\"text-align: right;\">\n",
       "      <th>Customer_frequency</th>\n",
       "      <th>Frequent_customer</th>\n",
       "      <th>Non_frequent_customer</th>\n",
       "      <th>Regular_customer</th>\n",
       "    </tr>\n",
       "    <tr>\n",
       "      <th>Region</th>\n",
       "      <th></th>\n",
       "      <th></th>\n",
       "      <th></th>\n",
       "    </tr>\n",
       "  </thead>\n",
       "  <tbody>\n",
       "    <tr>\n",
       "      <th>Region 1, Northeast</th>\n",
       "      <td>3804573</td>\n",
       "      <td>630210</td>\n",
       "      <td>1288156</td>\n",
       "    </tr>\n",
       "    <tr>\n",
       "      <th>Region 2, Midwest</th>\n",
       "      <td>5017781</td>\n",
       "      <td>863531</td>\n",
       "      <td>1716273</td>\n",
       "    </tr>\n",
       "    <tr>\n",
       "      <th>Region 3, South</th>\n",
       "      <td>7192610</td>\n",
       "      <td>1215183</td>\n",
       "      <td>2384502</td>\n",
       "    </tr>\n",
       "    <tr>\n",
       "      <th>Region 4, West</th>\n",
       "      <td>5545360</td>\n",
       "      <td>927783</td>\n",
       "      <td>1820074</td>\n",
       "    </tr>\n",
       "  </tbody>\n",
       "</table>\n",
       "</div>"
      ],
      "text/plain": [
       "Customer_frequency   Frequent_customer  Non_frequent_customer  \\\n",
       "Region                                                          \n",
       "Region 1, Northeast            3804573                 630210   \n",
       "Region 2, Midwest              5017781                 863531   \n",
       "Region 3, South                7192610                1215183   \n",
       "Region 4, West                 5545360                 927783   \n",
       "\n",
       "Customer_frequency   Regular_customer  \n",
       "Region                                 \n",
       "Region 1, Northeast           1288156  \n",
       "Region 2, Midwest             1716273  \n",
       "Region 3, South               2384502  \n",
       "Region 4, West                1820074  "
      ]
     },
     "execution_count": 17,
     "metadata": {},
     "output_type": "execute_result"
    }
   ],
   "source": [
    "#Viewing work\n",
    "crosstab7"
   ]
  },
  {
   "cell_type": "code",
   "execution_count": 18,
   "id": "0a23416b",
   "metadata": {},
   "outputs": [],
   "source": [
    "#creating a crosstabto show percentages\n",
    "crosstab8 = pd.crosstab(df_complete['Region'], df_complete['Customer_frequency'], normalize='index')\\\n",
    "       .round(4)*100"
   ]
  },
  {
   "cell_type": "code",
   "execution_count": 19,
   "id": "9b2896eb",
   "metadata": {},
   "outputs": [
    {
     "data": {
      "text/html": [
       "<div>\n",
       "<style scoped>\n",
       "    .dataframe tbody tr th:only-of-type {\n",
       "        vertical-align: middle;\n",
       "    }\n",
       "\n",
       "    .dataframe tbody tr th {\n",
       "        vertical-align: top;\n",
       "    }\n",
       "\n",
       "    .dataframe thead th {\n",
       "        text-align: right;\n",
       "    }\n",
       "</style>\n",
       "<table border=\"1\" class=\"dataframe\">\n",
       "  <thead>\n",
       "    <tr style=\"text-align: right;\">\n",
       "      <th>Customer_frequency</th>\n",
       "      <th>Frequent_customer</th>\n",
       "      <th>Non_frequent_customer</th>\n",
       "      <th>Regular_customer</th>\n",
       "    </tr>\n",
       "    <tr>\n",
       "      <th>Region</th>\n",
       "      <th></th>\n",
       "      <th></th>\n",
       "      <th></th>\n",
       "    </tr>\n",
       "  </thead>\n",
       "  <tbody>\n",
       "    <tr>\n",
       "      <th>Region 1, Northeast</th>\n",
       "      <td>66.48</td>\n",
       "      <td>11.01</td>\n",
       "      <td>22.51</td>\n",
       "    </tr>\n",
       "    <tr>\n",
       "      <th>Region 2, Midwest</th>\n",
       "      <td>66.04</td>\n",
       "      <td>11.37</td>\n",
       "      <td>22.59</td>\n",
       "    </tr>\n",
       "    <tr>\n",
       "      <th>Region 3, South</th>\n",
       "      <td>66.65</td>\n",
       "      <td>11.26</td>\n",
       "      <td>22.09</td>\n",
       "    </tr>\n",
       "    <tr>\n",
       "      <th>Region 4, West</th>\n",
       "      <td>66.87</td>\n",
       "      <td>11.19</td>\n",
       "      <td>21.95</td>\n",
       "    </tr>\n",
       "  </tbody>\n",
       "</table>\n",
       "</div>"
      ],
      "text/plain": [
       "Customer_frequency   Frequent_customer  Non_frequent_customer  \\\n",
       "Region                                                          \n",
       "Region 1, Northeast              66.48                  11.01   \n",
       "Region 2, Midwest                66.04                  11.37   \n",
       "Region 3, South                  66.65                  11.26   \n",
       "Region 4, West                   66.87                  11.19   \n",
       "\n",
       "Customer_frequency   Regular_customer  \n",
       "Region                                 \n",
       "Region 1, Northeast             22.51  \n",
       "Region 2, Midwest               22.59  \n",
       "Region 3, South                 22.09  \n",
       "Region 4, West                  21.95  "
      ]
     },
     "execution_count": 19,
     "metadata": {},
     "output_type": "execute_result"
    }
   ],
   "source": [
    "#viewing work\n",
    "crosstab8"
   ]
  },
  {
   "cell_type": "code",
   "execution_count": 20,
   "id": "464c5c35",
   "metadata": {},
   "outputs": [
    {
     "data": {
      "image/png": "[encoded data removed]",
      "text/plain": [
       "<Figure size 432x288 with 1 Axes>"
      ]
     },
     "metadata": {
      "needs_background": "light"
     },
     "output_type": "display_data"
    }
   ],
   "source": [
    "#plotting bar chart (stacked)\n",
    "regionvsfreq= crosstab8.plot(kind=\"bar\", stacked=True, rot=0)"
   ]
  },
  {
   "cell_type": "code",
   "execution_count": 21,
   "id": "33a619a0",
   "metadata": {},
   "outputs": [
    {
     "data": {
      "text/plain": [
       "Low_spender     31771789\n",
       "High_spender      634252\n",
       "Name: Spender_type, dtype: int64"
      ]
     },
     "execution_count": 21,
     "metadata": {},
     "output_type": "execute_result"
    }
   ],
   "source": [
    "#checking counts on spender type\n",
    "df_complete['Spender_type'].value_counts(dropna = False)"
   ]
  },
  {
   "cell_type": "markdown",
   "id": "0605a237",
   "metadata": {},
   "source": [
    "In general the high spenders are an order of magnitude lower than the low-spenders. The South region has by far the highest amount of low spenders."
   ]
  },
  {
   "cell_type": "code",
   "execution_count": 47,
   "id": "59b1d432",
   "metadata": {},
   "outputs": [],
   "source": [
    "# Creating crosstab between Regions and frequency flag\n",
    "crosstab25 = pd.crosstab(df_complete['Region'], df_complete['income_flag'], dropna = False)"
   ]
  },
  {
   "cell_type": "code",
   "execution_count": 48,
   "id": "899104b2",
   "metadata": {},
   "outputs": [
    {
     "data": {
      "text/html": [
       "<div>\n",
       "<style scoped>\n",
       "    .dataframe tbody tr th:only-of-type {\n",
       "        vertical-align: middle;\n",
       "    }\n",
       "\n",
       "    .dataframe tbody tr th {\n",
       "        vertical-align: top;\n",
       "    }\n",
       "\n",
       "    .dataframe thead th {\n",
       "        text-align: right;\n",
       "    }\n",
       "</style>\n",
       "<table border=\"1\" class=\"dataframe\">\n",
       "  <thead>\n",
       "    <tr style=\"text-align: right;\">\n",
       "      <th>income_flag</th>\n",
       "      <th>Lower Middle Class</th>\n",
       "      <th>Middle Class</th>\n",
       "      <th>Poor or near poor</th>\n",
       "      <th>Wealthy</th>\n",
       "    </tr>\n",
       "    <tr>\n",
       "      <th>Region</th>\n",
       "      <th></th>\n",
       "      <th></th>\n",
       "      <th></th>\n",
       "      <th></th>\n",
       "    </tr>\n",
       "  </thead>\n",
       "  <tbody>\n",
       "    <tr>\n",
       "      <th>Region 1, Northeast</th>\n",
       "      <td>677944</td>\n",
       "      <td>4949431</td>\n",
       "      <td>85790</td>\n",
       "      <td>9774</td>\n",
       "    </tr>\n",
       "    <tr>\n",
       "      <th>Region 2, Midwest</th>\n",
       "      <td>874681</td>\n",
       "      <td>6577810</td>\n",
       "      <td>125534</td>\n",
       "      <td>19560</td>\n",
       "    </tr>\n",
       "    <tr>\n",
       "      <th>Region 3, South</th>\n",
       "      <td>1269264</td>\n",
       "      <td>9325052</td>\n",
       "      <td>183142</td>\n",
       "      <td>14842</td>\n",
       "    </tr>\n",
       "    <tr>\n",
       "      <th>Region 4, West</th>\n",
       "      <td>942478</td>\n",
       "      <td>7206613</td>\n",
       "      <td>129314</td>\n",
       "      <td>14812</td>\n",
       "    </tr>\n",
       "  </tbody>\n",
       "</table>\n",
       "</div>"
      ],
      "text/plain": [
       "income_flag          Lower Middle Class  Middle Class  Poor or near poor  \\\n",
       "Region                                                                     \n",
       "Region 1, Northeast              677944       4949431              85790   \n",
       "Region 2, Midwest                874681       6577810             125534   \n",
       "Region 3, South                 1269264       9325052             183142   \n",
       "Region 4, West                   942478       7206613             129314   \n",
       "\n",
       "income_flag          Wealthy  \n",
       "Region                        \n",
       "Region 1, Northeast     9774  \n",
       "Region 2, Midwest      19560  \n",
       "Region 3, South        14842  \n",
       "Region 4, West         14812  "
      ]
     },
     "execution_count": 48,
     "metadata": {},
     "output_type": "execute_result"
    }
   ],
   "source": [
    "#checking work\n",
    "crosstab25"
   ]
  },
  {
   "cell_type": "code",
   "execution_count": 49,
   "id": "6f01f451",
   "metadata": {},
   "outputs": [],
   "source": [
    "#Showing percentages of the avobe categories\n",
    "crosstab26 = pd.crosstab(df_complete['Region'], df_complete['income_flag'], normalize='index')\\\n",
    "       .round(4)*100"
   ]
  },
  {
   "cell_type": "code",
   "execution_count": 50,
   "id": "9a9bfdac",
   "metadata": {},
   "outputs": [
    {
     "data": {
      "text/html": [
       "<div>\n",
       "<style scoped>\n",
       "    .dataframe tbody tr th:only-of-type {\n",
       "        vertical-align: middle;\n",
       "    }\n",
       "\n",
       "    .dataframe tbody tr th {\n",
       "        vertical-align: top;\n",
       "    }\n",
       "\n",
       "    .dataframe thead th {\n",
       "        text-align: right;\n",
       "    }\n",
       "</style>\n",
       "<table border=\"1\" class=\"dataframe\">\n",
       "  <thead>\n",
       "    <tr style=\"text-align: right;\">\n",
       "      <th>income_flag</th>\n",
       "      <th>Lower Middle Class</th>\n",
       "      <th>Middle Class</th>\n",
       "      <th>Poor or near poor</th>\n",
       "      <th>Wealthy</th>\n",
       "    </tr>\n",
       "    <tr>\n",
       "      <th>Region</th>\n",
       "      <th></th>\n",
       "      <th></th>\n",
       "      <th></th>\n",
       "      <th></th>\n",
       "    </tr>\n",
       "  </thead>\n",
       "  <tbody>\n",
       "    <tr>\n",
       "      <th>Region 1, Northeast</th>\n",
       "      <td>11.85</td>\n",
       "      <td>86.48</td>\n",
       "      <td>1.50</td>\n",
       "      <td>0.17</td>\n",
       "    </tr>\n",
       "    <tr>\n",
       "      <th>Region 2, Midwest</th>\n",
       "      <td>11.51</td>\n",
       "      <td>86.58</td>\n",
       "      <td>1.65</td>\n",
       "      <td>0.26</td>\n",
       "    </tr>\n",
       "    <tr>\n",
       "      <th>Region 3, South</th>\n",
       "      <td>11.76</td>\n",
       "      <td>86.40</td>\n",
       "      <td>1.70</td>\n",
       "      <td>0.14</td>\n",
       "    </tr>\n",
       "    <tr>\n",
       "      <th>Region 4, West</th>\n",
       "      <td>11.36</td>\n",
       "      <td>86.90</td>\n",
       "      <td>1.56</td>\n",
       "      <td>0.18</td>\n",
       "    </tr>\n",
       "  </tbody>\n",
       "</table>\n",
       "</div>"
      ],
      "text/plain": [
       "income_flag          Lower Middle Class  Middle Class  Poor or near poor  \\\n",
       "Region                                                                     \n",
       "Region 1, Northeast               11.85         86.48               1.50   \n",
       "Region 2, Midwest                 11.51         86.58               1.65   \n",
       "Region 3, South                   11.76         86.40               1.70   \n",
       "Region 4, West                    11.36         86.90               1.56   \n",
       "\n",
       "income_flag          Wealthy  \n",
       "Region                        \n",
       "Region 1, Northeast     0.17  \n",
       "Region 2, Midwest       0.26  \n",
       "Region 3, South         0.14  \n",
       "Region 4, West          0.18  "
      ]
     },
     "execution_count": 50,
     "metadata": {},
     "output_type": "execute_result"
    }
   ],
   "source": [
    "#showing result\n",
    "crosstab26"
   ]
  },
  {
   "cell_type": "code",
   "execution_count": 51,
   "id": "586c05fd",
   "metadata": {},
   "outputs": [
    {
     "data": {
      "image/png": "[encoded data removed]",
      "text/plain": [
       "<Figure size 432x288 with 1 Axes>"
      ]
     },
     "metadata": {
      "needs_background": "light"
     },
     "output_type": "display_data"
    }
   ],
   "source": [
    "#plotting bar chart (stacked)\n",
    "region_vs_income= crosstab26.plot(kind=\"bar\", stacked=True, rot=0)"
   ]
  },
  {
   "cell_type": "markdown",
   "id": "b1c142b2",
   "metadata": {},
   "source": [
    "### The Instacart CFO isn’t interested in customers who don’t generate much revenue for the app. Create an exclusion flag for low-activity customers (customers with less than 5 orders) and exclude them from the data. Make sure you export this sample."
   ]
  },
  {
   "cell_type": "code",
   "execution_count": 24,
   "id": "3e01f7ca",
   "metadata": {},
   "outputs": [],
   "source": [
    "# categorizing using loc (max_order <= 4)\n",
    "df_complete.loc[(df_complete['max_order'] <= 4 ) , 'low_activity_flag'] = 'Low activity customer'"
   ]
  },
  {
   "cell_type": "code",
   "execution_count": 25,
   "id": "431f8d51",
   "metadata": {},
   "outputs": [],
   "source": [
    "# categorizing using loc (max_order >= 5)\n",
    "df_complete.loc[(df_complete['max_order'] >= 5 ) , 'low_activity_flag'] = 'Normal activity customer'"
   ]
  },
  {
   "cell_type": "code",
   "execution_count": 26,
   "id": "935274cb",
   "metadata": {},
   "outputs": [
    {
     "data": {
      "text/plain": [
       "Normal activity customer    30965686\n",
       "Low activity customer        1440355\n",
       "Name: low_activity_flag, dtype: int64"
      ]
     },
     "execution_count": 26,
     "metadata": {},
     "output_type": "execute_result"
    }
   ],
   "source": [
    "#checking categorization counts\n",
    "df_complete['low_activity_flag'].value_counts(dropna = False)"
   ]
  },
  {
   "cell_type": "code",
   "execution_count": 27,
   "id": "3fd58002",
   "metadata": {},
   "outputs": [],
   "source": [
    "# Creating exclusion subset\n",
    "df_complete_Normal_activity_cust =  df_complete[df_complete['low_activity_flag']=='Normal activity customer']"
   ]
  },
  {
   "cell_type": "code",
   "execution_count": 28,
   "id": "05170bf3",
   "metadata": {},
   "outputs": [
    {
     "data": {
      "text/plain": [
       "Normal activity customer    30965686\n",
       "Name: low_activity_flag, dtype: int64"
      ]
     },
     "execution_count": 28,
     "metadata": {},
     "output_type": "execute_result"
    }
   ],
   "source": [
    "#checking categorization counts\n",
    "df_complete_Normal_activity_cust ['low_activity_flag'].value_counts(dropna = False)"
   ]
  },
  {
   "cell_type": "code",
   "execution_count": 29,
   "id": "e50b256d",
   "metadata": {},
   "outputs": [],
   "source": [
    "# Exporting this subset as a PKL file\n",
    "df_complete_Normal_activity_cust.to_pickle(os.path.join(path, '02 Data','Prepared Data', 'Normal_activity_customer_subset.pkl'))"
   ]
  },
  {
   "cell_type": "markdown",
   "id": "d8f211c7",
   "metadata": {},
   "source": [
    "### The marketing and business strategy units at Instacart want to create more-relevant marketing strategies for different products and are, thus, curious about customer profiling in their database. Create a profiling variable based on age, income, certain goods in the “department_id” column, and number of dependents. You might also use the “orders_day_of_the_week” and “order_hour_of_day” columns if you can think of a way they would impact customer profiles. (Hint: As an example, try thinking of what characteristics would lead you to the profile “Single adult” or “Young parent.”)"
   ]
  },
  {
   "cell_type": "code",
   "execution_count": 30,
   "id": "936d37e0",
   "metadata": {},
   "outputs": [
    {
     "data": {
      "text/plain": [
       "Adult          14683931\n",
       "Young Adult     9146749\n",
       "Seniors         8575361\n",
       "Name: Age_Range, dtype: int64"
      ]
     },
     "execution_count": 30,
     "metadata": {},
     "output_type": "execute_result"
    }
   ],
   "source": [
    "# dividing customers into age groups, Age range 18-35 = Young Adult, Age range 35-64 = Adult, Age range greater than 64 = Senior, to to divide ages of customers\n",
    "df_complete.loc[(df_complete['Age'] >= 18) & (df_complete['Age'] <= 35), 'Age_Range'] = 'Young Adult'\n",
    "df_complete.loc[(df_complete['Age'] > 35) & (df_complete['Age'] <= 64), 'Age_Range'] = 'Adult'\n",
    "df_complete.loc[(df_complete['Age'] > 64), 'Age_Range'] = 'Seniors'\n",
    "df_complete['Age_Range'].value_counts()   \n",
    " "
   ]
  },
  {
   "cell_type": "code",
   "execution_count": 31,
   "id": "72ec8635",
   "metadata": {},
   "outputs": [
    {
     "data": {
      "image/png": "[encoded data removed]",
      "text/plain": [
       "<Figure size 432x288 with 1 Axes>"
      ]
     },
     "metadata": {
      "needs_background": "light"
     },
     "output_type": "display_data"
    }
   ],
   "source": [
    "# Bar chart to show Age range division\n",
    "bar20 = df_complete['Age_Range'].value_counts().plot.bar()"
   ]
  },
  {
   "cell_type": "markdown",
   "id": "6f09f3a3",
   "metadata": {},
   "source": [
    "As shown above, the 18-35 age bracket has the highest customer count."
   ]
  },
  {
   "cell_type": "code",
   "execution_count": 32,
   "id": "c93417bb",
   "metadata": {},
   "outputs": [],
   "source": [
    "#Creating a crosstab to show the divisions in all age range categories across the regional divisions in the USA \n",
    "crosstab20 = pd.crosstab(df_complete['Age_Range'], df_complete['Region'], dropna = False)"
   ]
  },
  {
   "cell_type": "code",
   "execution_count": 38,
   "id": "c551afd2",
   "metadata": {},
   "outputs": [
    {
     "data": {
      "text/html": [
       "<div>\n",
       "<style scoped>\n",
       "    .dataframe tbody tr th:only-of-type {\n",
       "        vertical-align: middle;\n",
       "    }\n",
       "\n",
       "    .dataframe tbody tr th {\n",
       "        vertical-align: top;\n",
       "    }\n",
       "\n",
       "    .dataframe thead th {\n",
       "        text-align: right;\n",
       "    }\n",
       "</style>\n",
       "<table border=\"1\" class=\"dataframe\">\n",
       "  <thead>\n",
       "    <tr style=\"text-align: right;\">\n",
       "      <th>Region</th>\n",
       "      <th>Region 1, Northeast</th>\n",
       "      <th>Region 2, Midwest</th>\n",
       "      <th>Region 3, South</th>\n",
       "      <th>Region 4, West</th>\n",
       "    </tr>\n",
       "    <tr>\n",
       "      <th>Age_Range</th>\n",
       "      <th></th>\n",
       "      <th></th>\n",
       "      <th></th>\n",
       "      <th></th>\n",
       "    </tr>\n",
       "  </thead>\n",
       "  <tbody>\n",
       "    <tr>\n",
       "      <th>Adult</th>\n",
       "      <td>2545634</td>\n",
       "      <td>3491850</td>\n",
       "      <td>4868780</td>\n",
       "      <td>3777667</td>\n",
       "    </tr>\n",
       "    <tr>\n",
       "      <th>Seniors</th>\n",
       "      <td>1553956</td>\n",
       "      <td>1990918</td>\n",
       "      <td>2836341</td>\n",
       "      <td>2194146</td>\n",
       "    </tr>\n",
       "    <tr>\n",
       "      <th>Young Adult</th>\n",
       "      <td>1623349</td>\n",
       "      <td>2114817</td>\n",
       "      <td>3087179</td>\n",
       "      <td>2321404</td>\n",
       "    </tr>\n",
       "  </tbody>\n",
       "</table>\n",
       "</div>"
      ],
      "text/plain": [
       "Region       Region 1, Northeast  Region 2, Midwest  Region 3, South  \\\n",
       "Age_Range                                                              \n",
       "Adult                    2545634            3491850          4868780   \n",
       "Seniors                  1553956            1990918          2836341   \n",
       "Young Adult              1623349            2114817          3087179   \n",
       "\n",
       "Region       Region 4, West  \n",
       "Age_Range                    \n",
       "Adult               3777667  \n",
       "Seniors             2194146  \n",
       "Young Adult         2321404  "
      ]
     },
     "execution_count": 38,
     "metadata": {},
     "output_type": "execute_result"
    }
   ],
   "source": [
    "#Looking at the crosstab\n",
    "crosstab20"
   ]
  },
  {
   "cell_type": "code",
   "execution_count": 39,
   "id": "d1f44ac1",
   "metadata": {},
   "outputs": [],
   "source": [
    "# Doing the same with percentages\n",
    "crosstab21 = pd.crosstab(df_complete['Region'], df_complete['Age_Range'], normalize='index')\\\n",
    "       .round(4)*100"
   ]
  },
  {
   "cell_type": "code",
   "execution_count": 40,
   "id": "bd320eb2",
   "metadata": {},
   "outputs": [
    {
     "data": {
      "text/html": [
       "<div>\n",
       "<style scoped>\n",
       "    .dataframe tbody tr th:only-of-type {\n",
       "        vertical-align: middle;\n",
       "    }\n",
       "\n",
       "    .dataframe tbody tr th {\n",
       "        vertical-align: top;\n",
       "    }\n",
       "\n",
       "    .dataframe thead th {\n",
       "        text-align: right;\n",
       "    }\n",
       "</style>\n",
       "<table border=\"1\" class=\"dataframe\">\n",
       "  <thead>\n",
       "    <tr style=\"text-align: right;\">\n",
       "      <th>Age_Range</th>\n",
       "      <th>Adult</th>\n",
       "      <th>Seniors</th>\n",
       "      <th>Young Adult</th>\n",
       "    </tr>\n",
       "    <tr>\n",
       "      <th>Region</th>\n",
       "      <th></th>\n",
       "      <th></th>\n",
       "      <th></th>\n",
       "    </tr>\n",
       "  </thead>\n",
       "  <tbody>\n",
       "    <tr>\n",
       "      <th>Region 1, Northeast</th>\n",
       "      <td>44.48</td>\n",
       "      <td>27.15</td>\n",
       "      <td>28.37</td>\n",
       "    </tr>\n",
       "    <tr>\n",
       "      <th>Region 2, Midwest</th>\n",
       "      <td>45.96</td>\n",
       "      <td>26.20</td>\n",
       "      <td>27.84</td>\n",
       "    </tr>\n",
       "    <tr>\n",
       "      <th>Region 3, South</th>\n",
       "      <td>45.11</td>\n",
       "      <td>26.28</td>\n",
       "      <td>28.61</td>\n",
       "    </tr>\n",
       "    <tr>\n",
       "      <th>Region 4, West</th>\n",
       "      <td>45.55</td>\n",
       "      <td>26.46</td>\n",
       "      <td>27.99</td>\n",
       "    </tr>\n",
       "  </tbody>\n",
       "</table>\n",
       "</div>"
      ],
      "text/plain": [
       "Age_Range            Adult  Seniors  Young Adult\n",
       "Region                                          \n",
       "Region 1, Northeast  44.48    27.15        28.37\n",
       "Region 2, Midwest    45.96    26.20        27.84\n",
       "Region 3, South      45.11    26.28        28.61\n",
       "Region 4, West       45.55    26.46        27.99"
      ]
     },
     "execution_count": 40,
     "metadata": {},
     "output_type": "execute_result"
    }
   ],
   "source": [
    "crosstab21"
   ]
  },
  {
   "cell_type": "code",
   "execution_count": 41,
   "id": "0b1ee53e",
   "metadata": {},
   "outputs": [
    {
     "data": {
      "image/png": "[encoded data removed]",
      "text/plain": [
       "<Figure size 432x288 with 1 Axes>"
      ]
     },
     "metadata": {
      "needs_background": "light"
     },
     "output_type": "display_data"
    }
   ],
   "source": [
    "#plotting bar chart (stacked)\n",
    "regionsvsagerange= crosstab21.plot(kind=\"bar\", stacked=True, rot=0)"
   ]
  },
  {
   "cell_type": "code",
   "execution_count": 52,
   "id": "1ec161fe",
   "metadata": {},
   "outputs": [],
   "source": [
    "#Creating a crosstab to show the divisions in all age range categories across the income brackets\n",
    "crosstab27 = pd.crosstab(df_complete['Age_Range'], df_complete['income_flag'], dropna = False)"
   ]
  },
  {
   "cell_type": "code",
   "execution_count": 53,
   "id": "8754d870",
   "metadata": {},
   "outputs": [],
   "source": [
    "#Creating a crosstab with percentages of the same information above\n",
    "crosstab28 = pd.crosstab(df_complete['Age_Range'], df_complete['income_flag'], normalize='index')\\\n",
    "       .round(4)*100"
   ]
  },
  {
   "cell_type": "code",
   "execution_count": 54,
   "id": "413d3a78",
   "metadata": {},
   "outputs": [
    {
     "data": {
      "text/html": [
       "<div>\n",
       "<style scoped>\n",
       "    .dataframe tbody tr th:only-of-type {\n",
       "        vertical-align: middle;\n",
       "    }\n",
       "\n",
       "    .dataframe tbody tr th {\n",
       "        vertical-align: top;\n",
       "    }\n",
       "\n",
       "    .dataframe thead th {\n",
       "        text-align: right;\n",
       "    }\n",
       "</style>\n",
       "<table border=\"1\" class=\"dataframe\">\n",
       "  <thead>\n",
       "    <tr style=\"text-align: right;\">\n",
       "      <th>income_flag</th>\n",
       "      <th>Lower Middle Class</th>\n",
       "      <th>Middle Class</th>\n",
       "      <th>Poor or near poor</th>\n",
       "      <th>Wealthy</th>\n",
       "    </tr>\n",
       "    <tr>\n",
       "      <th>Age_Range</th>\n",
       "      <th></th>\n",
       "      <th></th>\n",
       "      <th></th>\n",
       "      <th></th>\n",
       "    </tr>\n",
       "  </thead>\n",
       "  <tbody>\n",
       "    <tr>\n",
       "      <th>Adult</th>\n",
       "      <td>9.95</td>\n",
       "      <td>88.59</td>\n",
       "      <td>1.23</td>\n",
       "      <td>0.23</td>\n",
       "    </tr>\n",
       "    <tr>\n",
       "      <th>Seniors</th>\n",
       "      <td>8.55</td>\n",
       "      <td>90.21</td>\n",
       "      <td>0.99</td>\n",
       "      <td>0.24</td>\n",
       "    </tr>\n",
       "    <tr>\n",
       "      <th>Young Adult</th>\n",
       "      <td>17.17</td>\n",
       "      <td>79.96</td>\n",
       "      <td>2.82</td>\n",
       "      <td>0.05</td>\n",
       "    </tr>\n",
       "  </tbody>\n",
       "</table>\n",
       "</div>"
      ],
      "text/plain": [
       "income_flag  Lower Middle Class  Middle Class  Poor or near poor  Wealthy\n",
       "Age_Range                                                                \n",
       "Adult                      9.95         88.59               1.23     0.23\n",
       "Seniors                    8.55         90.21               0.99     0.24\n",
       "Young Adult               17.17         79.96               2.82     0.05"
      ]
     },
     "execution_count": 54,
     "metadata": {},
     "output_type": "execute_result"
    }
   ],
   "source": [
    "crosstab28"
   ]
  },
  {
   "cell_type": "code",
   "execution_count": 55,
   "id": "e0c931e5",
   "metadata": {},
   "outputs": [
    {
     "data": {
      "image/png": "[encoded data removed]",
      "text/plain": [
       "<Figure size 432x288 with 1 Axes>"
      ]
     },
     "metadata": {
      "needs_background": "light"
     },
     "output_type": "display_data"
    }
   ],
   "source": [
    "#plotting bar chart (stacked)\n",
    "agerange_vs_class= crosstab27.plot(kind=\"bar\", stacked=True, rot=0)"
   ]
  },
  {
   "cell_type": "code",
   "execution_count": 56,
   "id": "93ba814c",
   "metadata": {},
   "outputs": [
    {
     "data": {
      "text/plain": [
       "afternoon    13166480\n",
       "morning      10852141\n",
       "evening       4982639\n",
       "night         2808422\n",
       "overnight      377573\n",
       "Name: time_of_day, dtype: int64"
      ]
     },
     "execution_count": 56,
     "metadata": {},
     "output_type": "execute_result"
    }
   ],
   "source": [
    "# Dividing time of day into its own categories; 12:00 am - 05:59 am = overnight, 06:00 - 11:59 morning, 12:00 pm - 04:59 pm = afternoon, 05:00 pm - 07:59 pm = evening,08:00 pm - 11:59 pm = night  \n",
    "       \n",
    "df_complete.loc[(df_complete['order_hour_of_day'] > 0) & (df_complete['order_hour_of_day'] < 6), 'time_of_day'] = 'overnight'\n",
    "df_complete.loc[(df_complete['order_hour_of_day'] >= 6) & (df_complete['order_hour_of_day'] < 12), 'time_of_day'] = 'morning'\n",
    "df_complete.loc[(df_complete['order_hour_of_day'] >= 12) & (df_complete['order_hour_of_day'] < 17), 'time_of_day'] = 'afternoon'\n",
    "df_complete.loc[(df_complete['order_hour_of_day'] >= 17) & (df_complete['order_hour_of_day'] < 20), 'time_of_day'] = 'evening'\n",
    "df_complete.loc[(df_complete['order_hour_of_day'] >= 20) & (df_complete['order_hour_of_day'] < 24), 'time_of_day'] = 'night'\n",
    "df_complete['time_of_day'].value_counts()"
   ]
  },
  {
   "cell_type": "code",
   "execution_count": 44,
   "id": "62725c96",
   "metadata": {},
   "outputs": [
    {
     "data": {
      "text/plain": [
       "Middle Class          28058906\n",
       "Lower Middle Class     3764367\n",
       "Poor or near poor       523780\n",
       "Wealthy                  58988\n",
       "Name: income_flag, dtype: int64"
      ]
     },
     "execution_count": 44,
     "metadata": {},
     "output_type": "execute_result"
    }
   ],
   "source": [
    "# Dividing income into brackets; $32,048 or less \"Poor or near-poor, $32,048-$53,413 Lower-middle class, $53,413-$106,827 Middle class, $106,827-373,894 Upper-middle class, $373,894 and up Wealthy\n",
    "# creating income flags\n",
    "df_complete.loc[df_complete['Income']<32048, 'income_flag'] = 'Poor or near poor'\n",
    "df_complete.loc[(df_complete['Income']>=32048) & (df_complete['Income']<=53413), 'income_flag'] = 'Lower Middle Class' \n",
    "df_complete.loc[(df_complete['Income']>53413) & (df_complete['Income']<=106827), 'income_flag'] = 'Middle Class'\n",
    "df_complete.loc[(df_complete['Income']>106827) & (df_complete['Income']<=373894), 'income_flag'] = 'Middle Class'\n",
    "df_complete.loc[df_complete['Income']>373894, 'income_flag'] = 'Wealthy'\n",
    "df_complete['income_flag'].value_counts(dropna = False)"
   ]
  },
  {
   "cell_type": "code",
   "execution_count": 57,
   "id": "aef6d1bc",
   "metadata": {},
   "outputs": [],
   "source": [
    "# Creating crosstab between income flag and age range\n",
    "crosstab2 = pd.crosstab(df_complete['income_flag'], df_complete['Age_Range'], dropna = False)"
   ]
  },
  {
   "cell_type": "code",
   "execution_count": 58,
   "id": "8d2e38ca",
   "metadata": {},
   "outputs": [
    {
     "data": {
      "text/html": [
       "<div>\n",
       "<style scoped>\n",
       "    .dataframe tbody tr th:only-of-type {\n",
       "        vertical-align: middle;\n",
       "    }\n",
       "\n",
       "    .dataframe tbody tr th {\n",
       "        vertical-align: top;\n",
       "    }\n",
       "\n",
       "    .dataframe thead th {\n",
       "        text-align: right;\n",
       "    }\n",
       "</style>\n",
       "<table border=\"1\" class=\"dataframe\">\n",
       "  <thead>\n",
       "    <tr style=\"text-align: right;\">\n",
       "      <th>Age_Range</th>\n",
       "      <th>Adult</th>\n",
       "      <th>Seniors</th>\n",
       "      <th>Young Adult</th>\n",
       "    </tr>\n",
       "    <tr>\n",
       "      <th>income_flag</th>\n",
       "      <th></th>\n",
       "      <th></th>\n",
       "      <th></th>\n",
       "    </tr>\n",
       "  </thead>\n",
       "  <tbody>\n",
       "    <tr>\n",
       "      <th>Lower Middle Class</th>\n",
       "      <td>1460499</td>\n",
       "      <td>733553</td>\n",
       "      <td>1570315</td>\n",
       "    </tr>\n",
       "    <tr>\n",
       "      <th>Middle Class</th>\n",
       "      <td>13009132</td>\n",
       "      <td>7735878</td>\n",
       "      <td>7313896</td>\n",
       "    </tr>\n",
       "    <tr>\n",
       "      <th>Poor or near poor</th>\n",
       "      <td>180486</td>\n",
       "      <td>85256</td>\n",
       "      <td>258038</td>\n",
       "    </tr>\n",
       "    <tr>\n",
       "      <th>Wealthy</th>\n",
       "      <td>33814</td>\n",
       "      <td>20674</td>\n",
       "      <td>4500</td>\n",
       "    </tr>\n",
       "  </tbody>\n",
       "</table>\n",
       "</div>"
      ],
      "text/plain": [
       "Age_Range              Adult  Seniors  Young Adult\n",
       "income_flag                                       \n",
       "Lower Middle Class   1460499   733553      1570315\n",
       "Middle Class        13009132  7735878      7313896\n",
       "Poor or near poor     180486    85256       258038\n",
       "Wealthy                33814    20674         4500"
      ]
     },
     "execution_count": 58,
     "metadata": {},
     "output_type": "execute_result"
    }
   ],
   "source": [
    "crosstab2"
   ]
  },
  {
   "cell_type": "code",
   "execution_count": 59,
   "id": "00e78838",
   "metadata": {},
   "outputs": [],
   "source": [
    "# Creating subsets of Age Range\n",
    "df_Young_adults =  df_complete[df_complete['Age_Range']=='Young Adult']\n",
    "df_Adults =  df_complete[df_complete['Age_Range']=='Adult']\n",
    "df_Seniors =  df_complete[df_complete['Age_Range']=='Seniors']"
   ]
  },
  {
   "cell_type": "markdown",
   "id": "e023c25c",
   "metadata": {},
   "source": [
    "### Create an appropriate visualization to show the distribution of profiles."
   ]
  },
  {
   "cell_type": "code",
   "execution_count": 60,
   "id": "04e9d107",
   "metadata": {},
   "outputs": [
    {
     "name": "stdout",
     "output_type": "stream",
     "text": [
      "<class 'pandas.core.frame.DataFrame'>\n",
      "Int64Index: 9146749 entries, 91 to 32406025\n",
      "Data columns (total 39 columns):\n",
      " #   Column                         Dtype   \n",
      "---  ------                         -----   \n",
      " 0   User_ID                        object  \n",
      " 1   Gender                         object  \n",
      " 2   State                          object  \n",
      " 3   Age                            int64   \n",
      " 4   Date_Joined                    object  \n",
      " 5   Number_of_Dependants           int64   \n",
      " 6   Family_Status                  object  \n",
      " 7   Income                         int64   \n",
      " 8   order_id                       int64   \n",
      " 9   eval_set                       object  \n",
      " 10  order_number                   int64   \n",
      " 11  order_dow                      int64   \n",
      " 12  order_hour_of_day              int64   \n",
      " 13  days_since_prior_order         float64 \n",
      " 14  product_id                     int64   \n",
      " 15  add_to_cart_order              int64   \n",
      " 16  reordered                      int64   \n",
      " 17  _merge                         category\n",
      " 18  Unnamed: 0                     int64   \n",
      " 19  product_name                   object  \n",
      " 20  aisle_id                       int64   \n",
      " 21  department_id                  int64   \n",
      " 22  prices                         float64 \n",
      " 23  price_range_loc                object  \n",
      " 24  busiest_day                    object  \n",
      " 25  busiest_days                   object  \n",
      " 26  busiest_period_of_day          object  \n",
      " 27  max_order                      int64   \n",
      " 28  loyalty_flag                   object  \n",
      " 29  Total_spent                    float64 \n",
      " 30  Mean_prices                    float64 \n",
      " 31  Spender_type                   object  \n",
      " 32  Median_days_since_prior_order  float64 \n",
      " 33  Customer_frequency             object  \n",
      " 34  Region                         object  \n",
      " 35  low_activity_flag              object  \n",
      " 36  Age_Range                      object  \n",
      " 37  time_of_day                    object  \n",
      " 38  income_flag                    object  \n",
      "dtypes: category(1), float64(5), int64(14), object(19)\n",
      "memory usage: 2.7+ GB\n"
     ]
    }
   ],
   "source": [
    "df_Young_adults.info()"
   ]
  },
  {
   "cell_type": "code",
   "execution_count": 61,
   "id": "e881a207",
   "metadata": {},
   "outputs": [
    {
     "data": {
      "image/png": "[encoded data removed]",
      "text/plain": [
       "<Figure size 432x288 with 1 Axes>"
      ]
     },
     "metadata": {
      "needs_background": "light"
     },
     "output_type": "display_data"
    }
   ],
   "source": [
    "# creating bar chart of time of day in young adult category\n",
    "bar1 = df_Young_adults['time_of_day'].value_counts().sort_index().plot.bar()"
   ]
  },
  {
   "cell_type": "markdown",
   "id": "5e838a17",
   "metadata": {},
   "source": [
    "Young Adults place most of their orders in the morning and afternoon."
   ]
  },
  {
   "cell_type": "code",
   "execution_count": 62,
   "id": "ff3ca023",
   "metadata": {},
   "outputs": [
    {
     "data": {
      "image/png": "[encoded data removed]",
      "text/plain": [
       "<Figure size 432x288 with 1 Axes>"
      ]
     },
     "metadata": {
      "needs_background": "light"
     },
     "output_type": "display_data"
    }
   ],
   "source": [
    "# creating bar chart of dep id in young adult category\n",
    "bar2 = df_Young_adults['department_id'].value_counts().plot.bar()"
   ]
  },
  {
   "cell_type": "markdown",
   "id": "09c82c7b",
   "metadata": {},
   "source": [
    "Young adults order mostly from departments 4 and 16."
   ]
  },
  {
   "cell_type": "code",
   "execution_count": 63,
   "id": "985c9115",
   "metadata": {},
   "outputs": [
    {
     "data": {
      "image/png": "[encoded data removed]",
      "text/plain": [
       "<Figure size 432x288 with 1 Axes>"
      ]
     },
     "metadata": {
      "needs_background": "light"
     },
     "output_type": "display_data"
    }
   ],
   "source": [
    "# creating bar chart of time of day in young adult category\n",
    "bar3 = df_Young_adults['income_flag'].value_counts().plot.bar()"
   ]
  },
  {
   "cell_type": "markdown",
   "id": "d15feb8a",
   "metadata": {},
   "source": [
    "Young adults are mostly in the middle class income category"
   ]
  },
  {
   "cell_type": "code",
   "execution_count": 64,
   "id": "0a19fe86",
   "metadata": {},
   "outputs": [],
   "source": [
    "# Marking the above prices above 100 as missing\n",
    "df_Young_adults.loc[df_Young_adults['prices'] >100, 'prices'] = np.nan"
   ]
  },
  {
   "cell_type": "code",
   "execution_count": 65,
   "id": "05d5b5b9",
   "metadata": {},
   "outputs": [
    {
     "data": {
      "image/png": "[encoded data removed]",
      "text/plain": [
       "<Figure size 432x288 with 1 Axes>"
      ]
     },
     "metadata": {
      "needs_background": "light"
     },
     "output_type": "display_data"
    }
   ],
   "source": [
    "# Histogram young adult prices\n",
    "hist1 = df_Young_adults['prices'].plot.hist(bins = 40)"
   ]
  },
  {
   "cell_type": "markdown",
   "id": "c1794f55",
   "metadata": {},
   "source": [
    "Young adults tend to spend less than $15 per order"
   ]
  },
  {
   "cell_type": "code",
   "execution_count": 66,
   "id": "9e6ba3b3",
   "metadata": {},
   "outputs": [
    {
     "data": {
      "image/png": "[encoded data removed]",
      "text/plain": [
       "<Figure size 432x288 with 1 Axes>"
      ]
     },
     "metadata": {
      "needs_background": "light"
     },
     "output_type": "display_data"
    }
   ],
   "source": [
    "# creating bar chart of time of day in adult category\n",
    "bar4 = df_Adults['time_of_day'].value_counts().sort_index().plot.bar()"
   ]
  },
  {
   "cell_type": "markdown",
   "id": "561e547f",
   "metadata": {},
   "source": [
    "Adults order mostly in the morning and afternoon"
   ]
  },
  {
   "cell_type": "code",
   "execution_count": 67,
   "id": "02e2ed32",
   "metadata": {},
   "outputs": [
    {
     "data": {
      "image/png": "[encoded data removed]",
      "text/plain": [
       "<Figure size 432x288 with 1 Axes>"
      ]
     },
     "metadata": {
      "needs_background": "light"
     },
     "output_type": "display_data"
    }
   ],
   "source": [
    "# creating bar chart of time of day in the adult category\n",
    "bar5 = df_Adults['department_id'].value_counts().plot.bar()"
   ]
  },
  {
   "cell_type": "markdown",
   "id": "76296bfc",
   "metadata": {},
   "source": [
    "Adults order mostly from departments 4 and 16."
   ]
  },
  {
   "cell_type": "code",
   "execution_count": 68,
   "id": "3d22cbe7",
   "metadata": {},
   "outputs": [
    {
     "data": {
      "image/png": "[encoded data removed]",
      "text/plain": [
       "<Figure size 432x288 with 1 Axes>"
      ]
     },
     "metadata": {
      "needs_background": "light"
     },
     "output_type": "display_data"
    }
   ],
   "source": [
    "# creating bar chart of time of day in the adult category\n",
    "bar6 = df_Adults['income_flag'].value_counts().plot.bar()"
   ]
  },
  {
   "cell_type": "markdown",
   "id": "194d3abf",
   "metadata": {},
   "source": [
    "Adults are mostly middle class."
   ]
  },
  {
   "cell_type": "code",
   "execution_count": 69,
   "id": "9417a370",
   "metadata": {},
   "outputs": [],
   "source": [
    "# Marking the above prices above 100 as missing\n",
    "df_Adults.loc[df_Adults['prices'] >100, 'prices'] = np.nan"
   ]
  },
  {
   "cell_type": "code",
   "execution_count": 70,
   "id": "ed46bc5f",
   "metadata": {},
   "outputs": [
    {
     "data": {
      "image/png": "[encoded data removed]",
      "text/plain": [
       "<Figure size 432x288 with 1 Axes>"
      ]
     },
     "metadata": {
      "needs_background": "light"
     },
     "output_type": "display_data"
    }
   ],
   "source": [
    "# histogram on what adults spend\n",
    "hist2 = df_Adults['prices'].plot.hist(bins = 40)"
   ]
  },
  {
   "cell_type": "markdown",
   "id": "aca362a7",
   "metadata": {},
   "source": [
    "Adults tend to spend less than 15 dollars per order."
   ]
  },
  {
   "cell_type": "code",
   "execution_count": 71,
   "id": "fd8128ec",
   "metadata": {},
   "outputs": [
    {
     "data": {
      "image/png": "[encoded data removed]",
      "text/plain": [
       "<Figure size 432x288 with 1 Axes>"
      ]
     },
     "metadata": {
      "needs_background": "light"
     },
     "output_type": "display_data"
    }
   ],
   "source": [
    "# creating bar chart of time of day in the senior category\n",
    "bar7 = df_Seniors['time_of_day'].value_counts().plot.bar()"
   ]
  },
  {
   "cell_type": "markdown",
   "id": "a7f96388",
   "metadata": {},
   "source": [
    "Seniors shop mostly in the morning and afternoon"
   ]
  },
  {
   "cell_type": "code",
   "execution_count": 72,
   "id": "a3384a84",
   "metadata": {},
   "outputs": [
    {
     "data": {
      "image/png": "[encoded data removed]",
      "text/plain": [
       "<Figure size 432x288 with 1 Axes>"
      ]
     },
     "metadata": {
      "needs_background": "light"
     },
     "output_type": "display_data"
    }
   ],
   "source": [
    "# creating bar chart of department id in the senior category\n",
    "bar8 = df_Seniors['department_id'].value_counts().plot.bar()"
   ]
  },
  {
   "cell_type": "markdown",
   "id": "14f6262b",
   "metadata": {},
   "source": [
    "Seniors order mostly from departments 4 and 16"
   ]
  },
  {
   "cell_type": "code",
   "execution_count": 73,
   "id": "cb62ee0a",
   "metadata": {},
   "outputs": [
    {
     "data": {
      "image/png": "[encoded data removed]",
      "text/plain": [
       "<Figure size 432x288 with 1 Axes>"
      ]
     },
     "metadata": {
      "needs_background": "light"
     },
     "output_type": "display_data"
    }
   ],
   "source": [
    "# creating bar chart of income flag in the senior\n",
    "bar9 = df_Seniors['income_flag'].value_counts().plot.bar()"
   ]
  },
  {
   "cell_type": "markdown",
   "id": "3cc0a9bf",
   "metadata": {},
   "source": [
    "Seniors are mostly middle class"
   ]
  },
  {
   "cell_type": "code",
   "execution_count": 74,
   "id": "9363cfc3",
   "metadata": {},
   "outputs": [],
   "source": [
    "# Marking the above prices above 100 as missing\n",
    "df_Seniors.loc[df_Seniors['prices'] >100, 'prices'] = np.nan"
   ]
  },
  {
   "cell_type": "code",
   "execution_count": 75,
   "id": "282cf79c",
   "metadata": {},
   "outputs": [
    {
     "data": {
      "image/png": "[encoded data removed]",
      "text/plain": [
       "<Figure size 432x288 with 1 Axes>"
      ]
     },
     "metadata": {
      "needs_background": "light"
     },
     "output_type": "display_data"
    }
   ],
   "source": [
    "# histogram on what Seniors spend\n",
    "hist3 = df_Seniors['prices'].plot.hist(bins = 40)"
   ]
  },
  {
   "cell_type": "markdown",
   "id": "b584892b",
   "metadata": {},
   "source": [
    "Seniors also tend to spend less than $15 per order."
   ]
  },
  {
   "cell_type": "code",
   "execution_count": null,
   "id": "4f1ef553",
   "metadata": {},
   "outputs": [],
   "source": [
    "# Looking at the overall department ID data"
   ]
  },
  {
   "cell_type": "code",
   "execution_count": 76,
   "id": "7a39c1c3",
   "metadata": {},
   "outputs": [
    {
     "data": {
      "image/png": "[encoded data removed]",
      "text/plain": [
       "<Figure size 432x288 with 1 Axes>"
      ]
     },
     "metadata": {
      "needs_background": "light"
     },
     "output_type": "display_data"
    }
   ],
   "source": [
    "bar14 = df_complete['department_id'].value_counts().plot.bar()"
   ]
  },
  {
   "cell_type": "code",
   "execution_count": 77,
   "id": "4252608f",
   "metadata": {},
   "outputs": [
    {
     "data": {
      "image/png": "[encoded data removed]",
      "text/plain": [
       "<Figure size 432x288 with 1 Axes>"
      ]
     },
     "metadata": {
      "needs_background": "light"
     },
     "output_type": "display_data"
    }
   ],
   "source": [
    "#Customer loyalty distribution\n",
    "bar15 = df_complete['loyalty_flag'].value_counts().plot.bar()"
   ]
  },
  {
   "cell_type": "code",
   "execution_count": 78,
   "id": "b5068aa7",
   "metadata": {},
   "outputs": [
    {
     "data": {
      "text/plain": [
       "Regular customer    15877395\n",
       "Loyal customer      10284396\n",
       "New customer         6244250\n",
       "Name: loyalty_flag, dtype: int64"
      ]
     },
     "execution_count": 78,
     "metadata": {},
     "output_type": "execute_result"
    }
   ],
   "source": [
    "#Showing counts of each category\n",
    "df_complete['loyalty_flag'].value_counts()"
   ]
  },
  {
   "cell_type": "code",
   "execution_count": 79,
   "id": "caaeec70",
   "metadata": {},
   "outputs": [
    {
     "name": "stdout",
     "output_type": "stream",
     "text": [
      "Regular Customer 49.0 %\n",
      "Loyal Customer  31.74 %\n",
      "New Customer  19.27 %\n"
     ]
    }
   ],
   "source": [
    "#calculating percentages of each category based on customer count\n",
    "print('Regular Customer', round((15877395/(15877395+10284396+6244250))*100, 2),'%')\n",
    "print('Loyal Customer ', round((10284396/(15877395+10284396+6244250))*100, 2),'%')\n",
    "print('New Customer ', round((6244250/(15877395+10284396+6244250))*100, 2),'%')"
   ]
  },
  {
   "cell_type": "code",
   "execution_count": 80,
   "id": "b44b4248",
   "metadata": {},
   "outputs": [
    {
     "data": {
      "text/plain": [
       "Frequent_customer        21560324\n",
       "Regular_customer          7209005\n",
       "Non_frequent_customer     3636707\n",
       "Name: Customer_frequency, dtype: int64"
      ]
     },
     "execution_count": 80,
     "metadata": {},
     "output_type": "execute_result"
    }
   ],
   "source": [
    "#looking at customer frequency column counts \n",
    "df_complete['Customer_frequency'].value_counts()"
   ]
  },
  {
   "cell_type": "code",
   "execution_count": 81,
   "id": "fb212599",
   "metadata": {},
   "outputs": [],
   "source": [
    "# Creating crosstab between loyalty flag and customer frequency\n",
    "crosstab4 = pd.crosstab(df_complete['loyalty_flag'], df_complete['Customer_frequency'], dropna = False)"
   ]
  },
  {
   "cell_type": "code",
   "execution_count": 82,
   "id": "562ee73a",
   "metadata": {},
   "outputs": [
    {
     "data": {
      "text/html": [
       "<div>\n",
       "<style scoped>\n",
       "    .dataframe tbody tr th:only-of-type {\n",
       "        vertical-align: middle;\n",
       "    }\n",
       "\n",
       "    .dataframe tbody tr th {\n",
       "        vertical-align: top;\n",
       "    }\n",
       "\n",
       "    .dataframe thead th {\n",
       "        text-align: right;\n",
       "    }\n",
       "</style>\n",
       "<table border=\"1\" class=\"dataframe\">\n",
       "  <thead>\n",
       "    <tr style=\"text-align: right;\">\n",
       "      <th>Customer_frequency</th>\n",
       "      <th>Frequent_customer</th>\n",
       "      <th>Non_frequent_customer</th>\n",
       "      <th>Regular_customer</th>\n",
       "    </tr>\n",
       "    <tr>\n",
       "      <th>loyalty_flag</th>\n",
       "      <th></th>\n",
       "      <th></th>\n",
       "      <th></th>\n",
       "    </tr>\n",
       "  </thead>\n",
       "  <tbody>\n",
       "    <tr>\n",
       "      <th>Loyal customer</th>\n",
       "      <td>10280263</td>\n",
       "      <td>0</td>\n",
       "      <td>4133</td>\n",
       "    </tr>\n",
       "    <tr>\n",
       "      <th>New customer</th>\n",
       "      <td>1648597</td>\n",
       "      <td>2725192</td>\n",
       "      <td>1870456</td>\n",
       "    </tr>\n",
       "    <tr>\n",
       "      <th>Regular customer</th>\n",
       "      <td>9631464</td>\n",
       "      <td>911515</td>\n",
       "      <td>5334416</td>\n",
       "    </tr>\n",
       "  </tbody>\n",
       "</table>\n",
       "</div>"
      ],
      "text/plain": [
       "Customer_frequency  Frequent_customer  Non_frequent_customer  Regular_customer\n",
       "loyalty_flag                                                                  \n",
       "Loyal customer               10280263                      0              4133\n",
       "New customer                  1648597                2725192           1870456\n",
       "Regular customer              9631464                 911515           5334416"
      ]
     },
     "execution_count": 82,
     "metadata": {},
     "output_type": "execute_result"
    }
   ],
   "source": [
    "#showing crosstab\n",
    "crosstab4"
   ]
  },
  {
   "cell_type": "code",
   "execution_count": 83,
   "id": "500c3263",
   "metadata": {},
   "outputs": [
    {
     "data": {
      "image/png": "[encoded data removed]",
      "text/plain": [
       "<Figure size 432x288 with 1 Axes>"
      ]
     },
     "metadata": {
      "needs_background": "light"
     },
     "output_type": "display_data"
    }
   ],
   "source": [
    "#plotting bar chart\n",
    "loyalvsfreq= crosstab4.plot(kind=\"bar\", stacked=True, rot=0)"
   ]
  },
  {
   "cell_type": "code",
   "execution_count": 84,
   "id": "4897b99b",
   "metadata": {},
   "outputs": [
    {
     "name": "stdout",
     "output_type": "stream",
     "text": [
      "Loyal:Frequent  99.96 %\n",
      "Loyal:Non Frequent  0.0 %\n",
      "Loyal:Regular  0.04 %\n",
      "New:Frequent  26.4 %\n",
      "New:Non Frequent  43.64 %\n",
      "New:Regular  29.95 %\n",
      "Regular:Frequent  60.66 %\n",
      "Regular:Non frequent  5.74 %\n",
      "Regular:Regular  33.6 %\n"
     ]
    }
   ],
   "source": [
    "#### viewing percentage of customers in each region based on class\n",
    "print('Loyal:Frequent ', round(crosstab4.iloc[0,0]/10284396*100, 2),'%')\n",
    "print('Loyal:Non Frequent ', round(crosstab4.iloc[0,1]/10284396*100, 2),'%')\n",
    "print('Loyal:Regular ', round(crosstab4.iloc[0,2]/10284396*100, 2),'%')\n",
    "print('New:Frequent ', round(crosstab4.iloc[1,0]/6244245*100, 2),'%')\n",
    "print('New:Non Frequent ', round(crosstab4.iloc[1,1]/6244245*100, 2),'%')\n",
    "print('New:Regular ', round(crosstab4.iloc[1,2]/6244245*100, 2),'%')\n",
    "print('Regular:Frequent ', round(crosstab4.iloc[2,0]/15877395*100, 2),'%')\n",
    "print('Regular:Non frequent ', round(crosstab4.iloc[2,1]/15877395*100, 2),'%')\n",
    "print('Regular:Regular ', round(crosstab4.iloc[2,2]/15877395*100, 2),'%')\n"
   ]
  },
  {
   "cell_type": "code",
   "execution_count": 85,
   "id": "33ff9d4e",
   "metadata": {},
   "outputs": [],
   "source": [
    "# Creating crosstab between loyalty flag and customer frequency\n",
    "crosstab5 = pd.crosstab(df_complete['loyalty_flag'], df_complete['department_id'], normalize='index')\\\n",
    "       .round(4)*100"
   ]
  },
  {
   "cell_type": "code",
   "execution_count": 86,
   "id": "7086238f",
   "metadata": {},
   "outputs": [
    {
     "data": {
      "text/html": [
       "<div>\n",
       "<style scoped>\n",
       "    .dataframe tbody tr th:only-of-type {\n",
       "        vertical-align: middle;\n",
       "    }\n",
       "\n",
       "    .dataframe tbody tr th {\n",
       "        vertical-align: top;\n",
       "    }\n",
       "\n",
       "    .dataframe thead th {\n",
       "        text-align: right;\n",
       "    }\n",
       "</style>\n",
       "<table border=\"1\" class=\"dataframe\">\n",
       "  <thead>\n",
       "    <tr style=\"text-align: right;\">\n",
       "      <th>department_id</th>\n",
       "      <th>1</th>\n",
       "      <th>2</th>\n",
       "      <th>3</th>\n",
       "      <th>4</th>\n",
       "      <th>5</th>\n",
       "      <th>6</th>\n",
       "      <th>7</th>\n",
       "      <th>8</th>\n",
       "      <th>9</th>\n",
       "      <th>10</th>\n",
       "      <th>11</th>\n",
       "      <th>12</th>\n",
       "      <th>13</th>\n",
       "      <th>14</th>\n",
       "      <th>15</th>\n",
       "      <th>16</th>\n",
       "      <th>17</th>\n",
       "      <th>18</th>\n",
       "      <th>19</th>\n",
       "      <th>20</th>\n",
       "      <th>21</th>\n",
       "    </tr>\n",
       "    <tr>\n",
       "      <th>loyalty_flag</th>\n",
       "      <th></th>\n",
       "      <th></th>\n",
       "      <th></th>\n",
       "      <th></th>\n",
       "      <th></th>\n",
       "      <th></th>\n",
       "      <th></th>\n",
       "      <th></th>\n",
       "      <th></th>\n",
       "      <th></th>\n",
       "      <th></th>\n",
       "      <th></th>\n",
       "      <th></th>\n",
       "      <th></th>\n",
       "      <th></th>\n",
       "      <th></th>\n",
       "      <th></th>\n",
       "      <th></th>\n",
       "      <th></th>\n",
       "      <th></th>\n",
       "      <th></th>\n",
       "    </tr>\n",
       "  </thead>\n",
       "  <tbody>\n",
       "    <tr>\n",
       "      <th>Loyal customer</th>\n",
       "      <td>5.93</td>\n",
       "      <td>0.10</td>\n",
       "      <td>3.69</td>\n",
       "      <td>30.60</td>\n",
       "      <td>0.38</td>\n",
       "      <td>0.76</td>\n",
       "      <td>8.31</td>\n",
       "      <td>0.25</td>\n",
       "      <td>2.36</td>\n",
       "      <td>0.13</td>\n",
       "      <td>1.20</td>\n",
       "      <td>1.97</td>\n",
       "      <td>5.45</td>\n",
       "      <td>2.16</td>\n",
       "      <td>2.86</td>\n",
       "      <td>17.80</td>\n",
       "      <td>1.91</td>\n",
       "      <td>1.62</td>\n",
       "      <td>9.17</td>\n",
       "      <td>3.15</td>\n",
       "      <td>0.18</td>\n",
       "    </tr>\n",
       "    <tr>\n",
       "      <th>New customer</th>\n",
       "      <td>7.77</td>\n",
       "      <td>0.12</td>\n",
       "      <td>3.58</td>\n",
       "      <td>27.81</td>\n",
       "      <td>0.60</td>\n",
       "      <td>0.91</td>\n",
       "      <td>8.21</td>\n",
       "      <td>0.33</td>\n",
       "      <td>3.03</td>\n",
       "      <td>0.08</td>\n",
       "      <td>1.58</td>\n",
       "      <td>2.35</td>\n",
       "      <td>6.28</td>\n",
       "      <td>2.22</td>\n",
       "      <td>3.78</td>\n",
       "      <td>15.56</td>\n",
       "      <td>2.67</td>\n",
       "      <td>0.96</td>\n",
       "      <td>8.56</td>\n",
       "      <td>3.30</td>\n",
       "      <td>0.27</td>\n",
       "    </tr>\n",
       "    <tr>\n",
       "      <th>Regular customer</th>\n",
       "      <td>7.18</td>\n",
       "      <td>0.11</td>\n",
       "      <td>3.58</td>\n",
       "      <td>28.94</td>\n",
       "      <td>0.49</td>\n",
       "      <td>0.84</td>\n",
       "      <td>8.32</td>\n",
       "      <td>0.33</td>\n",
       "      <td>2.74</td>\n",
       "      <td>0.10</td>\n",
       "      <td>1.42</td>\n",
       "      <td>2.27</td>\n",
       "      <td>5.81</td>\n",
       "      <td>2.16</td>\n",
       "      <td>3.38</td>\n",
       "      <td>16.35</td>\n",
       "      <td>2.36</td>\n",
       "      <td>1.24</td>\n",
       "      <td>8.88</td>\n",
       "      <td>3.28</td>\n",
       "      <td>0.21</td>\n",
       "    </tr>\n",
       "  </tbody>\n",
       "</table>\n",
       "</div>"
      ],
      "text/plain": [
       "department_id       1     2     3      4     5     6     7     8     9     10  \\\n",
       "loyalty_flag                                                                    \n",
       "Loyal customer    5.93  0.10  3.69  30.60  0.38  0.76  8.31  0.25  2.36  0.13   \n",
       "New customer      7.77  0.12  3.58  27.81  0.60  0.91  8.21  0.33  3.03  0.08   \n",
       "Regular customer  7.18  0.11  3.58  28.94  0.49  0.84  8.32  0.33  2.74  0.10   \n",
       "\n",
       "department_id       11    12    13    14    15     16    17    18    19    20  \\\n",
       "loyalty_flag                                                                    \n",
       "Loyal customer    1.20  1.97  5.45  2.16  2.86  17.80  1.91  1.62  9.17  3.15   \n",
       "New customer      1.58  2.35  6.28  2.22  3.78  15.56  2.67  0.96  8.56  3.30   \n",
       "Regular customer  1.42  2.27  5.81  2.16  3.38  16.35  2.36  1.24  8.88  3.28   \n",
       "\n",
       "department_id       21  \n",
       "loyalty_flag            \n",
       "Loyal customer    0.18  \n",
       "New customer      0.27  \n",
       "Regular customer  0.21  "
      ]
     },
     "metadata": {},
     "output_type": "display_data"
    }
   ],
   "source": [
    "#showing crosstab\n",
    "with pd.option_context(\"display.max_columns\", None):\n",
    "    display(crosstab5)\n"
   ]
  },
  {
   "cell_type": "markdown",
   "id": "50765ca3",
   "metadata": {},
   "source": [
    "### Aggregate the max, mean, and min variables on a customer-profile level for usage frequency and expenditure."
   ]
  },
  {
   "cell_type": "code",
   "execution_count": 87,
   "id": "45fefd1b",
   "metadata": {},
   "outputs": [
    {
     "data": {
      "text/html": [
       "<div>\n",
       "<style scoped>\n",
       "    .dataframe tbody tr th:only-of-type {\n",
       "        vertical-align: middle;\n",
       "    }\n",
       "\n",
       "    .dataframe tbody tr th {\n",
       "        vertical-align: top;\n",
       "    }\n",
       "\n",
       "    .dataframe thead th {\n",
       "        text-align: right;\n",
       "    }\n",
       "</style>\n",
       "<table border=\"1\" class=\"dataframe\">\n",
       "  <thead>\n",
       "    <tr style=\"text-align: right;\">\n",
       "      <th></th>\n",
       "      <th>Age</th>\n",
       "      <th>Number_of_Dependants</th>\n",
       "      <th>Income</th>\n",
       "      <th>order_id</th>\n",
       "      <th>order_number</th>\n",
       "      <th>order_dow</th>\n",
       "      <th>order_hour_of_day</th>\n",
       "      <th>days_since_prior_order</th>\n",
       "      <th>product_id</th>\n",
       "      <th>add_to_cart_order</th>\n",
       "      <th>reordered</th>\n",
       "      <th>Unnamed: 0</th>\n",
       "      <th>aisle_id</th>\n",
       "      <th>department_id</th>\n",
       "      <th>prices</th>\n",
       "      <th>max_order</th>\n",
       "      <th>Total_spent</th>\n",
       "      <th>Mean_prices</th>\n",
       "      <th>Median_days_since_prior_order</th>\n",
       "    </tr>\n",
       "  </thead>\n",
       "  <tbody>\n",
       "    <tr>\n",
       "      <th>count</th>\n",
       "      <td>9.146749e+06</td>\n",
       "      <td>9.146749e+06</td>\n",
       "      <td>9.146749e+06</td>\n",
       "      <td>9.146749e+06</td>\n",
       "      <td>9.146749e+06</td>\n",
       "      <td>9.146749e+06</td>\n",
       "      <td>9.146749e+06</td>\n",
       "      <td>8.560419e+06</td>\n",
       "      <td>9.146749e+06</td>\n",
       "      <td>9.146749e+06</td>\n",
       "      <td>9.146749e+06</td>\n",
       "      <td>9.146749e+06</td>\n",
       "      <td>9.146749e+06</td>\n",
       "      <td>9.146749e+06</td>\n",
       "      <td>9.145272e+06</td>\n",
       "      <td>9.146749e+06</td>\n",
       "      <td>9.146749e+06</td>\n",
       "      <td>9.146749e+06</td>\n",
       "      <td>9.146749e+06</td>\n",
       "    </tr>\n",
       "    <tr>\n",
       "      <th>mean</th>\n",
       "      <td>2.650351e+01</td>\n",
       "      <td>1.504928e+00</td>\n",
       "      <td>7.049022e+04</td>\n",
       "      <td>1.711323e+06</td>\n",
       "      <td>1.710673e+01</td>\n",
       "      <td>2.730549e+00</td>\n",
       "      <td>1.340505e+01</td>\n",
       "      <td>1.112488e+01</td>\n",
       "      <td>2.558546e+04</td>\n",
       "      <td>8.408940e+00</td>\n",
       "      <td>5.895923e-01</td>\n",
       "      <td>2.558716e+04</td>\n",
       "      <td>7.120357e+01</td>\n",
       "      <td>9.937084e+00</td>\n",
       "      <td>7.785049e+00</td>\n",
       "      <td>3.298256e+01</td>\n",
       "      <td>3.736299e+02</td>\n",
       "      <td>1.212499e+01</td>\n",
       "      <td>1.041373e+01</td>\n",
       "    </tr>\n",
       "    <tr>\n",
       "      <th>std</th>\n",
       "      <td>5.192519e+00</td>\n",
       "      <td>1.118034e+00</td>\n",
       "      <td>2.521283e+04</td>\n",
       "      <td>9.875041e+05</td>\n",
       "      <td>1.747877e+01</td>\n",
       "      <td>2.088959e+00</td>\n",
       "      <td>4.248011e+00</td>\n",
       "      <td>8.771310e+00</td>\n",
       "      <td>1.407742e+04</td>\n",
       "      <td>7.187371e+00</td>\n",
       "      <td>4.919078e-01</td>\n",
       "      <td>1.407897e+04</td>\n",
       "      <td>3.822464e+01</td>\n",
       "      <td>6.284143e+00</td>\n",
       "      <td>4.238547e+00</td>\n",
       "      <td>2.508255e+01</td>\n",
       "      <td>4.244853e+03</td>\n",
       "      <td>9.380797e+01</td>\n",
       "      <td>7.117306e+00</td>\n",
       "    </tr>\n",
       "    <tr>\n",
       "      <th>min</th>\n",
       "      <td>1.800000e+01</td>\n",
       "      <td>0.000000e+00</td>\n",
       "      <td>2.591100e+04</td>\n",
       "      <td>5.000000e+00</td>\n",
       "      <td>1.000000e+00</td>\n",
       "      <td>0.000000e+00</td>\n",
       "      <td>0.000000e+00</td>\n",
       "      <td>0.000000e+00</td>\n",
       "      <td>1.000000e+00</td>\n",
       "      <td>1.000000e+00</td>\n",
       "      <td>0.000000e+00</td>\n",
       "      <td>0.000000e+00</td>\n",
       "      <td>1.000000e+00</td>\n",
       "      <td>1.000000e+00</td>\n",
       "      <td>1.000000e+00</td>\n",
       "      <td>3.000000e+00</td>\n",
       "      <td>1.000000e+00</td>\n",
       "      <td>1.000000e+00</td>\n",
       "      <td>0.000000e+00</td>\n",
       "    </tr>\n",
       "    <tr>\n",
       "      <th>25%</th>\n",
       "      <td>2.200000e+01</td>\n",
       "      <td>1.000000e+00</td>\n",
       "      <td>5.593500e+04</td>\n",
       "      <td>8.564680e+05</td>\n",
       "      <td>5.000000e+00</td>\n",
       "      <td>1.000000e+00</td>\n",
       "      <td>1.000000e+01</td>\n",
       "      <td>5.000000e+00</td>\n",
       "      <td>1.356000e+04</td>\n",
       "      <td>3.000000e+00</td>\n",
       "      <td>0.000000e+00</td>\n",
       "      <td>1.356000e+04</td>\n",
       "      <td>3.100000e+01</td>\n",
       "      <td>4.000000e+00</td>\n",
       "      <td>4.200000e+00</td>\n",
       "      <td>1.300000e+01</td>\n",
       "      <td>1.490000e+01</td>\n",
       "      <td>7.385799e+00</td>\n",
       "      <td>6.000000e+00</td>\n",
       "    </tr>\n",
       "    <tr>\n",
       "      <th>50%</th>\n",
       "      <td>2.700000e+01</td>\n",
       "      <td>2.000000e+00</td>\n",
       "      <td>6.903400e+04</td>\n",
       "      <td>1.710364e+06</td>\n",
       "      <td>1.100000e+01</td>\n",
       "      <td>3.000000e+00</td>\n",
       "      <td>1.300000e+01</td>\n",
       "      <td>8.000000e+00</td>\n",
       "      <td>2.524600e+04</td>\n",
       "      <td>6.000000e+00</td>\n",
       "      <td>1.000000e+00</td>\n",
       "      <td>2.524700e+04</td>\n",
       "      <td>8.300000e+01</td>\n",
       "      <td>9.000000e+00</td>\n",
       "      <td>7.400000e+00</td>\n",
       "      <td>2.600000e+01</td>\n",
       "      <td>2.040000e+01</td>\n",
       "      <td>7.817197e+00</td>\n",
       "      <td>8.000000e+00</td>\n",
       "    </tr>\n",
       "    <tr>\n",
       "      <th>75%</th>\n",
       "      <td>3.100000e+01</td>\n",
       "      <td>3.000000e+00</td>\n",
       "      <td>8.463100e+04</td>\n",
       "      <td>2.566481e+06</td>\n",
       "      <td>2.400000e+01</td>\n",
       "      <td>5.000000e+00</td>\n",
       "      <td>1.600000e+01</td>\n",
       "      <td>1.500000e+01</td>\n",
       "      <td>3.791700e+04</td>\n",
       "      <td>1.200000e+01</td>\n",
       "      <td>1.000000e+00</td>\n",
       "      <td>3.792100e+04</td>\n",
       "      <td>1.070000e+02</td>\n",
       "      <td>1.600000e+01</td>\n",
       "      <td>1.120000e+01</td>\n",
       "      <td>4.700000e+01</td>\n",
       "      <td>2.360000e+01</td>\n",
       "      <td>8.245455e+00</td>\n",
       "      <td>1.300000e+01</td>\n",
       "    </tr>\n",
       "    <tr>\n",
       "      <th>max</th>\n",
       "      <td>3.500000e+01</td>\n",
       "      <td>3.000000e+00</td>\n",
       "      <td>3.963640e+05</td>\n",
       "      <td>3.421077e+06</td>\n",
       "      <td>9.900000e+01</td>\n",
       "      <td>6.000000e+00</td>\n",
       "      <td>2.300000e+01</td>\n",
       "      <td>3.000000e+01</td>\n",
       "      <td>4.968800e+04</td>\n",
       "      <td>1.090000e+02</td>\n",
       "      <td>1.000000e+00</td>\n",
       "      <td>4.969200e+04</td>\n",
       "      <td>1.340000e+02</td>\n",
       "      <td>2.100000e+01</td>\n",
       "      <td>2.500000e+01</td>\n",
       "      <td>9.900000e+01</td>\n",
       "      <td>9.999900e+04</td>\n",
       "      <td>1.250692e+04</td>\n",
       "      <td>3.000000e+01</td>\n",
       "    </tr>\n",
       "  </tbody>\n",
       "</table>\n",
       "</div>"
      ],
      "text/plain": [
       "                Age  Number_of_Dependants        Income      order_id  \\\n",
       "count  9.146749e+06          9.146749e+06  9.146749e+06  9.146749e+06   \n",
       "mean   2.650351e+01          1.504928e+00  7.049022e+04  1.711323e+06   \n",
       "std    5.192519e+00          1.118034e+00  2.521283e+04  9.875041e+05   \n",
       "min    1.800000e+01          0.000000e+00  2.591100e+04  5.000000e+00   \n",
       "25%    2.200000e+01          1.000000e+00  5.593500e+04  8.564680e+05   \n",
       "50%    2.700000e+01          2.000000e+00  6.903400e+04  1.710364e+06   \n",
       "75%    3.100000e+01          3.000000e+00  8.463100e+04  2.566481e+06   \n",
       "max    3.500000e+01          3.000000e+00  3.963640e+05  3.421077e+06   \n",
       "\n",
       "       order_number     order_dow  order_hour_of_day  days_since_prior_order  \\\n",
       "count  9.146749e+06  9.146749e+06       9.146749e+06            8.560419e+06   \n",
       "mean   1.710673e+01  2.730549e+00       1.340505e+01            1.112488e+01   \n",
       "std    1.747877e+01  2.088959e+00       4.248011e+00            8.771310e+00   \n",
       "min    1.000000e+00  0.000000e+00       0.000000e+00            0.000000e+00   \n",
       "25%    5.000000e+00  1.000000e+00       1.000000e+01            5.000000e+00   \n",
       "50%    1.100000e+01  3.000000e+00       1.300000e+01            8.000000e+00   \n",
       "75%    2.400000e+01  5.000000e+00       1.600000e+01            1.500000e+01   \n",
       "max    9.900000e+01  6.000000e+00       2.300000e+01            3.000000e+01   \n",
       "\n",
       "         product_id  add_to_cart_order     reordered    Unnamed: 0  \\\n",
       "count  9.146749e+06       9.146749e+06  9.146749e+06  9.146749e+06   \n",
       "mean   2.558546e+04       8.408940e+00  5.895923e-01  2.558716e+04   \n",
       "std    1.407742e+04       7.187371e+00  4.919078e-01  1.407897e+04   \n",
       "min    1.000000e+00       1.000000e+00  0.000000e+00  0.000000e+00   \n",
       "25%    1.356000e+04       3.000000e+00  0.000000e+00  1.356000e+04   \n",
       "50%    2.524600e+04       6.000000e+00  1.000000e+00  2.524700e+04   \n",
       "75%    3.791700e+04       1.200000e+01  1.000000e+00  3.792100e+04   \n",
       "max    4.968800e+04       1.090000e+02  1.000000e+00  4.969200e+04   \n",
       "\n",
       "           aisle_id  department_id        prices     max_order   Total_spent  \\\n",
       "count  9.146749e+06   9.146749e+06  9.145272e+06  9.146749e+06  9.146749e+06   \n",
       "mean   7.120357e+01   9.937084e+00  7.785049e+00  3.298256e+01  3.736299e+02   \n",
       "std    3.822464e+01   6.284143e+00  4.238547e+00  2.508255e+01  4.244853e+03   \n",
       "min    1.000000e+00   1.000000e+00  1.000000e+00  3.000000e+00  1.000000e+00   \n",
       "25%    3.100000e+01   4.000000e+00  4.200000e+00  1.300000e+01  1.490000e+01   \n",
       "50%    8.300000e+01   9.000000e+00  7.400000e+00  2.600000e+01  2.040000e+01   \n",
       "75%    1.070000e+02   1.600000e+01  1.120000e+01  4.700000e+01  2.360000e+01   \n",
       "max    1.340000e+02   2.100000e+01  2.500000e+01  9.900000e+01  9.999900e+04   \n",
       "\n",
       "        Mean_prices  Median_days_since_prior_order  \n",
       "count  9.146749e+06                   9.146749e+06  \n",
       "mean   1.212499e+01                   1.041373e+01  \n",
       "std    9.380797e+01                   7.117306e+00  \n",
       "min    1.000000e+00                   0.000000e+00  \n",
       "25%    7.385799e+00                   6.000000e+00  \n",
       "50%    7.817197e+00                   8.000000e+00  \n",
       "75%    8.245455e+00                   1.300000e+01  \n",
       "max    1.250692e+04                   3.000000e+01  "
      ]
     },
     "execution_count": 87,
     "metadata": {},
     "output_type": "execute_result"
    }
   ],
   "source": [
    "#showing the 3 dataframes created\n",
    "df_Young_adults.describe()"
   ]
  },
  {
   "cell_type": "code",
   "execution_count": 88,
   "id": "c3827fcd",
   "metadata": {},
   "outputs": [
    {
     "data": {
      "text/html": [
       "<div>\n",
       "<style scoped>\n",
       "    .dataframe tbody tr th:only-of-type {\n",
       "        vertical-align: middle;\n",
       "    }\n",
       "\n",
       "    .dataframe tbody tr th {\n",
       "        vertical-align: top;\n",
       "    }\n",
       "\n",
       "    .dataframe thead th {\n",
       "        text-align: right;\n",
       "    }\n",
       "</style>\n",
       "<table border=\"1\" class=\"dataframe\">\n",
       "  <thead>\n",
       "    <tr style=\"text-align: right;\">\n",
       "      <th></th>\n",
       "      <th>Age</th>\n",
       "      <th>Number_of_Dependants</th>\n",
       "      <th>Income</th>\n",
       "      <th>order_id</th>\n",
       "      <th>order_number</th>\n",
       "      <th>order_dow</th>\n",
       "      <th>order_hour_of_day</th>\n",
       "      <th>days_since_prior_order</th>\n",
       "      <th>product_id</th>\n",
       "      <th>add_to_cart_order</th>\n",
       "      <th>reordered</th>\n",
       "      <th>Unnamed: 0</th>\n",
       "      <th>aisle_id</th>\n",
       "      <th>department_id</th>\n",
       "      <th>prices</th>\n",
       "      <th>max_order</th>\n",
       "      <th>Total_spent</th>\n",
       "      <th>Mean_prices</th>\n",
       "      <th>Median_days_since_prior_order</th>\n",
       "    </tr>\n",
       "  </thead>\n",
       "  <tbody>\n",
       "    <tr>\n",
       "      <th>count</th>\n",
       "      <td>1.468393e+07</td>\n",
       "      <td>1.468393e+07</td>\n",
       "      <td>1.468393e+07</td>\n",
       "      <td>1.468393e+07</td>\n",
       "      <td>1.468393e+07</td>\n",
       "      <td>1.468393e+07</td>\n",
       "      <td>1.468393e+07</td>\n",
       "      <td>1.374422e+07</td>\n",
       "      <td>1.468393e+07</td>\n",
       "      <td>1.468393e+07</td>\n",
       "      <td>1.468393e+07</td>\n",
       "      <td>1.468393e+07</td>\n",
       "      <td>1.468393e+07</td>\n",
       "      <td>1.468393e+07</td>\n",
       "      <td>1.468161e+07</td>\n",
       "      <td>1.468393e+07</td>\n",
       "      <td>1.468393e+07</td>\n",
       "      <td>1.468393e+07</td>\n",
       "      <td>1.468393e+07</td>\n",
       "    </tr>\n",
       "    <tr>\n",
       "      <th>mean</th>\n",
       "      <td>4.998812e+01</td>\n",
       "      <td>1.496480e+00</td>\n",
       "      <td>1.080369e+05</td>\n",
       "      <td>1.710713e+06</td>\n",
       "      <td>1.719010e+01</td>\n",
       "      <td>2.740410e+00</td>\n",
       "      <td>1.343687e+01</td>\n",
       "      <td>1.110601e+01</td>\n",
       "      <td>2.561026e+04</td>\n",
       "      <td>8.349046e+00</td>\n",
       "      <td>5.900622e-01</td>\n",
       "      <td>2.561197e+04</td>\n",
       "      <td>7.119512e+01</td>\n",
       "      <td>9.917204e+00</td>\n",
       "      <td>7.791397e+00</td>\n",
       "      <td>3.314722e+01</td>\n",
       "      <td>4.345933e+02</td>\n",
       "      <td>1.201317e+01</td>\n",
       "      <td>1.040853e+01</td>\n",
       "    </tr>\n",
       "    <tr>\n",
       "      <th>std</th>\n",
       "      <td>8.338068e+00</td>\n",
       "      <td>1.121271e+00</td>\n",
       "      <td>4.373032e+04</td>\n",
       "      <td>9.870741e+05</td>\n",
       "      <td>1.758854e+01</td>\n",
       "      <td>2.089626e+00</td>\n",
       "      <td>4.242435e+00</td>\n",
       "      <td>8.788346e+00</td>\n",
       "      <td>1.408594e+04</td>\n",
       "      <td>7.144163e+00</td>\n",
       "      <td>4.918219e-01</td>\n",
       "      <td>1.408749e+04</td>\n",
       "      <td>3.820393e+01</td>\n",
       "      <td>6.281267e+00</td>\n",
       "      <td>4.240830e+00</td>\n",
       "      <td>2.521192e+01</td>\n",
       "      <td>4.772418e+03</td>\n",
       "      <td>8.148155e+01</td>\n",
       "      <td>7.148196e+00</td>\n",
       "    </tr>\n",
       "    <tr>\n",
       "      <th>min</th>\n",
       "      <td>3.600000e+01</td>\n",
       "      <td>0.000000e+00</td>\n",
       "      <td>2.590300e+04</td>\n",
       "      <td>2.000000e+00</td>\n",
       "      <td>1.000000e+00</td>\n",
       "      <td>0.000000e+00</td>\n",
       "      <td>0.000000e+00</td>\n",
       "      <td>0.000000e+00</td>\n",
       "      <td>1.000000e+00</td>\n",
       "      <td>1.000000e+00</td>\n",
       "      <td>0.000000e+00</td>\n",
       "      <td>0.000000e+00</td>\n",
       "      <td>1.000000e+00</td>\n",
       "      <td>1.000000e+00</td>\n",
       "      <td>1.000000e+00</td>\n",
       "      <td>1.000000e+00</td>\n",
       "      <td>1.000000e+00</td>\n",
       "      <td>1.000000e+00</td>\n",
       "      <td>0.000000e+00</td>\n",
       "    </tr>\n",
       "    <tr>\n",
       "      <th>25%</th>\n",
       "      <td>4.300000e+01</td>\n",
       "      <td>0.000000e+00</td>\n",
       "      <td>7.775900e+04</td>\n",
       "      <td>8.563820e+05</td>\n",
       "      <td>5.000000e+00</td>\n",
       "      <td>1.000000e+00</td>\n",
       "      <td>1.000000e+01</td>\n",
       "      <td>5.000000e+00</td>\n",
       "      <td>1.355400e+04</td>\n",
       "      <td>3.000000e+00</td>\n",
       "      <td>0.000000e+00</td>\n",
       "      <td>1.355400e+04</td>\n",
       "      <td>3.100000e+01</td>\n",
       "      <td>4.000000e+00</td>\n",
       "      <td>4.200000e+00</td>\n",
       "      <td>1.300000e+01</td>\n",
       "      <td>1.490000e+01</td>\n",
       "      <td>7.384091e+00</td>\n",
       "      <td>6.000000e+00</td>\n",
       "    </tr>\n",
       "    <tr>\n",
       "      <th>50%</th>\n",
       "      <td>5.000000e+01</td>\n",
       "      <td>1.000000e+00</td>\n",
       "      <td>1.078480e+05</td>\n",
       "      <td>1.711836e+06</td>\n",
       "      <td>1.100000e+01</td>\n",
       "      <td>3.000000e+00</td>\n",
       "      <td>1.300000e+01</td>\n",
       "      <td>8.000000e+00</td>\n",
       "      <td>2.534000e+04</td>\n",
       "      <td>6.000000e+00</td>\n",
       "      <td>1.000000e+00</td>\n",
       "      <td>2.534100e+04</td>\n",
       "      <td>8.300000e+01</td>\n",
       "      <td>9.000000e+00</td>\n",
       "      <td>7.400000e+00</td>\n",
       "      <td>2.600000e+01</td>\n",
       "      <td>2.040000e+01</td>\n",
       "      <td>7.825314e+00</td>\n",
       "      <td>8.000000e+00</td>\n",
       "    </tr>\n",
       "    <tr>\n",
       "      <th>75%</th>\n",
       "      <td>5.700000e+01</td>\n",
       "      <td>3.000000e+00</td>\n",
       "      <td>1.375860e+05</td>\n",
       "      <td>2.565052e+06</td>\n",
       "      <td>2.400000e+01</td>\n",
       "      <td>5.000000e+00</td>\n",
       "      <td>1.600000e+01</td>\n",
       "      <td>1.500000e+01</td>\n",
       "      <td>3.797100e+04</td>\n",
       "      <td>1.100000e+01</td>\n",
       "      <td>1.000000e+00</td>\n",
       "      <td>3.797500e+04</td>\n",
       "      <td>1.070000e+02</td>\n",
       "      <td>1.600000e+01</td>\n",
       "      <td>1.130000e+01</td>\n",
       "      <td>4.800000e+01</td>\n",
       "      <td>2.360000e+01</td>\n",
       "      <td>8.254801e+00</td>\n",
       "      <td>1.300000e+01</td>\n",
       "    </tr>\n",
       "    <tr>\n",
       "      <th>max</th>\n",
       "      <td>6.400000e+01</td>\n",
       "      <td>3.000000e+00</td>\n",
       "      <td>5.924090e+05</td>\n",
       "      <td>3.421081e+06</td>\n",
       "      <td>9.900000e+01</td>\n",
       "      <td>6.000000e+00</td>\n",
       "      <td>2.300000e+01</td>\n",
       "      <td>3.000000e+01</td>\n",
       "      <td>4.968800e+04</td>\n",
       "      <td>1.450000e+02</td>\n",
       "      <td>1.000000e+00</td>\n",
       "      <td>4.969200e+04</td>\n",
       "      <td>1.340000e+02</td>\n",
       "      <td>2.100000e+01</td>\n",
       "      <td>2.500000e+01</td>\n",
       "      <td>9.900000e+01</td>\n",
       "      <td>9.999900e+04</td>\n",
       "      <td>2.500542e+04</td>\n",
       "      <td>3.000000e+01</td>\n",
       "    </tr>\n",
       "  </tbody>\n",
       "</table>\n",
       "</div>"
      ],
      "text/plain": [
       "                Age  Number_of_Dependants        Income      order_id  \\\n",
       "count  1.468393e+07          1.468393e+07  1.468393e+07  1.468393e+07   \n",
       "mean   4.998812e+01          1.496480e+00  1.080369e+05  1.710713e+06   \n",
       "std    8.338068e+00          1.121271e+00  4.373032e+04  9.870741e+05   \n",
       "min    3.600000e+01          0.000000e+00  2.590300e+04  2.000000e+00   \n",
       "25%    4.300000e+01          0.000000e+00  7.775900e+04  8.563820e+05   \n",
       "50%    5.000000e+01          1.000000e+00  1.078480e+05  1.711836e+06   \n",
       "75%    5.700000e+01          3.000000e+00  1.375860e+05  2.565052e+06   \n",
       "max    6.400000e+01          3.000000e+00  5.924090e+05  3.421081e+06   \n",
       "\n",
       "       order_number     order_dow  order_hour_of_day  days_since_prior_order  \\\n",
       "count  1.468393e+07  1.468393e+07       1.468393e+07            1.374422e+07   \n",
       "mean   1.719010e+01  2.740410e+00       1.343687e+01            1.110601e+01   \n",
       "std    1.758854e+01  2.089626e+00       4.242435e+00            8.788346e+00   \n",
       "min    1.000000e+00  0.000000e+00       0.000000e+00            0.000000e+00   \n",
       "25%    5.000000e+00  1.000000e+00       1.000000e+01            5.000000e+00   \n",
       "50%    1.100000e+01  3.000000e+00       1.300000e+01            8.000000e+00   \n",
       "75%    2.400000e+01  5.000000e+00       1.600000e+01            1.500000e+01   \n",
       "max    9.900000e+01  6.000000e+00       2.300000e+01            3.000000e+01   \n",
       "\n",
       "         product_id  add_to_cart_order     reordered    Unnamed: 0  \\\n",
       "count  1.468393e+07       1.468393e+07  1.468393e+07  1.468393e+07   \n",
       "mean   2.561026e+04       8.349046e+00  5.900622e-01  2.561197e+04   \n",
       "std    1.408594e+04       7.144163e+00  4.918219e-01  1.408749e+04   \n",
       "min    1.000000e+00       1.000000e+00  0.000000e+00  0.000000e+00   \n",
       "25%    1.355400e+04       3.000000e+00  0.000000e+00  1.355400e+04   \n",
       "50%    2.534000e+04       6.000000e+00  1.000000e+00  2.534100e+04   \n",
       "75%    3.797100e+04       1.100000e+01  1.000000e+00  3.797500e+04   \n",
       "max    4.968800e+04       1.450000e+02  1.000000e+00  4.969200e+04   \n",
       "\n",
       "           aisle_id  department_id        prices     max_order   Total_spent  \\\n",
       "count  1.468393e+07   1.468393e+07  1.468161e+07  1.468393e+07  1.468393e+07   \n",
       "mean   7.119512e+01   9.917204e+00  7.791397e+00  3.314722e+01  4.345933e+02   \n",
       "std    3.820393e+01   6.281267e+00  4.240830e+00  2.521192e+01  4.772418e+03   \n",
       "min    1.000000e+00   1.000000e+00  1.000000e+00  1.000000e+00  1.000000e+00   \n",
       "25%    3.100000e+01   4.000000e+00  4.200000e+00  1.300000e+01  1.490000e+01   \n",
       "50%    8.300000e+01   9.000000e+00  7.400000e+00  2.600000e+01  2.040000e+01   \n",
       "75%    1.070000e+02   1.600000e+01  1.130000e+01  4.800000e+01  2.360000e+01   \n",
       "max    1.340000e+02   2.100000e+01  2.500000e+01  9.900000e+01  9.999900e+04   \n",
       "\n",
       "        Mean_prices  Median_days_since_prior_order  \n",
       "count  1.468393e+07                   1.468393e+07  \n",
       "mean   1.201317e+01                   1.040853e+01  \n",
       "std    8.148155e+01                   7.148196e+00  \n",
       "min    1.000000e+00                   0.000000e+00  \n",
       "25%    7.384091e+00                   6.000000e+00  \n",
       "50%    7.825314e+00                   8.000000e+00  \n",
       "75%    8.254801e+00                   1.300000e+01  \n",
       "max    2.500542e+04                   3.000000e+01  "
      ]
     },
     "execution_count": 88,
     "metadata": {},
     "output_type": "execute_result"
    }
   ],
   "source": [
    "df_Adults.describe()"
   ]
  },
  {
   "cell_type": "code",
   "execution_count": 89,
   "id": "51bd425a",
   "metadata": {},
   "outputs": [
    {
     "data": {
      "text/html": [
       "<div>\n",
       "<style scoped>\n",
       "    .dataframe tbody tr th:only-of-type {\n",
       "        vertical-align: middle;\n",
       "    }\n",
       "\n",
       "    .dataframe tbody tr th {\n",
       "        vertical-align: top;\n",
       "    }\n",
       "\n",
       "    .dataframe thead th {\n",
       "        text-align: right;\n",
       "    }\n",
       "</style>\n",
       "<table border=\"1\" class=\"dataframe\">\n",
       "  <thead>\n",
       "    <tr style=\"text-align: right;\">\n",
       "      <th></th>\n",
       "      <th>Age</th>\n",
       "      <th>Number_of_Dependants</th>\n",
       "      <th>Income</th>\n",
       "      <th>order_id</th>\n",
       "      <th>order_number</th>\n",
       "      <th>order_dow</th>\n",
       "      <th>order_hour_of_day</th>\n",
       "      <th>days_since_prior_order</th>\n",
       "      <th>product_id</th>\n",
       "      <th>add_to_cart_order</th>\n",
       "      <th>reordered</th>\n",
       "      <th>Unnamed: 0</th>\n",
       "      <th>aisle_id</th>\n",
       "      <th>department_id</th>\n",
       "      <th>prices</th>\n",
       "      <th>max_order</th>\n",
       "      <th>Total_spent</th>\n",
       "      <th>Mean_prices</th>\n",
       "      <th>Median_days_since_prior_order</th>\n",
       "    </tr>\n",
       "  </thead>\n",
       "  <tbody>\n",
       "    <tr>\n",
       "      <th>count</th>\n",
       "      <td>8.575361e+06</td>\n",
       "      <td>8.575361e+06</td>\n",
       "      <td>8.575361e+06</td>\n",
       "      <td>8.575361e+06</td>\n",
       "      <td>8.575361e+06</td>\n",
       "      <td>8.575361e+06</td>\n",
       "      <td>8.575361e+06</td>\n",
       "      <td>8.025203e+06</td>\n",
       "      <td>8.575361e+06</td>\n",
       "      <td>8.575361e+06</td>\n",
       "      <td>8.575361e+06</td>\n",
       "      <td>8.575361e+06</td>\n",
       "      <td>8.575361e+06</td>\n",
       "      <td>8.575361e+06</td>\n",
       "      <td>8.574028e+06</td>\n",
       "      <td>8.575361e+06</td>\n",
       "      <td>8.575361e+06</td>\n",
       "      <td>8.575361e+06</td>\n",
       "      <td>8.575361e+06</td>\n",
       "    </tr>\n",
       "    <tr>\n",
       "      <th>mean</th>\n",
       "      <td>7.306163e+01</td>\n",
       "      <td>1.507916e+00</td>\n",
       "      <td>1.155889e+05</td>\n",
       "      <td>1.710184e+06</td>\n",
       "      <td>1.709813e+01</td>\n",
       "      <td>2.745079e+00</td>\n",
       "      <td>1.342652e+01</td>\n",
       "      <td>1.107867e+01</td>\n",
       "      <td>2.559396e+04</td>\n",
       "      <td>8.298650e+00</td>\n",
       "      <td>5.887582e-01</td>\n",
       "      <td>2.559567e+04</td>\n",
       "      <td>7.119596e+01</td>\n",
       "      <td>9.906273e+00</td>\n",
       "      <td>7.796523e+00</td>\n",
       "      <td>3.296313e+01</td>\n",
       "      <td>4.136583e+02</td>\n",
       "      <td>1.176870e+01</td>\n",
       "      <td>1.036279e+01</td>\n",
       "    </tr>\n",
       "    <tr>\n",
       "      <th>std</th>\n",
       "      <td>4.888693e+00</td>\n",
       "      <td>1.115583e+00</td>\n",
       "      <td>4.209503e+04</td>\n",
       "      <td>9.874635e+05</td>\n",
       "      <td>1.750384e+01</td>\n",
       "      <td>2.092003e+00</td>\n",
       "      <td>4.251319e+00</td>\n",
       "      <td>8.771352e+00</td>\n",
       "      <td>1.408725e+04</td>\n",
       "      <td>7.032323e+00</td>\n",
       "      <td>4.920590e-01</td>\n",
       "      <td>1.408880e+04</td>\n",
       "      <td>3.821167e+01</td>\n",
       "      <td>6.278727e+00</td>\n",
       "      <td>4.246689e+00</td>\n",
       "      <td>2.513470e+01</td>\n",
       "      <td>4.707412e+03</td>\n",
       "      <td>7.368417e+01</td>\n",
       "      <td>7.118881e+00</td>\n",
       "    </tr>\n",
       "    <tr>\n",
       "      <th>min</th>\n",
       "      <td>6.500000e+01</td>\n",
       "      <td>0.000000e+00</td>\n",
       "      <td>2.900100e+04</td>\n",
       "      <td>4.000000e+00</td>\n",
       "      <td>1.000000e+00</td>\n",
       "      <td>0.000000e+00</td>\n",
       "      <td>0.000000e+00</td>\n",
       "      <td>0.000000e+00</td>\n",
       "      <td>1.000000e+00</td>\n",
       "      <td>1.000000e+00</td>\n",
       "      <td>0.000000e+00</td>\n",
       "      <td>0.000000e+00</td>\n",
       "      <td>1.000000e+00</td>\n",
       "      <td>1.000000e+00</td>\n",
       "      <td>1.000000e+00</td>\n",
       "      <td>2.000000e+00</td>\n",
       "      <td>1.000000e+00</td>\n",
       "      <td>1.000000e+00</td>\n",
       "      <td>0.000000e+00</td>\n",
       "    </tr>\n",
       "    <tr>\n",
       "      <th>25%</th>\n",
       "      <td>6.900000e+01</td>\n",
       "      <td>1.000000e+00</td>\n",
       "      <td>9.540600e+04</td>\n",
       "      <td>8.544680e+05</td>\n",
       "      <td>5.000000e+00</td>\n",
       "      <td>1.000000e+00</td>\n",
       "      <td>1.000000e+01</td>\n",
       "      <td>5.000000e+00</td>\n",
       "      <td>1.353500e+04</td>\n",
       "      <td>3.000000e+00</td>\n",
       "      <td>0.000000e+00</td>\n",
       "      <td>1.353500e+04</td>\n",
       "      <td>3.100000e+01</td>\n",
       "      <td>4.000000e+00</td>\n",
       "      <td>4.200000e+00</td>\n",
       "      <td>1.300000e+01</td>\n",
       "      <td>1.490000e+01</td>\n",
       "      <td>7.393458e+00</td>\n",
       "      <td>6.000000e+00</td>\n",
       "    </tr>\n",
       "    <tr>\n",
       "      <th>50%</th>\n",
       "      <td>7.300000e+01</td>\n",
       "      <td>2.000000e+00</td>\n",
       "      <td>1.160590e+05</td>\n",
       "      <td>1.710558e+06</td>\n",
       "      <td>1.100000e+01</td>\n",
       "      <td>3.000000e+00</td>\n",
       "      <td>1.300000e+01</td>\n",
       "      <td>8.000000e+00</td>\n",
       "      <td>2.527200e+04</td>\n",
       "      <td>6.000000e+00</td>\n",
       "      <td>1.000000e+00</td>\n",
       "      <td>2.527300e+04</td>\n",
       "      <td>8.300000e+01</td>\n",
       "      <td>9.000000e+00</td>\n",
       "      <td>7.400000e+00</td>\n",
       "      <td>2.600000e+01</td>\n",
       "      <td>2.010000e+01</td>\n",
       "      <td>7.830374e+00</td>\n",
       "      <td>8.000000e+00</td>\n",
       "    </tr>\n",
       "    <tr>\n",
       "      <th>75%</th>\n",
       "      <td>7.700000e+01</td>\n",
       "      <td>3.000000e+00</td>\n",
       "      <td>1.431900e+05</td>\n",
       "      <td>2.565092e+06</td>\n",
       "      <td>2.400000e+01</td>\n",
       "      <td>5.000000e+00</td>\n",
       "      <td>1.600000e+01</td>\n",
       "      <td>1.500000e+01</td>\n",
       "      <td>3.794700e+04</td>\n",
       "      <td>1.100000e+01</td>\n",
       "      <td>1.000000e+00</td>\n",
       "      <td>3.795100e+04</td>\n",
       "      <td>1.070000e+02</td>\n",
       "      <td>1.600000e+01</td>\n",
       "      <td>1.130000e+01</td>\n",
       "      <td>4.700000e+01</td>\n",
       "      <td>2.360000e+01</td>\n",
       "      <td>8.262373e+00</td>\n",
       "      <td>1.300000e+01</td>\n",
       "    </tr>\n",
       "    <tr>\n",
       "      <th>max</th>\n",
       "      <td>8.100000e+01</td>\n",
       "      <td>3.000000e+00</td>\n",
       "      <td>5.939010e+05</td>\n",
       "      <td>3.421083e+06</td>\n",
       "      <td>9.900000e+01</td>\n",
       "      <td>6.000000e+00</td>\n",
       "      <td>2.300000e+01</td>\n",
       "      <td>3.000000e+01</td>\n",
       "      <td>4.968800e+04</td>\n",
       "      <td>9.900000e+01</td>\n",
       "      <td>1.000000e+00</td>\n",
       "      <td>4.969200e+04</td>\n",
       "      <td>1.340000e+02</td>\n",
       "      <td>2.100000e+01</td>\n",
       "      <td>2.500000e+01</td>\n",
       "      <td>9.900000e+01</td>\n",
       "      <td>9.999900e+04</td>\n",
       "      <td>1.404251e+04</td>\n",
       "      <td>3.000000e+01</td>\n",
       "    </tr>\n",
       "  </tbody>\n",
       "</table>\n",
       "</div>"
      ],
      "text/plain": [
       "                Age  Number_of_Dependants        Income      order_id  \\\n",
       "count  8.575361e+06          8.575361e+06  8.575361e+06  8.575361e+06   \n",
       "mean   7.306163e+01          1.507916e+00  1.155889e+05  1.710184e+06   \n",
       "std    4.888693e+00          1.115583e+00  4.209503e+04  9.874635e+05   \n",
       "min    6.500000e+01          0.000000e+00  2.900100e+04  4.000000e+00   \n",
       "25%    6.900000e+01          1.000000e+00  9.540600e+04  8.544680e+05   \n",
       "50%    7.300000e+01          2.000000e+00  1.160590e+05  1.710558e+06   \n",
       "75%    7.700000e+01          3.000000e+00  1.431900e+05  2.565092e+06   \n",
       "max    8.100000e+01          3.000000e+00  5.939010e+05  3.421083e+06   \n",
       "\n",
       "       order_number     order_dow  order_hour_of_day  days_since_prior_order  \\\n",
       "count  8.575361e+06  8.575361e+06       8.575361e+06            8.025203e+06   \n",
       "mean   1.709813e+01  2.745079e+00       1.342652e+01            1.107867e+01   \n",
       "std    1.750384e+01  2.092003e+00       4.251319e+00            8.771352e+00   \n",
       "min    1.000000e+00  0.000000e+00       0.000000e+00            0.000000e+00   \n",
       "25%    5.000000e+00  1.000000e+00       1.000000e+01            5.000000e+00   \n",
       "50%    1.100000e+01  3.000000e+00       1.300000e+01            8.000000e+00   \n",
       "75%    2.400000e+01  5.000000e+00       1.600000e+01            1.500000e+01   \n",
       "max    9.900000e+01  6.000000e+00       2.300000e+01            3.000000e+01   \n",
       "\n",
       "         product_id  add_to_cart_order     reordered    Unnamed: 0  \\\n",
       "count  8.575361e+06       8.575361e+06  8.575361e+06  8.575361e+06   \n",
       "mean   2.559396e+04       8.298650e+00  5.887582e-01  2.559567e+04   \n",
       "std    1.408725e+04       7.032323e+00  4.920590e-01  1.408880e+04   \n",
       "min    1.000000e+00       1.000000e+00  0.000000e+00  0.000000e+00   \n",
       "25%    1.353500e+04       3.000000e+00  0.000000e+00  1.353500e+04   \n",
       "50%    2.527200e+04       6.000000e+00  1.000000e+00  2.527300e+04   \n",
       "75%    3.794700e+04       1.100000e+01  1.000000e+00  3.795100e+04   \n",
       "max    4.968800e+04       9.900000e+01  1.000000e+00  4.969200e+04   \n",
       "\n",
       "           aisle_id  department_id        prices     max_order   Total_spent  \\\n",
       "count  8.575361e+06   8.575361e+06  8.574028e+06  8.575361e+06  8.575361e+06   \n",
       "mean   7.119596e+01   9.906273e+00  7.796523e+00  3.296313e+01  4.136583e+02   \n",
       "std    3.821167e+01   6.278727e+00  4.246689e+00  2.513470e+01  4.707412e+03   \n",
       "min    1.000000e+00   1.000000e+00  1.000000e+00  2.000000e+00  1.000000e+00   \n",
       "25%    3.100000e+01   4.000000e+00  4.200000e+00  1.300000e+01  1.490000e+01   \n",
       "50%    8.300000e+01   9.000000e+00  7.400000e+00  2.600000e+01  2.010000e+01   \n",
       "75%    1.070000e+02   1.600000e+01  1.130000e+01  4.700000e+01  2.360000e+01   \n",
       "max    1.340000e+02   2.100000e+01  2.500000e+01  9.900000e+01  9.999900e+04   \n",
       "\n",
       "        Mean_prices  Median_days_since_prior_order  \n",
       "count  8.575361e+06                   8.575361e+06  \n",
       "mean   1.176870e+01                   1.036279e+01  \n",
       "std    7.368417e+01                   7.118881e+00  \n",
       "min    1.000000e+00                   0.000000e+00  \n",
       "25%    7.393458e+00                   6.000000e+00  \n",
       "50%    7.830374e+00                   8.000000e+00  \n",
       "75%    8.262373e+00                   1.300000e+01  \n",
       "max    1.404251e+04                   3.000000e+01  "
      ]
     },
     "execution_count": 89,
     "metadata": {},
     "output_type": "execute_result"
    }
   ],
   "source": [
    "df_Seniors.describe()"
   ]
  },
  {
   "cell_type": "markdown",
   "id": "0576b01b",
   "metadata": {},
   "source": [
    "In general age group to age group comparisons tend to show little to no differnece in when they shop, what departments they order from, thier income category, and how much they spend."
   ]
  },
  {
   "cell_type": "code",
   "execution_count": 90,
   "id": "cd3a6ec5",
   "metadata": {},
   "outputs": [],
   "source": [
    "# creating a new dataframe that summarizes the data by region\n",
    "df_region = df_complete[['prices', 'Region', 'User_ID', 'order_id']].groupby(['Region']).agg({'prices':'sum', 'User_ID': pd.Series.nunique, 'order_id' : pd.Series.nunique}) "
   ]
  },
  {
   "cell_type": "code",
   "execution_count": 91,
   "id": "e1f58c69",
   "metadata": {},
   "outputs": [
    {
     "data": {
      "text/html": [
       "<div>\n",
       "<style scoped>\n",
       "    .dataframe tbody tr th:only-of-type {\n",
       "        vertical-align: middle;\n",
       "    }\n",
       "\n",
       "    .dataframe tbody tr th {\n",
       "        vertical-align: top;\n",
       "    }\n",
       "\n",
       "    .dataframe thead th {\n",
       "        text-align: right;\n",
       "    }\n",
       "</style>\n",
       "<table border=\"1\" class=\"dataframe\">\n",
       "  <thead>\n",
       "    <tr style=\"text-align: right;\">\n",
       "      <th></th>\n",
       "      <th>prices</th>\n",
       "      <th>User_ID</th>\n",
       "      <th>order_id</th>\n",
       "    </tr>\n",
       "    <tr>\n",
       "      <th>Region</th>\n",
       "      <th></th>\n",
       "      <th></th>\n",
       "      <th></th>\n",
       "    </tr>\n",
       "  </thead>\n",
       "  <tbody>\n",
       "    <tr>\n",
       "      <th>Region 1, Northeast</th>\n",
       "      <td>66127653.2</td>\n",
       "      <td>36388</td>\n",
       "      <td>567162</td>\n",
       "    </tr>\n",
       "    <tr>\n",
       "      <th>Region 2, Midwest</th>\n",
       "      <td>96605425.4</td>\n",
       "      <td>48519</td>\n",
       "      <td>754275</td>\n",
       "    </tr>\n",
       "    <tr>\n",
       "      <th>Region 3, South</th>\n",
       "      <td>131616125.5</td>\n",
       "      <td>68737</td>\n",
       "      <td>1071562</td>\n",
       "    </tr>\n",
       "    <tr>\n",
       "      <th>Region 4, West</th>\n",
       "      <td>93876474.9</td>\n",
       "      <td>52565</td>\n",
       "      <td>821686</td>\n",
       "    </tr>\n",
       "  </tbody>\n",
       "</table>\n",
       "</div>"
      ],
      "text/plain": [
       "                          prices  User_ID  order_id\n",
       "Region                                             \n",
       "Region 1, Northeast   66127653.2    36388    567162\n",
       "Region 2, Midwest     96605425.4    48519    754275\n",
       "Region 3, South      131616125.5    68737   1071562\n",
       "Region 4, West        93876474.9    52565    821686"
      ]
     },
     "execution_count": 91,
     "metadata": {},
     "output_type": "execute_result"
    }
   ],
   "source": [
    "# Checking work\n",
    "df_region"
   ]
  },
  {
   "cell_type": "code",
   "execution_count": 92,
   "id": "89c4e30f",
   "metadata": {},
   "outputs": [],
   "source": [
    "# renaming columns\n",
    "df_region = df_region.rename(columns={'prices':'sum_of_sales', 'User_ID':'customer_count', 'order_id':'orders_placed'})"
   ]
  },
  {
   "cell_type": "code",
   "execution_count": 93,
   "id": "b1045a51",
   "metadata": {},
   "outputs": [
    {
     "data": {
      "text/html": [
       "<div>\n",
       "<style scoped>\n",
       "    .dataframe tbody tr th:only-of-type {\n",
       "        vertical-align: middle;\n",
       "    }\n",
       "\n",
       "    .dataframe tbody tr th {\n",
       "        vertical-align: top;\n",
       "    }\n",
       "\n",
       "    .dataframe thead th {\n",
       "        text-align: right;\n",
       "    }\n",
       "</style>\n",
       "<table border=\"1\" class=\"dataframe\">\n",
       "  <thead>\n",
       "    <tr style=\"text-align: right;\">\n",
       "      <th></th>\n",
       "      <th>sum_of_sales</th>\n",
       "      <th>customer_count</th>\n",
       "      <th>orders_placed</th>\n",
       "    </tr>\n",
       "    <tr>\n",
       "      <th>Region</th>\n",
       "      <th></th>\n",
       "      <th></th>\n",
       "      <th></th>\n",
       "    </tr>\n",
       "  </thead>\n",
       "  <tbody>\n",
       "    <tr>\n",
       "      <th>Region 1, Northeast</th>\n",
       "      <td>66127653.2</td>\n",
       "      <td>36388</td>\n",
       "      <td>567162</td>\n",
       "    </tr>\n",
       "    <tr>\n",
       "      <th>Region 2, Midwest</th>\n",
       "      <td>96605425.4</td>\n",
       "      <td>48519</td>\n",
       "      <td>754275</td>\n",
       "    </tr>\n",
       "    <tr>\n",
       "      <th>Region 3, South</th>\n",
       "      <td>131616125.5</td>\n",
       "      <td>68737</td>\n",
       "      <td>1071562</td>\n",
       "    </tr>\n",
       "    <tr>\n",
       "      <th>Region 4, West</th>\n",
       "      <td>93876474.9</td>\n",
       "      <td>52565</td>\n",
       "      <td>821686</td>\n",
       "    </tr>\n",
       "  </tbody>\n",
       "</table>\n",
       "</div>"
      ],
      "text/plain": [
       "                     sum_of_sales  customer_count  orders_placed\n",
       "Region                                                          \n",
       "Region 1, Northeast    66127653.2           36388         567162\n",
       "Region 2, Midwest      96605425.4           48519         754275\n",
       "Region 3, South       131616125.5           68737        1071562\n",
       "Region 4, West         93876474.9           52565         821686"
      ]
     },
     "execution_count": 93,
     "metadata": {},
     "output_type": "execute_result"
    }
   ],
   "source": [
    "# Checking work\n",
    "df_region"
   ]
  },
  {
   "cell_type": "code",
   "execution_count": 94,
   "id": "176caffb",
   "metadata": {},
   "outputs": [],
   "source": [
    "# creating new column: average price per customer\n",
    "df_region['avg_price_per_customer'] = df_region['sum_of_sales']/df_region['customer_count']"
   ]
  },
  {
   "cell_type": "code",
   "execution_count": 95,
   "id": "cb27708e",
   "metadata": {},
   "outputs": [],
   "source": [
    "# creating new column: average orders placed by customer\n",
    "df_region['avg_orders_per_customer'] = df_region['orders_placed']/df_region['customer_count']"
   ]
  },
  {
   "cell_type": "code",
   "execution_count": 96,
   "id": "5d0a2b9f",
   "metadata": {},
   "outputs": [],
   "source": [
    "# creating new column: average price per order\n",
    "df_region['avg_price_per_order'] = df_region['sum_of_sales']/df_region['orders_placed'] "
   ]
  },
  {
   "cell_type": "code",
   "execution_count": 97,
   "id": "6051a3c0",
   "metadata": {},
   "outputs": [
    {
     "data": {
      "text/html": [
       "<div>\n",
       "<style scoped>\n",
       "    .dataframe tbody tr th:only-of-type {\n",
       "        vertical-align: middle;\n",
       "    }\n",
       "\n",
       "    .dataframe tbody tr th {\n",
       "        vertical-align: top;\n",
       "    }\n",
       "\n",
       "    .dataframe thead th {\n",
       "        text-align: right;\n",
       "    }\n",
       "</style>\n",
       "<table border=\"1\" class=\"dataframe\">\n",
       "  <thead>\n",
       "    <tr style=\"text-align: right;\">\n",
       "      <th></th>\n",
       "      <th>sum_of_sales</th>\n",
       "      <th>customer_count</th>\n",
       "      <th>orders_placed</th>\n",
       "      <th>avg_price_per_customer</th>\n",
       "      <th>avg_orders_per_customer</th>\n",
       "      <th>avg_price_per_order</th>\n",
       "    </tr>\n",
       "    <tr>\n",
       "      <th>Region</th>\n",
       "      <th></th>\n",
       "      <th></th>\n",
       "      <th></th>\n",
       "      <th></th>\n",
       "      <th></th>\n",
       "      <th></th>\n",
       "    </tr>\n",
       "  </thead>\n",
       "  <tbody>\n",
       "    <tr>\n",
       "      <th>Region 1, Northeast</th>\n",
       "      <td>66127653.2</td>\n",
       "      <td>36388</td>\n",
       "      <td>567162</td>\n",
       "      <td>1817.292877</td>\n",
       "      <td>15.586512</td>\n",
       "      <td>116.593942</td>\n",
       "    </tr>\n",
       "    <tr>\n",
       "      <th>Region 2, Midwest</th>\n",
       "      <td>96605425.4</td>\n",
       "      <td>48519</td>\n",
       "      <td>754275</td>\n",
       "      <td>1991.084429</td>\n",
       "      <td>15.545972</td>\n",
       "      <td>128.077194</td>\n",
       "    </tr>\n",
       "    <tr>\n",
       "      <th>Region 3, South</th>\n",
       "      <td>131616125.5</td>\n",
       "      <td>68737</td>\n",
       "      <td>1071562</td>\n",
       "      <td>1914.778438</td>\n",
       "      <td>15.589304</td>\n",
       "      <td>122.826421</td>\n",
       "    </tr>\n",
       "    <tr>\n",
       "      <th>Region 4, West</th>\n",
       "      <td>93876474.9</td>\n",
       "      <td>52565</td>\n",
       "      <td>821686</td>\n",
       "      <td>1785.912202</td>\n",
       "      <td>15.631808</td>\n",
       "      <td>114.248600</td>\n",
       "    </tr>\n",
       "  </tbody>\n",
       "</table>\n",
       "</div>"
      ],
      "text/plain": [
       "                     sum_of_sales  customer_count  orders_placed  \\\n",
       "Region                                                             \n",
       "Region 1, Northeast    66127653.2           36388         567162   \n",
       "Region 2, Midwest      96605425.4           48519         754275   \n",
       "Region 3, South       131616125.5           68737        1071562   \n",
       "Region 4, West         93876474.9           52565         821686   \n",
       "\n",
       "                     avg_price_per_customer  avg_orders_per_customer  \\\n",
       "Region                                                                 \n",
       "Region 1, Northeast             1817.292877                15.586512   \n",
       "Region 2, Midwest               1991.084429                15.545972   \n",
       "Region 3, South                 1914.778438                15.589304   \n",
       "Region 4, West                  1785.912202                15.631808   \n",
       "\n",
       "                     avg_price_per_order  \n",
       "Region                                    \n",
       "Region 1, Northeast           116.593942  \n",
       "Region 2, Midwest             128.077194  \n",
       "Region 3, South               122.826421  \n",
       "Region 4, West                114.248600  "
      ]
     },
     "execution_count": 97,
     "metadata": {},
     "output_type": "execute_result"
    }
   ],
   "source": [
    "# Checking work\n",
    "df_region"
   ]
  },
  {
   "cell_type": "code",
   "execution_count": 98,
   "id": "fb82da0d",
   "metadata": {},
   "outputs": [
    {
     "data": {
      "text/html": [
       "<div>\n",
       "<style scoped>\n",
       "    .dataframe tbody tr th:only-of-type {\n",
       "        vertical-align: middle;\n",
       "    }\n",
       "\n",
       "    .dataframe tbody tr th {\n",
       "        vertical-align: top;\n",
       "    }\n",
       "\n",
       "    .dataframe thead th {\n",
       "        text-align: right;\n",
       "    }\n",
       "</style>\n",
       "<table border=\"1\" class=\"dataframe\">\n",
       "  <thead>\n",
       "    <tr style=\"text-align: right;\">\n",
       "      <th></th>\n",
       "      <th>sum_of_sales</th>\n",
       "      <th>customer_count</th>\n",
       "      <th>orders_placed</th>\n",
       "      <th>avg_price_per_customer</th>\n",
       "      <th>avg_orders_per_customer</th>\n",
       "      <th>avg_price_per_order</th>\n",
       "    </tr>\n",
       "    <tr>\n",
       "      <th>Region</th>\n",
       "      <th></th>\n",
       "      <th></th>\n",
       "      <th></th>\n",
       "      <th></th>\n",
       "      <th></th>\n",
       "      <th></th>\n",
       "    </tr>\n",
       "  </thead>\n",
       "  <tbody>\n",
       "    <tr>\n",
       "      <th>Region 2, Midwest</th>\n",
       "      <td>96605425.4</td>\n",
       "      <td>48519</td>\n",
       "      <td>754275</td>\n",
       "      <td>1991.084429</td>\n",
       "      <td>15.545972</td>\n",
       "      <td>128.077194</td>\n",
       "    </tr>\n",
       "    <tr>\n",
       "      <th>Region 3, South</th>\n",
       "      <td>131616125.5</td>\n",
       "      <td>68737</td>\n",
       "      <td>1071562</td>\n",
       "      <td>1914.778438</td>\n",
       "      <td>15.589304</td>\n",
       "      <td>122.826421</td>\n",
       "    </tr>\n",
       "    <tr>\n",
       "      <th>Region 1, Northeast</th>\n",
       "      <td>66127653.2</td>\n",
       "      <td>36388</td>\n",
       "      <td>567162</td>\n",
       "      <td>1817.292877</td>\n",
       "      <td>15.586512</td>\n",
       "      <td>116.593942</td>\n",
       "    </tr>\n",
       "    <tr>\n",
       "      <th>Region 4, West</th>\n",
       "      <td>93876474.9</td>\n",
       "      <td>52565</td>\n",
       "      <td>821686</td>\n",
       "      <td>1785.912202</td>\n",
       "      <td>15.631808</td>\n",
       "      <td>114.248600</td>\n",
       "    </tr>\n",
       "  </tbody>\n",
       "</table>\n",
       "</div>"
      ],
      "text/plain": [
       "                     sum_of_sales  customer_count  orders_placed  \\\n",
       "Region                                                             \n",
       "Region 2, Midwest      96605425.4           48519         754275   \n",
       "Region 3, South       131616125.5           68737        1071562   \n",
       "Region 1, Northeast    66127653.2           36388         567162   \n",
       "Region 4, West         93876474.9           52565         821686   \n",
       "\n",
       "                     avg_price_per_customer  avg_orders_per_customer  \\\n",
       "Region                                                                 \n",
       "Region 2, Midwest               1991.084429                15.545972   \n",
       "Region 3, South                 1914.778438                15.589304   \n",
       "Region 1, Northeast             1817.292877                15.586512   \n",
       "Region 4, West                  1785.912202                15.631808   \n",
       "\n",
       "                     avg_price_per_order  \n",
       "Region                                    \n",
       "Region 2, Midwest             128.077194  \n",
       "Region 3, South               122.826421  \n",
       "Region 1, Northeast           116.593942  \n",
       "Region 4, West                114.248600  "
      ]
     },
     "execution_count": 98,
     "metadata": {},
     "output_type": "execute_result"
    }
   ],
   "source": [
    "# sorting data by price per customer \n",
    "df_region.sort_values(by='avg_price_per_customer', ascending=False)"
   ]
  },
  {
   "cell_type": "markdown",
   "id": "d3f2917c",
   "metadata": {},
   "source": [
    "The Midwest comes out as the highest price per customer."
   ]
  },
  {
   "cell_type": "markdown",
   "id": "0252fba2",
   "metadata": {},
   "source": [
    "### Compare your customer profiles with regions and departments. Can you identify a link between them? Customers may demonstrate different behaviors across regions, which could make this information important."
   ]
  },
  {
   "cell_type": "code",
   "execution_count": 99,
   "id": "098c878a",
   "metadata": {},
   "outputs": [],
   "source": [
    "# Creating crosstab between region and income flag\n",
    "crosstab3 = pd.crosstab(df_complete['Region'], df_complete['income_flag'], dropna = False)"
   ]
  },
  {
   "cell_type": "code",
   "execution_count": 100,
   "id": "3919ec6b",
   "metadata": {},
   "outputs": [
    {
     "data": {
      "text/html": [
       "<div>\n",
       "<style scoped>\n",
       "    .dataframe tbody tr th:only-of-type {\n",
       "        vertical-align: middle;\n",
       "    }\n",
       "\n",
       "    .dataframe tbody tr th {\n",
       "        vertical-align: top;\n",
       "    }\n",
       "\n",
       "    .dataframe thead th {\n",
       "        text-align: right;\n",
       "    }\n",
       "</style>\n",
       "<table border=\"1\" class=\"dataframe\">\n",
       "  <thead>\n",
       "    <tr style=\"text-align: right;\">\n",
       "      <th>income_flag</th>\n",
       "      <th>Lower Middle Class</th>\n",
       "      <th>Middle Class</th>\n",
       "      <th>Poor or near poor</th>\n",
       "      <th>Wealthy</th>\n",
       "    </tr>\n",
       "    <tr>\n",
       "      <th>Region</th>\n",
       "      <th></th>\n",
       "      <th></th>\n",
       "      <th></th>\n",
       "      <th></th>\n",
       "    </tr>\n",
       "  </thead>\n",
       "  <tbody>\n",
       "    <tr>\n",
       "      <th>Region 1, Northeast</th>\n",
       "      <td>677944</td>\n",
       "      <td>4949431</td>\n",
       "      <td>85790</td>\n",
       "      <td>9774</td>\n",
       "    </tr>\n",
       "    <tr>\n",
       "      <th>Region 2, Midwest</th>\n",
       "      <td>874681</td>\n",
       "      <td>6577810</td>\n",
       "      <td>125534</td>\n",
       "      <td>19560</td>\n",
       "    </tr>\n",
       "    <tr>\n",
       "      <th>Region 3, South</th>\n",
       "      <td>1269264</td>\n",
       "      <td>9325052</td>\n",
       "      <td>183142</td>\n",
       "      <td>14842</td>\n",
       "    </tr>\n",
       "    <tr>\n",
       "      <th>Region 4, West</th>\n",
       "      <td>942478</td>\n",
       "      <td>7206613</td>\n",
       "      <td>129314</td>\n",
       "      <td>14812</td>\n",
       "    </tr>\n",
       "  </tbody>\n",
       "</table>\n",
       "</div>"
      ],
      "text/plain": [
       "income_flag          Lower Middle Class  Middle Class  Poor or near poor  \\\n",
       "Region                                                                     \n",
       "Region 1, Northeast              677944       4949431              85790   \n",
       "Region 2, Midwest                874681       6577810             125534   \n",
       "Region 3, South                 1269264       9325052             183142   \n",
       "Region 4, West                   942478       7206613             129314   \n",
       "\n",
       "income_flag          Wealthy  \n",
       "Region                        \n",
       "Region 1, Northeast     9774  \n",
       "Region 2, Midwest      19560  \n",
       "Region 3, South        14842  \n",
       "Region 4, West         14812  "
      ]
     },
     "execution_count": 100,
     "metadata": {},
     "output_type": "execute_result"
    }
   ],
   "source": [
    "crosstab3"
   ]
  },
  {
   "cell_type": "code",
   "execution_count": 101,
   "id": "9ef57002",
   "metadata": {},
   "outputs": [
    {
     "name": "stdout",
     "output_type": "stream",
     "text": [
      "midwest:Lower middle class  11.85 %\n",
      "midwest:Middle class  86.48 %\n",
      "midwest:Poor or near poor  1.5 %\n",
      "midwest:Wealthy  0.17 %\n",
      "northeast:Lower middle class  11.51 %\n",
      "northeast:Middle Class  86.58 %\n",
      "northeast:Poor or near poor  1.65 %\n",
      "northeast:Wealthy  0.26 %\n",
      "south:Lower middle class  11.76 %\n",
      "south:Middle Class  86.4 %\n",
      "south:Poor or near poor  1.7 %\n",
      "south:Wealthy  0.14 %\n",
      "west:Lower middle class  11.36 %\n",
      "west:Middle Class  86.9 %\n",
      "west:Poor or near poor  1.56 %\n",
      "west:Wealthy  0.18 %\n"
     ]
    }
   ],
   "source": [
    "#### viewing percentage of customers in each region based on class\n",
    "print('midwest:Lower middle class ', round(crosstab3.iloc[0,0]/5722939*100, 2),'%')\n",
    "print('midwest:Middle class ', round(crosstab3.iloc[0,1]/5722939*100, 2),'%')\n",
    "print('midwest:Poor or near poor ', round(crosstab3.iloc[0,2]/5722939*100, 2),'%')\n",
    "print('midwest:Wealthy ', round(crosstab3.iloc[0,3]/5722939*100, 2),'%')\n",
    "print('northeast:Lower middle class ', round(crosstab3.iloc[1,0]/7597585*100, 2),'%')\n",
    "print('northeast:Middle Class ', round(crosstab3.iloc[1,1]/7597585*100, 2),'%')\n",
    "print('northeast:Poor or near poor ', round(crosstab3.iloc[1,2]/7597585*100, 2),'%')\n",
    "print('northeast:Wealthy ', round(crosstab3.iloc[1,3]/7597585*100, 2),'%')\n",
    "print('south:Lower middle class ', round(crosstab3.iloc[2,0]/10792300*100, 2),'%')\n",
    "print('south:Middle Class ', round(crosstab3.iloc[2,1]/10792300*100, 2),'%')\n",
    "print('south:Poor or near poor ', round(crosstab3.iloc[2,2]/10792300*100, 2),'%')\n",
    "print('south:Wealthy ', round(crosstab3.iloc[2,3]/10792300*100, 2),'%')\n",
    "print('west:Lower middle class ', round(crosstab3.iloc[3,0]/8293217*100, 2),'%')\n",
    "print('west:Middle Class ', round(crosstab3.iloc[3,1]/8293217*100, 2),'%')\n",
    "print('west:Poor or near poor ', round(crosstab3.iloc[3,2]/8293217*100, 2),'%')\n",
    "print('west:Wealthy ', round(crosstab3.iloc[3,3]/8293217*100, 2),'%')\n",
    "\n"
   ]
  },
  {
   "cell_type": "markdown",
   "id": "01598f43",
   "metadata": {},
   "source": [
    "The division of wealth is pretty even across the regions in the USA for the customer base"
   ]
  },
  {
   "cell_type": "code",
   "execution_count": 102,
   "id": "f8b2e856",
   "metadata": {},
   "outputs": [],
   "source": [
    "# Creating crosstab between region and order time of day\n",
    "crosstab4 = pd.crosstab(df_complete['Region'], df_complete['time_of_day'], dropna = False)"
   ]
  },
  {
   "cell_type": "code",
   "execution_count": 103,
   "id": "1f36dd14",
   "metadata": {},
   "outputs": [
    {
     "data": {
      "text/html": [
       "<div>\n",
       "<style scoped>\n",
       "    .dataframe tbody tr th:only-of-type {\n",
       "        vertical-align: middle;\n",
       "    }\n",
       "\n",
       "    .dataframe tbody tr th {\n",
       "        vertical-align: top;\n",
       "    }\n",
       "\n",
       "    .dataframe thead th {\n",
       "        text-align: right;\n",
       "    }\n",
       "</style>\n",
       "<table border=\"1\" class=\"dataframe\">\n",
       "  <thead>\n",
       "    <tr style=\"text-align: right;\">\n",
       "      <th>time_of_day</th>\n",
       "      <th>afternoon</th>\n",
       "      <th>evening</th>\n",
       "      <th>morning</th>\n",
       "      <th>night</th>\n",
       "      <th>overnight</th>\n",
       "    </tr>\n",
       "    <tr>\n",
       "      <th>Region</th>\n",
       "      <th></th>\n",
       "      <th></th>\n",
       "      <th></th>\n",
       "      <th></th>\n",
       "      <th></th>\n",
       "    </tr>\n",
       "  </thead>\n",
       "  <tbody>\n",
       "    <tr>\n",
       "      <th>Region 1, Northeast</th>\n",
       "      <td>2330393</td>\n",
       "      <td>872835</td>\n",
       "      <td>1912725</td>\n",
       "      <td>500327</td>\n",
       "      <td>68100</td>\n",
       "    </tr>\n",
       "    <tr>\n",
       "      <th>Region 2, Midwest</th>\n",
       "      <td>3081839</td>\n",
       "      <td>1176774</td>\n",
       "      <td>2535089</td>\n",
       "      <td>664329</td>\n",
       "      <td>88805</td>\n",
       "    </tr>\n",
       "    <tr>\n",
       "      <th>Region 3, South</th>\n",
       "      <td>4364848</td>\n",
       "      <td>1662075</td>\n",
       "      <td>3631130</td>\n",
       "      <td>934806</td>\n",
       "      <td>126135</td>\n",
       "    </tr>\n",
       "    <tr>\n",
       "      <th>Region 4, West</th>\n",
       "      <td>3389400</td>\n",
       "      <td>1270955</td>\n",
       "      <td>2773197</td>\n",
       "      <td>708960</td>\n",
       "      <td>94533</td>\n",
       "    </tr>\n",
       "  </tbody>\n",
       "</table>\n",
       "</div>"
      ],
      "text/plain": [
       "time_of_day          afternoon  evening  morning   night  overnight\n",
       "Region                                                             \n",
       "Region 1, Northeast    2330393   872835  1912725  500327      68100\n",
       "Region 2, Midwest      3081839  1176774  2535089  664329      88805\n",
       "Region 3, South        4364848  1662075  3631130  934806     126135\n",
       "Region 4, West         3389400  1270955  2773197  708960      94533"
      ]
     },
     "execution_count": 103,
     "metadata": {},
     "output_type": "execute_result"
    }
   ],
   "source": [
    "crosstab4"
   ]
  },
  {
   "cell_type": "code",
   "execution_count": 104,
   "id": "80dd2c02",
   "metadata": {},
   "outputs": [
    {
     "name": "stdout",
     "output_type": "stream",
     "text": [
      "midwest:afternoon  41.0 %\n",
      "midwest:evening  15.35 %\n",
      "midwest:morning  33.65 %\n",
      "midwest:night  8.8 %\n",
      "midwest:overnight  1.2 %\n",
      "northeast:afternoon  40.84 %\n",
      "northeast:evening  15.59 %\n",
      "northeast:morning  33.59 %\n",
      "northeast:night  8.8 %\n",
      "northeast:overnight  1.18 %\n",
      "south:afternoon  40.72 %\n",
      "south:evening  15.51 %\n",
      "south:morning  33.88 %\n",
      "south:night  8.72 %\n",
      "south:overnight  1.18 %\n",
      "west:afternoon  41.15 %\n",
      "west:evening  15.43 %\n",
      "west:morning  33.67 %\n",
      "west:night  8.61 %\n",
      "west:overnight  1.15 %\n"
     ]
    }
   ],
   "source": [
    "#### viewing percentage of customers in each region based on class\n",
    "print('midwest:afternoon ', round(crosstab4.iloc[0,0]/(crosstab4.iloc[0,0]+crosstab4.iloc[0,1]+crosstab4.iloc[0,2]+crosstab4.iloc[0,3]+crosstab4.iloc[0,4])*100, 2),'%')\n",
    "print('midwest:evening ', round(crosstab4.iloc[0,1]/(crosstab4.iloc[0,0]+crosstab4.iloc[0,1]+crosstab4.iloc[0,2]+crosstab4.iloc[0,3]+crosstab4.iloc[0,4])*100, 2),'%')\n",
    "print('midwest:morning ', round(crosstab4.iloc[0,2]/(crosstab4.iloc[0,0]+crosstab4.iloc[0,1]+crosstab4.iloc[0,2]+crosstab4.iloc[0,3]+crosstab4.iloc[0,4])*100, 2),'%')\n",
    "print('midwest:night ', round(crosstab4.iloc[0,3]/(crosstab4.iloc[0,0]+crosstab4.iloc[0,1]+crosstab4.iloc[0,2]+crosstab4.iloc[0,3]+crosstab4.iloc[0,4])*100, 2),'%')\n",
    "print('midwest:overnight ', round(crosstab4.iloc[0,4]/(crosstab4.iloc[0,0]+crosstab4.iloc[0,1]+crosstab4.iloc[0,2]+crosstab4.iloc[0,3]+crosstab4.iloc[0,4])*100, 2),'%')\n",
    "print('northeast:afternoon ', round(crosstab4.iloc[1,0]/7546836*100, 2),'%')\n",
    "print('northeast:evening ', round(crosstab4.iloc[1,1]/7546836*100, 2),'%')\n",
    "print('northeast:morning ', round(crosstab4.iloc[1,2]/7546836*100, 2),'%')\n",
    "print('northeast:night ', round(crosstab4.iloc[1,3]/7546836*100, 2),'%')\n",
    "print('northeast:overnight ', round(crosstab4.iloc[1,4]/7546836*100, 2),'%')\n",
    "print('south:afternoon ', round(crosstab4.iloc[2,0]/10718994*100, 2),'%')\n",
    "print('south:evening ', round(crosstab4.iloc[2,1]/10718994*100, 2),'%')\n",
    "print('south:morning ', round(crosstab4.iloc[2,2]/10718994*100, 2),'%')\n",
    "print('south:night ', round(crosstab4.iloc[2,3]/10718994*100, 2),'%')\n",
    "print('south:overnight ', round(crosstab4.iloc[2,4]/10718994*100, 2),'%')\n",
    "print('west:afternoon ', round(crosstab4.iloc[3,0]/8237045*100, 2),'%')\n",
    "print('west:evening ', round(crosstab4.iloc[3,1]/8237045*100, 2),'%')\n",
    "print('west:morning ', round(crosstab4.iloc[3,2]/8237045*100, 2),'%')\n",
    "print('west:night ', round(crosstab4.iloc[3,3]/8237045*100, 2),'%')\n",
    "print('west:overnight ', round(crosstab4.iloc[3,4]/8237045*100, 2),'%')"
   ]
  },
  {
   "cell_type": "markdown",
   "id": "f41ace87",
   "metadata": {},
   "source": [
    "Again we see very similar time of day orders across all regions"
   ]
  },
  {
   "cell_type": "code",
   "execution_count": 105,
   "id": "e56f14e0",
   "metadata": {},
   "outputs": [],
   "source": [
    "# Creating subsets by USA region\n",
    "df_Northeast =  df_complete[df_complete['Region']=='Region 1, Northeast']\n",
    "df_Midwest =  df_complete[df_complete['Region']=='Region 2, Midwest']\n",
    "df_South =  df_complete[df_complete['Region']=='Region 3, South']\n",
    "df_West =  df_complete[df_complete['Region']=='Region 4, West']"
   ]
  },
  {
   "cell_type": "code",
   "execution_count": 106,
   "id": "7138a081",
   "metadata": {},
   "outputs": [
    {
     "data": {
      "image/png": "[encoded data removed]",
      "text/plain": [
       "<Figure size 432x288 with 1 Axes>"
      ]
     },
     "metadata": {
      "needs_background": "light"
     },
     "output_type": "display_data"
    }
   ],
   "source": [
    "# creating bar chart of northeast department orders\n",
    "bar10 = df_Northeast['department_id'].value_counts().plot.bar()"
   ]
  },
  {
   "cell_type": "code",
   "execution_count": 107,
   "id": "1da79e77",
   "metadata": {},
   "outputs": [
    {
     "data": {
      "image/png": "[encoded data removed]",
      "text/plain": [
       "<Figure size 432x288 with 1 Axes>"
      ]
     },
     "metadata": {
      "needs_background": "light"
     },
     "output_type": "display_data"
    }
   ],
   "source": [
    "# creating bar chart of midwest department orders\n",
    "bar11 = df_Midwest['department_id'].value_counts().plot.bar()"
   ]
  },
  {
   "cell_type": "code",
   "execution_count": 108,
   "id": "7c3a19b0",
   "metadata": {},
   "outputs": [
    {
     "data": {
      "image/png": "[encoded data removed]",
      "text/plain": [
       "<Figure size 432x288 with 1 Axes>"
      ]
     },
     "metadata": {
      "needs_background": "light"
     },
     "output_type": "display_data"
    }
   ],
   "source": [
    "# creating bar chart of South department orders\n",
    "bar12 = df_South['department_id'].value_counts().plot.bar()"
   ]
  },
  {
   "cell_type": "code",
   "execution_count": 109,
   "id": "d06123b7",
   "metadata": {},
   "outputs": [
    {
     "data": {
      "image/png": "[encoded data removed]",
      "text/plain": [
       "<Figure size 432x288 with 1 Axes>"
      ]
     },
     "metadata": {
      "needs_background": "light"
     },
     "output_type": "display_data"
    }
   ],
   "source": [
    "# creating bar chart of West department orders\n",
    "bar13 = df_West['department_id'].value_counts().plot.bar()"
   ]
  },
  {
   "cell_type": "markdown",
   "id": "a9923f23",
   "metadata": {},
   "source": [
    "Again, the regions seem to show the same general favorite departments to order from."
   ]
  },
  {
   "cell_type": "code",
   "execution_count": 110,
   "id": "d8e7ea2d",
   "metadata": {},
   "outputs": [],
   "source": [
    "# Marking the above prices above 15000 as missing\n",
    "df_Northeast.loc[df_Northeast['Total_spent'] >15000, 'Total_spent'] = np.nan"
   ]
  },
  {
   "cell_type": "code",
   "execution_count": 111,
   "id": "683ef254",
   "metadata": {},
   "outputs": [
    {
     "data": {
      "image/png": "[encoded data removed]",
      "text/plain": [
       "<Figure size 432x288 with 1 Axes>"
      ]
     },
     "metadata": {
      "needs_background": "light"
     },
     "output_type": "display_data"
    }
   ],
   "source": [
    "# histogram on what the northeast spends\n",
    "hist4 = df_Northeast['Total_spent'].plot.hist(bins = 40)"
   ]
  },
  {
   "cell_type": "code",
   "execution_count": 112,
   "id": "5d115a21",
   "metadata": {},
   "outputs": [],
   "source": [
    "# Marking the above prices above 15000 as missing\n",
    "df_Midwest.loc[df_Midwest['Total_spent'] >2000, 'Total_spent'] = np.nan"
   ]
  },
  {
   "cell_type": "code",
   "execution_count": 113,
   "id": "3d944f47",
   "metadata": {},
   "outputs": [
    {
     "data": {
      "image/png": "[encoded data removed]",
      "text/plain": [
       "<Figure size 432x288 with 1 Axes>"
      ]
     },
     "metadata": {
      "needs_background": "light"
     },
     "output_type": "display_data"
    }
   ],
   "source": [
    "# histogram on what the Midwest spends\n",
    "hist5 = df_Midwest['Total_spent'].plot.hist(bins = 40)"
   ]
  },
  {
   "cell_type": "code",
   "execution_count": 114,
   "id": "9803b487",
   "metadata": {},
   "outputs": [],
   "source": [
    "# Marking the above prices above 2000 as missing\n",
    "df_South.loc[df_South['Total_spent'] >2000, 'Total_spent'] = np.nan"
   ]
  },
  {
   "cell_type": "code",
   "execution_count": 115,
   "id": "dc3be850",
   "metadata": {},
   "outputs": [
    {
     "data": {
      "image/png": "[encoded data removed]",
      "text/plain": [
       "<Figure size 432x288 with 1 Axes>"
      ]
     },
     "metadata": {
      "needs_background": "light"
     },
     "output_type": "display_data"
    }
   ],
   "source": [
    "# histogram on what the northeast spends\n",
    "hist6 = df_South['Total_spent'].plot.hist(bins = 40)"
   ]
  },
  {
   "cell_type": "code",
   "execution_count": 116,
   "id": "c093492b",
   "metadata": {},
   "outputs": [],
   "source": [
    "# Marking the above prices above 2000 as missing\n",
    "df_West.loc[df_West['Total_spent'] >2000, 'Total_spent'] = np.nan"
   ]
  },
  {
   "cell_type": "code",
   "execution_count": 117,
   "id": "ece502cc",
   "metadata": {},
   "outputs": [
    {
     "data": {
      "image/png": "[encoded data removed]",
      "text/plain": [
       "<Figure size 432x288 with 1 Axes>"
      ]
     },
     "metadata": {
      "needs_background": "light"
     },
     "output_type": "display_data"
    }
   ],
   "source": [
    "# histogram on what the West spends\n",
    "hist7 = df_West['Total_spent'].plot.hist(bins = 40)"
   ]
  },
  {
   "cell_type": "markdown",
   "id": "f6e42be2",
   "metadata": {},
   "source": [
    "Again, we do not see any differences betweenthe regions when it comes to how much they spend"
   ]
  },
  {
   "cell_type": "code",
   "execution_count": 118,
   "id": "f77a1cac",
   "metadata": {},
   "outputs": [],
   "source": [
    "# Taking a look at family status, crossing region with family status\n",
    "# Creating crosstab between loyalty flag and customer frequency\n",
    "Regioncrossfamstatus = pd.crosstab(df_complete['Region'], df_complete['Family_Status'], dropna = False)\n"
   ]
  },
  {
   "cell_type": "code",
   "execution_count": 119,
   "id": "4225ad3f",
   "metadata": {},
   "outputs": [
    {
     "data": {
      "text/html": [
       "<div>\n",
       "<style scoped>\n",
       "    .dataframe tbody tr th:only-of-type {\n",
       "        vertical-align: middle;\n",
       "    }\n",
       "\n",
       "    .dataframe tbody tr th {\n",
       "        vertical-align: top;\n",
       "    }\n",
       "\n",
       "    .dataframe thead th {\n",
       "        text-align: right;\n",
       "    }\n",
       "</style>\n",
       "<table border=\"1\" class=\"dataframe\">\n",
       "  <thead>\n",
       "    <tr style=\"text-align: right;\">\n",
       "      <th>Family_Status</th>\n",
       "      <th>divorced/widowed</th>\n",
       "      <th>living with parents and siblings</th>\n",
       "      <th>married</th>\n",
       "      <th>single</th>\n",
       "    </tr>\n",
       "    <tr>\n",
       "      <th>Region</th>\n",
       "      <th></th>\n",
       "      <th></th>\n",
       "      <th></th>\n",
       "      <th></th>\n",
       "    </tr>\n",
       "  </thead>\n",
       "  <tbody>\n",
       "    <tr>\n",
       "      <th>Region 1, Northeast</th>\n",
       "      <td>501081</td>\n",
       "      <td>268118</td>\n",
       "      <td>4036448</td>\n",
       "      <td>917292</td>\n",
       "    </tr>\n",
       "    <tr>\n",
       "      <th>Region 2, Midwest</th>\n",
       "      <td>646425</td>\n",
       "      <td>366529</td>\n",
       "      <td>5325780</td>\n",
       "      <td>1258851</td>\n",
       "    </tr>\n",
       "    <tr>\n",
       "      <th>Region 3, South</th>\n",
       "      <td>920884</td>\n",
       "      <td>529601</td>\n",
       "      <td>7560929</td>\n",
       "      <td>1780886</td>\n",
       "    </tr>\n",
       "    <tr>\n",
       "      <th>Region 4, West</th>\n",
       "      <td>703535</td>\n",
       "      <td>386393</td>\n",
       "      <td>5834384</td>\n",
       "      <td>1368905</td>\n",
       "    </tr>\n",
       "  </tbody>\n",
       "</table>\n",
       "</div>"
      ],
      "text/plain": [
       "Family_Status        divorced/widowed  living with parents and siblings  \\\n",
       "Region                                                                    \n",
       "Region 1, Northeast            501081                            268118   \n",
       "Region 2, Midwest              646425                            366529   \n",
       "Region 3, South                920884                            529601   \n",
       "Region 4, West                 703535                            386393   \n",
       "\n",
       "Family_Status        married   single  \n",
       "Region                                 \n",
       "Region 1, Northeast  4036448   917292  \n",
       "Region 2, Midwest    5325780  1258851  \n",
       "Region 3, South      7560929  1780886  \n",
       "Region 4, West       5834384  1368905  "
      ]
     },
     "execution_count": 119,
     "metadata": {},
     "output_type": "execute_result"
    }
   ],
   "source": [
    "#Show cross\n",
    "Regioncrossfamstatus"
   ]
  },
  {
   "cell_type": "code",
   "execution_count": 120,
   "id": "f2f0248d",
   "metadata": {},
   "outputs": [
    {
     "data": {
      "image/png": "[encoded data removed]",
      "text/plain": [
       "<Figure size 432x288 with 1 Axes>"
      ]
     },
     "metadata": {
      "needs_background": "light"
     },
     "output_type": "display_data"
    }
   ],
   "source": [
    "Regionvsfamstat= Regioncrossfamstatus.plot(kind=\"bar\", stacked=True, rot=0)"
   ]
  },
  {
   "cell_type": "code",
   "execution_count": 121,
   "id": "8f486a98",
   "metadata": {},
   "outputs": [],
   "source": [
    "# Creating crosstab between loyalty flag and customer frequency\n",
    "Regionfamstatpercent = pd.crosstab(df_complete['Region'], df_complete['Family_Status'], normalize='index')\\\n",
    "       .round(4)*100"
   ]
  },
  {
   "cell_type": "code",
   "execution_count": 122,
   "id": "3cf2f244",
   "metadata": {},
   "outputs": [
    {
     "data": {
      "text/html": [
       "<div>\n",
       "<style scoped>\n",
       "    .dataframe tbody tr th:only-of-type {\n",
       "        vertical-align: middle;\n",
       "    }\n",
       "\n",
       "    .dataframe tbody tr th {\n",
       "        vertical-align: top;\n",
       "    }\n",
       "\n",
       "    .dataframe thead th {\n",
       "        text-align: right;\n",
       "    }\n",
       "</style>\n",
       "<table border=\"1\" class=\"dataframe\">\n",
       "  <thead>\n",
       "    <tr style=\"text-align: right;\">\n",
       "      <th>Family_Status</th>\n",
       "      <th>divorced/widowed</th>\n",
       "      <th>living with parents and siblings</th>\n",
       "      <th>married</th>\n",
       "      <th>single</th>\n",
       "    </tr>\n",
       "    <tr>\n",
       "      <th>Region</th>\n",
       "      <th></th>\n",
       "      <th></th>\n",
       "      <th></th>\n",
       "      <th></th>\n",
       "    </tr>\n",
       "  </thead>\n",
       "  <tbody>\n",
       "    <tr>\n",
       "      <th>Region 1, Northeast</th>\n",
       "      <td>8.76</td>\n",
       "      <td>4.68</td>\n",
       "      <td>70.53</td>\n",
       "      <td>16.03</td>\n",
       "    </tr>\n",
       "    <tr>\n",
       "      <th>Region 2, Midwest</th>\n",
       "      <td>8.51</td>\n",
       "      <td>4.82</td>\n",
       "      <td>70.10</td>\n",
       "      <td>16.57</td>\n",
       "    </tr>\n",
       "    <tr>\n",
       "      <th>Region 3, South</th>\n",
       "      <td>8.53</td>\n",
       "      <td>4.91</td>\n",
       "      <td>70.06</td>\n",
       "      <td>16.50</td>\n",
       "    </tr>\n",
       "    <tr>\n",
       "      <th>Region 4, West</th>\n",
       "      <td>8.48</td>\n",
       "      <td>4.66</td>\n",
       "      <td>70.35</td>\n",
       "      <td>16.51</td>\n",
       "    </tr>\n",
       "  </tbody>\n",
       "</table>\n",
       "</div>"
      ],
      "text/plain": [
       "Family_Status        divorced/widowed  living with parents and siblings  \\\n",
       "Region                                                                    \n",
       "Region 1, Northeast              8.76                              4.68   \n",
       "Region 2, Midwest                8.51                              4.82   \n",
       "Region 3, South                  8.53                              4.91   \n",
       "Region 4, West                   8.48                              4.66   \n",
       "\n",
       "Family_Status        married  single  \n",
       "Region                                \n",
       "Region 1, Northeast    70.53   16.03  \n",
       "Region 2, Midwest      70.10   16.57  \n",
       "Region 3, South        70.06   16.50  \n",
       "Region 4, West         70.35   16.51  "
      ]
     },
     "execution_count": 122,
     "metadata": {},
     "output_type": "execute_result"
    }
   ],
   "source": [
    "#Viewing poercentages\n",
    "Regionfamstatpercent"
   ]
  },
  {
   "cell_type": "code",
   "execution_count": 123,
   "id": "7a4153cd",
   "metadata": {},
   "outputs": [
    {
     "data": {
      "image/png": "[encoded data removed]",
      "text/plain": [
       "<Figure size 432x288 with 1 Axes>"
      ]
     },
     "metadata": {
      "needs_background": "light"
     },
     "output_type": "display_data"
    }
   ],
   "source": [
    "#Looking at family status as a whole\n",
    "bar29 = df_complete['Family_Status'].value_counts().plot.bar()"
   ]
  },
  {
   "cell_type": "code",
   "execution_count": 124,
   "id": "61ea3985",
   "metadata": {},
   "outputs": [],
   "source": [
    "#Crossing customer frequency with age group\n",
    "FrequencyVSAG = pd.crosstab(df_complete['Age_Range'], df_complete['Customer_frequency'], dropna = False)"
   ]
  },
  {
   "cell_type": "code",
   "execution_count": 125,
   "id": "31096727",
   "metadata": {},
   "outputs": [
    {
     "data": {
      "image/png": "[encoded data removed]",
      "text/plain": [
       "<Figure size 432x288 with 1 Axes>"
      ]
     },
     "metadata": {
      "needs_background": "light"
     },
     "output_type": "display_data"
    }
   ],
   "source": [
    "# Printing chart of above cross \n",
    "Frequencyvsagchart= FrequencyVSAG.plot(kind=\"bar\", stacked=True, rot=0)"
   ]
  },
  {
   "cell_type": "code",
   "execution_count": 126,
   "id": "05644cd7",
   "metadata": {},
   "outputs": [],
   "source": [
    "# Creating crosstab between loyalty flag and customer frequency\n",
    "Frequencyvsagpercent = pd.crosstab(df_complete['Age_Range'], df_complete['Customer_frequency'], normalize='index')\\\n",
    "       .round(4)*100"
   ]
  },
  {
   "cell_type": "code",
   "execution_count": 127,
   "id": "4ed1b991",
   "metadata": {},
   "outputs": [
    {
     "data": {
      "text/html": [
       "<div>\n",
       "<style scoped>\n",
       "    .dataframe tbody tr th:only-of-type {\n",
       "        vertical-align: middle;\n",
       "    }\n",
       "\n",
       "    .dataframe tbody tr th {\n",
       "        vertical-align: top;\n",
       "    }\n",
       "\n",
       "    .dataframe thead th {\n",
       "        text-align: right;\n",
       "    }\n",
       "</style>\n",
       "<table border=\"1\" class=\"dataframe\">\n",
       "  <thead>\n",
       "    <tr style=\"text-align: right;\">\n",
       "      <th>Customer_frequency</th>\n",
       "      <th>Frequent_customer</th>\n",
       "      <th>Non_frequent_customer</th>\n",
       "      <th>Regular_customer</th>\n",
       "    </tr>\n",
       "    <tr>\n",
       "      <th>Age_Range</th>\n",
       "      <th></th>\n",
       "      <th></th>\n",
       "      <th></th>\n",
       "    </tr>\n",
       "  </thead>\n",
       "  <tbody>\n",
       "    <tr>\n",
       "      <th>Adult</th>\n",
       "      <td>66.47</td>\n",
       "      <td>11.30</td>\n",
       "      <td>22.24</td>\n",
       "    </tr>\n",
       "    <tr>\n",
       "      <th>Seniors</th>\n",
       "      <td>66.81</td>\n",
       "      <td>11.10</td>\n",
       "      <td>22.10</td>\n",
       "    </tr>\n",
       "    <tr>\n",
       "      <th>Young Adult</th>\n",
       "      <td>66.38</td>\n",
       "      <td>11.22</td>\n",
       "      <td>22.40</td>\n",
       "    </tr>\n",
       "  </tbody>\n",
       "</table>\n",
       "</div>"
      ],
      "text/plain": [
       "Customer_frequency  Frequent_customer  Non_frequent_customer  Regular_customer\n",
       "Age_Range                                                                     \n",
       "Adult                           66.47                  11.30             22.24\n",
       "Seniors                         66.81                  11.10             22.10\n",
       "Young Adult                     66.38                  11.22             22.40"
      ]
     },
     "execution_count": 127,
     "metadata": {},
     "output_type": "execute_result"
    }
   ],
   "source": [
    "#Showing work\n",
    "Frequencyvsagpercent"
   ]
  },
  {
   "cell_type": "code",
   "execution_count": 130,
   "id": "18d7ceac",
   "metadata": {},
   "outputs": [],
   "source": [
    "# Creating crosstab between age range and department id\n",
    "agevsdep = pd.crosstab(df_complete['Age_Range'], df_complete['department_id'], normalize='index')\\\n",
    "       .round(4)*100"
   ]
  },
  {
   "cell_type": "code",
   "execution_count": 131,
   "id": "3c6d7813",
   "metadata": {},
   "outputs": [
    {
     "data": {
      "text/html": [
       "<div>\n",
       "<style scoped>\n",
       "    .dataframe tbody tr th:only-of-type {\n",
       "        vertical-align: middle;\n",
       "    }\n",
       "\n",
       "    .dataframe tbody tr th {\n",
       "        vertical-align: top;\n",
       "    }\n",
       "\n",
       "    .dataframe thead th {\n",
       "        text-align: right;\n",
       "    }\n",
       "</style>\n",
       "<table border=\"1\" class=\"dataframe\">\n",
       "  <thead>\n",
       "    <tr style=\"text-align: right;\">\n",
       "      <th>department_id</th>\n",
       "      <th>1</th>\n",
       "      <th>2</th>\n",
       "      <th>3</th>\n",
       "      <th>4</th>\n",
       "      <th>5</th>\n",
       "      <th>6</th>\n",
       "      <th>7</th>\n",
       "      <th>8</th>\n",
       "      <th>9</th>\n",
       "      <th>10</th>\n",
       "      <th>11</th>\n",
       "      <th>12</th>\n",
       "      <th>13</th>\n",
       "      <th>14</th>\n",
       "      <th>15</th>\n",
       "      <th>16</th>\n",
       "      <th>17</th>\n",
       "      <th>18</th>\n",
       "      <th>19</th>\n",
       "      <th>20</th>\n",
       "      <th>21</th>\n",
       "    </tr>\n",
       "    <tr>\n",
       "      <th>Age_Range</th>\n",
       "      <th></th>\n",
       "      <th></th>\n",
       "      <th></th>\n",
       "      <th></th>\n",
       "      <th></th>\n",
       "      <th></th>\n",
       "      <th></th>\n",
       "      <th></th>\n",
       "      <th></th>\n",
       "      <th></th>\n",
       "      <th></th>\n",
       "      <th></th>\n",
       "      <th></th>\n",
       "      <th></th>\n",
       "      <th></th>\n",
       "      <th></th>\n",
       "      <th></th>\n",
       "      <th></th>\n",
       "      <th></th>\n",
       "      <th></th>\n",
       "      <th></th>\n",
       "    </tr>\n",
       "  </thead>\n",
       "  <tbody>\n",
       "    <tr>\n",
       "      <th>Adult</th>\n",
       "      <td>6.89</td>\n",
       "      <td>0.11</td>\n",
       "      <td>3.62</td>\n",
       "      <td>29.26</td>\n",
       "      <td>0.48</td>\n",
       "      <td>0.83</td>\n",
       "      <td>8.33</td>\n",
       "      <td>0.30</td>\n",
       "      <td>2.67</td>\n",
       "      <td>0.10</td>\n",
       "      <td>1.40</td>\n",
       "      <td>2.18</td>\n",
       "      <td>5.78</td>\n",
       "      <td>2.17</td>\n",
       "      <td>3.29</td>\n",
       "      <td>16.61</td>\n",
       "      <td>2.28</td>\n",
       "      <td>1.34</td>\n",
       "      <td>8.91</td>\n",
       "      <td>3.24</td>\n",
       "      <td>0.21</td>\n",
       "    </tr>\n",
       "    <tr>\n",
       "      <th>Seniors</th>\n",
       "      <td>6.92</td>\n",
       "      <td>0.11</td>\n",
       "      <td>3.61</td>\n",
       "      <td>29.31</td>\n",
       "      <td>0.46</td>\n",
       "      <td>0.83</td>\n",
       "      <td>8.34</td>\n",
       "      <td>0.31</td>\n",
       "      <td>2.67</td>\n",
       "      <td>0.11</td>\n",
       "      <td>1.37</td>\n",
       "      <td>2.22</td>\n",
       "      <td>5.80</td>\n",
       "      <td>2.15</td>\n",
       "      <td>3.29</td>\n",
       "      <td>16.63</td>\n",
       "      <td>2.30</td>\n",
       "      <td>1.28</td>\n",
       "      <td>8.87</td>\n",
       "      <td>3.24</td>\n",
       "      <td>0.21</td>\n",
       "    </tr>\n",
       "    <tr>\n",
       "      <th>Young Adult</th>\n",
       "      <td>6.88</td>\n",
       "      <td>0.11</td>\n",
       "      <td>3.63</td>\n",
       "      <td>29.18</td>\n",
       "      <td>0.49</td>\n",
       "      <td>0.84</td>\n",
       "      <td>8.20</td>\n",
       "      <td>0.30</td>\n",
       "      <td>2.68</td>\n",
       "      <td>0.11</td>\n",
       "      <td>1.37</td>\n",
       "      <td>2.18</td>\n",
       "      <td>5.78</td>\n",
       "      <td>2.20</td>\n",
       "      <td>3.31</td>\n",
       "      <td>16.77</td>\n",
       "      <td>2.26</td>\n",
       "      <td>1.28</td>\n",
       "      <td>8.96</td>\n",
       "      <td>3.25</td>\n",
       "      <td>0.22</td>\n",
       "    </tr>\n",
       "  </tbody>\n",
       "</table>\n",
       "</div>"
      ],
      "text/plain": [
       "department_id    1     2     3      4     5     6     7     8     9     10  \\\n",
       "Age_Range                                                                    \n",
       "Adult          6.89  0.11  3.62  29.26  0.48  0.83  8.33  0.30  2.67  0.10   \n",
       "Seniors        6.92  0.11  3.61  29.31  0.46  0.83  8.34  0.31  2.67  0.11   \n",
       "Young Adult    6.88  0.11  3.63  29.18  0.49  0.84  8.20  0.30  2.68  0.11   \n",
       "\n",
       "department_id    11    12    13    14    15     16    17    18    19    20  \\\n",
       "Age_Range                                                                    \n",
       "Adult          1.40  2.18  5.78  2.17  3.29  16.61  2.28  1.34  8.91  3.24   \n",
       "Seniors        1.37  2.22  5.80  2.15  3.29  16.63  2.30  1.28  8.87  3.24   \n",
       "Young Adult    1.37  2.18  5.78  2.20  3.31  16.77  2.26  1.28  8.96  3.25   \n",
       "\n",
       "department_id    21  \n",
       "Age_Range            \n",
       "Adult          0.21  \n",
       "Seniors        0.21  \n",
       "Young Adult    0.22  "
      ]
     },
     "metadata": {},
     "output_type": "display_data"
    }
   ],
   "source": [
    "#showing crosstab\n",
    "with pd.option_context(\"display.max_columns\", None):\n",
    "    display(agevsdep)"
   ]
  },
  {
   "cell_type": "code",
   "execution_count": 134,
   "id": "ebaaabc5",
   "metadata": {},
   "outputs": [],
   "source": [
    "# Crossing age range with family status\n",
    "AgerngVSfamstat = pd.crosstab(df_complete['Age_Range'], df_complete['Family_Status'], dropna = False)"
   ]
  },
  {
   "cell_type": "code",
   "execution_count": 135,
   "id": "4eb08678",
   "metadata": {},
   "outputs": [],
   "source": [
    "# Finding percentages of above\n",
    "AgerngVSfamstatpercent = pd.crosstab(df_complete['Age_Range'], df_complete['Family_Status'], normalize='index')\\\n",
    "       .round(4)*100"
   ]
  },
  {
   "cell_type": "code",
   "execution_count": 136,
   "id": "9c51f151",
   "metadata": {},
   "outputs": [
    {
     "data": {
      "text/html": [
       "<div>\n",
       "<style scoped>\n",
       "    .dataframe tbody tr th:only-of-type {\n",
       "        vertical-align: middle;\n",
       "    }\n",
       "\n",
       "    .dataframe tbody tr th {\n",
       "        vertical-align: top;\n",
       "    }\n",
       "\n",
       "    .dataframe thead th {\n",
       "        text-align: right;\n",
       "    }\n",
       "</style>\n",
       "<table border=\"1\" class=\"dataframe\">\n",
       "  <thead>\n",
       "    <tr style=\"text-align: right;\">\n",
       "      <th>Family_Status</th>\n",
       "      <th>divorced/widowed</th>\n",
       "      <th>living with parents and siblings</th>\n",
       "      <th>married</th>\n",
       "      <th>single</th>\n",
       "    </tr>\n",
       "    <tr>\n",
       "      <th>Age_Range</th>\n",
       "      <th></th>\n",
       "      <th></th>\n",
       "      <th></th>\n",
       "      <th></th>\n",
       "    </tr>\n",
       "  </thead>\n",
       "  <tbody>\n",
       "    <tr>\n",
       "      <th>Adult</th>\n",
       "      <td>4.44</td>\n",
       "      <td>0.00</td>\n",
       "      <td>74.79</td>\n",
       "      <td>20.77</td>\n",
       "    </tr>\n",
       "    <tr>\n",
       "      <th>Seniors</th>\n",
       "      <td>24.72</td>\n",
       "      <td>0.00</td>\n",
       "      <td>75.28</td>\n",
       "      <td>0.00</td>\n",
       "    </tr>\n",
       "    <tr>\n",
       "      <th>Young Adult</th>\n",
       "      <td>0.00</td>\n",
       "      <td>16.95</td>\n",
       "      <td>58.16</td>\n",
       "      <td>24.89</td>\n",
       "    </tr>\n",
       "  </tbody>\n",
       "</table>\n",
       "</div>"
      ],
      "text/plain": [
       "Family_Status  divorced/widowed  living with parents and siblings  married  \\\n",
       "Age_Range                                                                    \n",
       "Adult                      4.44                              0.00    74.79   \n",
       "Seniors                   24.72                              0.00    75.28   \n",
       "Young Adult                0.00                             16.95    58.16   \n",
       "\n",
       "Family_Status  single  \n",
       "Age_Range              \n",
       "Adult           20.77  \n",
       "Seniors          0.00  \n",
       "Young Adult     24.89  "
      ]
     },
     "execution_count": 136,
     "metadata": {},
     "output_type": "execute_result"
    }
   ],
   "source": [
    "# Checking work\n",
    "AgerngVSfamstatpercent"
   ]
  },
  {
   "cell_type": "code",
   "execution_count": 137,
   "id": "bf1bc338",
   "metadata": {},
   "outputs": [
    {
     "data": {
      "image/png": "[encoded data removed]",
      "text/plain": [
       "<Figure size 432x288 with 1 Axes>"
      ]
     },
     "metadata": {
      "needs_background": "light"
     },
     "output_type": "display_data"
    }
   ],
   "source": [
    "# Printing chart of above cross \n",
    "AgerngVSfamstatbar= AgerngVSfamstat.plot(kind=\"bar\", stacked=True, rot=0)"
   ]
  },
  {
   "cell_type": "code",
   "execution_count": 138,
   "id": "8a0e60f7",
   "metadata": {},
   "outputs": [
    {
     "data": {
      "text/plain": [
       "Middle Class          28058906\n",
       "Lower Middle Class     3764367\n",
       "Poor or near poor       523780\n",
       "Wealthy                  58988\n",
       "Name: income_flag, dtype: int64"
      ]
     },
     "execution_count": 138,
     "metadata": {},
     "output_type": "execute_result"
    }
   ],
   "source": [
    "#Double checking value counts\n",
    "\n",
    "df_complete['income_flag'].value_counts(dropna = False)"
   ]
  },
  {
   "cell_type": "code",
   "execution_count": 139,
   "id": "b7124b22",
   "metadata": {},
   "outputs": [
    {
     "data": {
      "text/plain": [
       "Adult          14683931\n",
       "Young Adult     9146749\n",
       "Seniors         8575361\n",
       "Name: Age_Range, dtype: int64"
      ]
     },
     "execution_count": 139,
     "metadata": {},
     "output_type": "execute_result"
    }
   ],
   "source": [
    "df_complete['Age_Range'].value_counts(dropna = False)"
   ]
  },
  {
   "cell_type": "code",
   "execution_count": 140,
   "id": "6276e34b",
   "metadata": {},
   "outputs": [
    {
     "data": {
      "text/plain": [
       "Region 3, South        10792300\n",
       "Region 4, West          8293217\n",
       "Region 2, Midwest       7597585\n",
       "Region 1, Northeast     5722939\n",
       "Name: Region, dtype: int64"
      ]
     },
     "execution_count": 140,
     "metadata": {},
     "output_type": "execute_result"
    }
   ],
   "source": [
    "df_complete['Region'].value_counts(dropna = False)"
   ]
  },
  {
   "cell_type": "code",
   "execution_count": 142,
   "id": "51545407",
   "metadata": {},
   "outputs": [
    {
     "data": {
      "text/plain": [
       "Normal activity customer    30965686\n",
       "Low activity customer        1440355\n",
       "Name: low_activity_flag, dtype: int64"
      ]
     },
     "execution_count": 142,
     "metadata": {},
     "output_type": "execute_result"
    }
   ],
   "source": [
    "df_complete['low_activity_flag'].value_counts(dropna = False)"
   ]
  },
  {
   "cell_type": "code",
   "execution_count": 143,
   "id": "aaedfa92",
   "metadata": {},
   "outputs": [
    {
     "data": {
      "text/plain": [
       "Low_spender     31771789\n",
       "High_spender      634252\n",
       "Name: Spender_type, dtype: int64"
      ]
     },
     "execution_count": 143,
     "metadata": {},
     "output_type": "execute_result"
    }
   ],
   "source": [
    "df_complete['Spender_type'].value_counts(dropna = False)"
   ]
  },
  {
   "cell_type": "code",
   "execution_count": 144,
   "id": "628aa198",
   "metadata": {},
   "outputs": [
    {
     "data": {
      "text/plain": [
       "Regular customer    15877395\n",
       "Loyal customer      10284396\n",
       "New customer         6244250\n",
       "Name: loyalty_flag, dtype: int64"
      ]
     },
     "execution_count": 144,
     "metadata": {},
     "output_type": "execute_result"
    }
   ],
   "source": [
    "df_complete['loyalty_flag'].value_counts(dropna = False)"
   ]
  },
  {
   "cell_type": "code",
   "execution_count": 146,
   "id": "f8332941",
   "metadata": {},
   "outputs": [
    {
     "data": {
      "text/plain": [
       "Regularly busy    22360936\n",
       "Busiest days       6204404\n",
       "Slowest days       3840701\n",
       "Name: busiest_days, dtype: int64"
      ]
     },
     "execution_count": 146,
     "metadata": {},
     "output_type": "execute_result"
    }
   ],
   "source": [
    "df_complete['busiest_days'].value_counts(dropna = False)"
   ]
  },
  {
   "cell_type": "code",
   "execution_count": 147,
   "id": "3cb45d97",
   "metadata": {},
   "outputs": [
    {
     "data": {
      "text/plain": [
       "Regularly busy    22417684\n",
       "Busiest day        6204404\n",
       "Least busy         3783953\n",
       "Name: busiest_day, dtype: int64"
      ]
     },
     "execution_count": 147,
     "metadata": {},
     "output_type": "execute_result"
    }
   ],
   "source": [
    "df_complete['busiest_day'].value_counts(dropna = False)"
   ]
  },
  {
   "cell_type": "code",
   "execution_count": 148,
   "id": "b7e2d09c",
   "metadata": {},
   "outputs": [
    {
     "data": {
      "text/plain": [
       "Mid-range product     21861997\n",
       "Low-range product     10126366\n",
       "High-range product      417678\n",
       "Name: price_range_loc, dtype: int64"
      ]
     },
     "execution_count": 148,
     "metadata": {},
     "output_type": "execute_result"
    }
   ],
   "source": [
    "df_complete['price_range_loc'].value_counts(dropna = False)"
   ]
  },
  {
   "cell_type": "code",
   "execution_count": 92,
   "id": "626baefc",
   "metadata": {},
   "outputs": [],
   "source": [
    "# Export data to pkl\n",
    "\n",
    "df_region.to_pickle(os.path.join(path, '02 Data','Prepared Data', 'df_region.pkl'))\n",
    "\n",
    "df_Young_adults.to_pickle(os.path.join(path, '02 Data','Prepared Data', 'Young_Adults.pkl'))\n",
    "\n",
    "df_Adults.to_pickle(os.path.join(path, '02 Data','Prepared Data', 'Adults.pkl'))\n",
    "\n",
    "df_Seniors.to_pickle(os.path.join(path, '02 Data','Prepared Data', 'Seniors.pkl'))\n",
    "\n",
    "df_complete.to_pickle(os.path.join(path, '02 Data','Prepared Data', 'Final_full_combined'))"
   ]
  },
  {
   "cell_type": "code",
   "execution_count": 139,
   "id": "5162a169",
   "metadata": {},
   "outputs": [],
   "source": [
    "# Exporting visualizations\n",
    "bar1.figure.savefig(os.path.join(path, '04 Analysis','Visualizations', 'Young_adult_TOD.png'))\n",
    "bar2.figure.savefig(os.path.join(path, '04 Analysis','Visualizations', 'Young_adult_dept_ID.png'))\n",
    "bar3.figure.savefig(os.path.join(path, '04 Analysis','Visualizations', 'Young_adult_income.png'))\n",
    "hist1.figure.savefig(os.path.join(path, '04 Analysis','Visualizations', 'Young_adult_prices.png'))\n",
    "bar4.figure.savefig(os.path.join(path, '04 Analysis','Visualizations', 'Adult_TOD.png'))\n",
    "bar5.figure.savefig(os.path.join(path, '04 Analysis','Visualizations', 'Adult_Dept_ID.png'))\n",
    "bar6.figure.savefig(os.path.join(path, '04 Analysis','Visualizations', 'Adult_income.png'))\n",
    "hist2.figure.savefig(os.path.join(path, '04 Analysis','Visualizations', 'Adult_prices.png'))\n",
    "bar7.figure.savefig(os.path.join(path, '04 Analysis','Visualizations', 'Senior_TOD.png'))\n",
    "bar8.figure.savefig(os.path.join(path, '04 Analysis','Visualizations', 'Senior_Dept_ID.png'))\n",
    "bar9.figure.savefig(os.path.join(path, '04 Analysis','Visualizations', 'Senior_income.png'))\n",
    "hist3.figure.savefig(os.path.join(path, '04 Analysis','Visualizations', 'Senior_prices.png'))\n",
    "bar10.figure.savefig(os.path.join(path, '04 Analysis','Visualizations', 'Northeast_DEP_ID.png'))\n",
    "bar11.figure.savefig(os.path.join(path, '04 Analysis','Visualizations', 'Midwest_DEP_ID.png'))\n",
    "bar12.figure.savefig(os.path.join(path, '04 Analysis','Visualizations', 'South_DEP_ID.png'))\n",
    "bar13.figure.savefig(os.path.join(path, '04 Analysis','Visualizations', 'West_DEP_ID.png'))\n",
    "hist4.figure.savefig(os.path.join(path, '04 Analysis','Visualizations', 'Northeast_TOT_spent.png'))\n",
    "hist5.figure.savefig(os.path.join(path, '04 Analysis','Visualizations', 'Midwest_TOT_Spent.png'))\n",
    "hist6.figure.savefig(os.path.join(path, '04 Analysis','Visualizations', 'South_TOT_Spent.png'))\n",
    "hist7.figure.savefig(os.path.join(path, '04 Analysis','Visualizations', 'West_TOT_Spent.png'))\n"
   ]
  },
  {
   "cell_type": "code",
   "execution_count": null,
   "id": "c0f59dda",
   "metadata": {},
   "outputs": [],
   "source": []
  }
 ],
 "metadata": {
  "kernelspec": {
   "display_name": "Python 3 (ipykernel)",
   "language": "python",
   "name": "python3"
  },
  "language_info": {
   "codemirror_mode": {
    "name": "ipython",
    "version": 3
   },
   "file_extension": ".py",
   "mimetype": "text/x-python",
   "name": "python",
   "nbconvert_exporter": "python",
   "pygments_lexer": "ipython3",
   "version": "3.9.12"
  }
 },
 "nbformat": 4,
 "nbformat_minor": 5
}
